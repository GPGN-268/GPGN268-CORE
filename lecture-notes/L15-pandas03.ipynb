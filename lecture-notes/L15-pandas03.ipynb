{
 "cells": [
  {
   "cell_type": "markdown",
   "id": "603197e2-b83f-46f2-b9f0-4d79f9b7c68f",
   "metadata": {},
   "source": [
    " 🌎 GPGN268 - Geophysical Data Analysis\n",
    "- **Instructor:** Bia Villas Boas  \n",
    "- **TA:** Seunghoo Kim\n",
    "\n",
    "## Lecture 14: More on Pandas, dictionaries, and file I/O\n",
    "\n",
    "#### 🎯 Learning Objectives from this Lecture:\n",
    "- Select individual values from a Pandas dataframe.\n",
    "- Select entire rows or entire columns from a dataframe.\n",
    "- Select a subset of both rows and columns from a dataframe in a single operation.\n",
    "- Select a subset of a dataframe by a single Boolean criterion."
   ]
  },
  {
   "cell_type": "code",
   "execution_count": 17,
   "id": "555468cd-a025-418e-ba8d-3449c77f7444",
   "metadata": {},
   "outputs": [],
   "source": [
    "import numpy as np\n",
    "import pandas as pd\n",
    "import matplotlib.pyplot as plt"
   ]
  },
  {
   "cell_type": "markdown",
   "id": "7d5c3d83-f74c-4937-aad8-8237c4fa4b88",
   "metadata": {},
   "source": [
    "### Dictionaries\n",
    "So far we've worked with numpy arrays and pythin lists, but there is one important structure in Python that we havent discussed: dictionaries. This is an extremely useful data structure. It maps keys to values.\n",
    "\n",
    "Dictionaries are unordered!"
   ]
  },
  {
   "cell_type": "code",
   "execution_count": 7,
   "id": "12d76d7f-27c2-4cc0-a2f2-0c9d3f3ed87e",
   "metadata": {},
   "outputs": [
    {
     "name": "stdout",
     "output_type": "stream",
     "text": [
      "<class 'dict'>\n",
      "{'name': 'Coldplay', 'studio albums': 9}\n",
      "<class 'dict'>\n",
      "{'name': 'Geophysics', 'tracks': 6}\n"
     ]
    }
   ],
   "source": [
    "# Different ways to create disctionaries\n",
    "\n",
    "# Using curly brackets-> key: value\n",
    "band_facts = {'name': 'Coldplay', 'studio albums': 9}\n",
    "\n",
    "# Usinf the function dict -> key=value\n",
    "major_facts = dict(name='Geophysics', tracks=6)\n",
    "\n",
    "print(type(band_facts))\n",
    "print(band_facts)\n",
    "print(type(major_facts))\n",
    "print(major_facts)"
   ]
  },
  {
   "cell_type": "markdown",
   "id": "5a4a7100-442c-46cd-8044-6e7bf5b164d5",
   "metadata": {},
   "source": [
    "To access values in a dictionary, you can't use an index (because dictionaries are not ordered). You access values using their keys:"
   ]
  },
  {
   "cell_type": "code",
   "execution_count": 8,
   "id": "eccec61a-cc22-463a-bccc-de9ea622e748",
   "metadata": {},
   "outputs": [
    {
     "data": {
      "text/plain": [
       "'Coldplay'"
      ]
     },
     "execution_count": 8,
     "metadata": {},
     "output_type": "execute_result"
    }
   ],
   "source": [
    "band_facts['name']"
   ]
  },
  {
   "cell_type": "markdown",
   "id": "db6769f4-ee21-42ed-bf91-7ba53c9afbad",
   "metadata": {},
   "source": [
    "Square brackets [...] are Python for “get item” in many different contexts."
   ]
  },
  {
   "cell_type": "markdown",
   "id": "70fb77bf-d15f-4148-b83f-a7d32cec1ac2",
   "metadata": {},
   "source": [
    "You can check for the presence of a key"
   ]
  },
  {
   "cell_type": "code",
   "execution_count": 10,
   "id": "16bf2492-e490-4bd1-b135-5058e1d7709a",
   "metadata": {},
   "outputs": [
    {
     "data": {
      "text/plain": [
       "True"
      ]
     },
     "execution_count": 10,
     "metadata": {},
     "output_type": "execute_result"
    }
   ],
   "source": [
    "# check if the dictionary major_facts has the key \"tracks\"\n",
    "'tracks' in major_facts"
   ]
  },
  {
   "cell_type": "code",
   "execution_count": 11,
   "id": "d635ef46-e0c2-48a9-94e3-594806dd1ed4",
   "metadata": {},
   "outputs": [
    {
     "data": {
      "text/plain": [
       "False"
      ]
     },
     "execution_count": 11,
     "metadata": {},
     "output_type": "execute_result"
    }
   ],
   "source": [
    "# check if the dictionary major_facts has the key \"students\"\n",
    "'students' in major_facts"
   ]
  },
  {
   "cell_type": "markdown",
   "id": "3751ceb0-3699-448e-8b3f-ef13fa2a2bc6",
   "metadata": {},
   "source": [
    "If you try to access a key that doesn't exist in the dictionary, you will get an error:"
   ]
  },
  {
   "cell_type": "code",
   "execution_count": 13,
   "id": "e0b07f9f-642c-4360-b4c5-77f47e7976f6",
   "metadata": {},
   "outputs": [
    {
     "ename": "KeyError",
     "evalue": "'grammys'",
     "output_type": "error",
     "traceback": [
      "\u001b[0;31m---------------------------------------------------------------------------\u001b[0m",
      "\u001b[0;31mKeyError\u001b[0m                                  Traceback (most recent call last)",
      "Cell \u001b[0;32mIn[13], line 2\u001b[0m\n\u001b[1;32m      1\u001b[0m \u001b[38;5;66;03m# try to access a non-existant key\u001b[39;00m\n\u001b[0;32m----> 2\u001b[0m \u001b[43mband_facts\u001b[49m\u001b[43m[\u001b[49m\u001b[38;5;124;43m'\u001b[39;49m\u001b[38;5;124;43mgrammys\u001b[39;49m\u001b[38;5;124;43m'\u001b[39;49m\u001b[43m]\u001b[49m\n",
      "\u001b[0;31mKeyError\u001b[0m: 'grammys'"
     ]
    }
   ],
   "source": [
    "# try to access a non-existant key\n",
    "band_facts['grammys']"
   ]
  },
  {
   "cell_type": "markdown",
   "id": "a25cb140-27c0-4bb4-affd-954ae0f9c108",
   "metadata": {},
   "source": [
    "You can add new keys to a dictonary:"
   ]
  },
  {
   "cell_type": "code",
   "execution_count": 15,
   "id": "f3c22c3b-4406-4b92-8d02-eda313abd82b",
   "metadata": {},
   "outputs": [
    {
     "data": {
      "text/plain": [
       "{'name': 'Coldplay', 'studio albums': 9, 'grammys': 7}"
      ]
     },
     "execution_count": 15,
     "metadata": {},
     "output_type": "execute_result"
    }
   ],
   "source": [
    "band_facts['grammys'] = 7\n",
    "band_facts"
   ]
  },
  {
   "cell_type": "markdown",
   "id": "6fc76ded-b1ee-4a69-8cad-8c4de84576a6",
   "metadata": {},
   "source": [
    "A very useful trick is to iterate over keys:"
   ]
  },
  {
   "cell_type": "code",
   "execution_count": 16,
   "id": "47287ca8-1b36-4890-b0d6-8ec448036236",
   "metadata": {},
   "outputs": [
    {
     "name": "stdout",
     "output_type": "stream",
     "text": [
      "name Coldplay\n",
      "studio albums 9\n",
      "grammys 7\n"
     ]
    }
   ],
   "source": [
    "# iterate over keys\n",
    "for k in band_facts:\n",
    "    print(k, band_facts[k])"
   ]
  },
  {
   "cell_type": "markdown",
   "id": "f209c25b-a353-4f67-8967-704563b0f4dc",
   "metadata": {},
   "source": [
    "We were talking about `pandas`, so why we've suddenly change to dictionaries? Well it turns out dictionaries are fundamental to DataFrames. Let's see how."
   ]
  },
  {
   "cell_type": "markdown",
   "id": "e6fbdeb2-2bde-4ed3-8ccd-328a7c8b10aa",
   "metadata": {},
   "source": [
    "### Creating DataFrames from Dictionaries"
   ]
  },
  {
   "cell_type": "code",
   "execution_count": 18,
   "id": "97231721-9e83-40fc-a9cb-03e38962cf44",
   "metadata": {},
   "outputs": [
    {
     "data": {
      "text/html": [
       "<div>\n",
       "<style scoped>\n",
       "    .dataframe tbody tr th:only-of-type {\n",
       "        vertical-align: middle;\n",
       "    }\n",
       "\n",
       "    .dataframe tbody tr th {\n",
       "        vertical-align: top;\n",
       "    }\n",
       "\n",
       "    .dataframe thead th {\n",
       "        text-align: right;\n",
       "    }\n",
       "</style>\n",
       "<table border=\"1\" class=\"dataframe\">\n",
       "  <thead>\n",
       "    <tr style=\"text-align: right;\">\n",
       "      <th></th>\n",
       "      <th>mass</th>\n",
       "      <th>diameter</th>\n",
       "      <th>rotation_period</th>\n",
       "    </tr>\n",
       "  </thead>\n",
       "  <tbody>\n",
       "    <tr>\n",
       "      <th>Mercury</th>\n",
       "      <td>3.000000e+23</td>\n",
       "      <td>4879000.0</td>\n",
       "      <td>1407.6</td>\n",
       "    </tr>\n",
       "    <tr>\n",
       "      <th>Venus</th>\n",
       "      <td>4.870000e+24</td>\n",
       "      <td>12104000.0</td>\n",
       "      <td>NaN</td>\n",
       "    </tr>\n",
       "    <tr>\n",
       "      <th>Earth</th>\n",
       "      <td>5.970000e+24</td>\n",
       "      <td>12756000.0</td>\n",
       "      <td>23.9</td>\n",
       "    </tr>\n",
       "  </tbody>\n",
       "</table>\n",
       "</div>"
      ],
      "text/plain": [
       "                 mass    diameter  rotation_period\n",
       "Mercury  3.000000e+23   4879000.0           1407.6\n",
       "Venus    4.870000e+24  12104000.0              NaN\n",
       "Earth    5.970000e+24  12756000.0             23.9"
      ]
     },
     "execution_count": 18,
     "metadata": {},
     "output_type": "execute_result"
    }
   ],
   "source": [
    "# first we create a dictionary\n",
    "data = {'mass': [0.3e24, 4.87e24, 5.97e24],       # kg\n",
    "        'diameter': [4879e3, 12_104e3, 12_756e3], # m\n",
    "        'rotation_period': [1407.6, np.nan, 23.9] # h\n",
    "       }\n",
    "df = pd.DataFrame(data, index=['Mercury', 'Venus', 'Earth'])\n",
    "df"
   ]
  },
  {
   "cell_type": "markdown",
   "id": "10977356-7127-4620-9aae-c310d17cccd6",
   "metadata": {},
   "source": [
    "Pandas handles missing data very elegantly, keeping track of it through all calculations"
   ]
  },
  {
   "cell_type": "code",
   "execution_count": 19,
   "id": "ad27b084-eca9-4e52-ba5f-de3942654f47",
   "metadata": {},
   "outputs": [
    {
     "name": "stdout",
     "output_type": "stream",
     "text": [
      "<class 'pandas.core.frame.DataFrame'>\n",
      "Index: 3 entries, Mercury to Earth\n",
      "Data columns (total 3 columns):\n",
      " #   Column           Non-Null Count  Dtype  \n",
      "---  ------           --------------  -----  \n",
      " 0   mass             3 non-null      float64\n",
      " 1   diameter         3 non-null      float64\n",
      " 2   rotation_period  2 non-null      float64\n",
      "dtypes: float64(3)\n",
      "memory usage: 96.0+ bytes\n"
     ]
    }
   ],
   "source": [
    "df.info()"
   ]
  },
  {
   "cell_type": "markdown",
   "id": "54f83a60-ac79-45e8-a0a1-ccab05999f97",
   "metadata": {},
   "source": [
    "As a recap, we can look at summary statistics using the `describe` method:"
   ]
  },
  {
   "cell_type": "code",
   "execution_count": 21,
   "id": "889fcfbe-a1f1-4631-9586-2de53a458bd7",
   "metadata": {},
   "outputs": [
    {
     "data": {
      "text/html": [
       "<div>\n",
       "<style scoped>\n",
       "    .dataframe tbody tr th:only-of-type {\n",
       "        vertical-align: middle;\n",
       "    }\n",
       "\n",
       "    .dataframe tbody tr th {\n",
       "        vertical-align: top;\n",
       "    }\n",
       "\n",
       "    .dataframe thead th {\n",
       "        text-align: right;\n",
       "    }\n",
       "</style>\n",
       "<table border=\"1\" class=\"dataframe\">\n",
       "  <thead>\n",
       "    <tr style=\"text-align: right;\">\n",
       "      <th></th>\n",
       "      <th>mass</th>\n",
       "      <th>diameter</th>\n",
       "      <th>rotation_period</th>\n",
       "    </tr>\n",
       "  </thead>\n",
       "  <tbody>\n",
       "    <tr>\n",
       "      <th>count</th>\n",
       "      <td>3.000000e+00</td>\n",
       "      <td>3.000000e+00</td>\n",
       "      <td>2.000000</td>\n",
       "    </tr>\n",
       "    <tr>\n",
       "      <th>mean</th>\n",
       "      <td>3.713333e+24</td>\n",
       "      <td>9.913000e+06</td>\n",
       "      <td>715.750000</td>\n",
       "    </tr>\n",
       "    <tr>\n",
       "      <th>std</th>\n",
       "      <td>3.006765e+24</td>\n",
       "      <td>4.371744e+06</td>\n",
       "      <td>978.423653</td>\n",
       "    </tr>\n",
       "    <tr>\n",
       "      <th>min</th>\n",
       "      <td>3.000000e+23</td>\n",
       "      <td>4.879000e+06</td>\n",
       "      <td>23.900000</td>\n",
       "    </tr>\n",
       "    <tr>\n",
       "      <th>25%</th>\n",
       "      <td>2.585000e+24</td>\n",
       "      <td>8.491500e+06</td>\n",
       "      <td>369.825000</td>\n",
       "    </tr>\n",
       "    <tr>\n",
       "      <th>50%</th>\n",
       "      <td>4.870000e+24</td>\n",
       "      <td>1.210400e+07</td>\n",
       "      <td>715.750000</td>\n",
       "    </tr>\n",
       "    <tr>\n",
       "      <th>75%</th>\n",
       "      <td>5.420000e+24</td>\n",
       "      <td>1.243000e+07</td>\n",
       "      <td>1061.675000</td>\n",
       "    </tr>\n",
       "    <tr>\n",
       "      <th>max</th>\n",
       "      <td>5.970000e+24</td>\n",
       "      <td>1.275600e+07</td>\n",
       "      <td>1407.600000</td>\n",
       "    </tr>\n",
       "  </tbody>\n",
       "</table>\n",
       "</div>"
      ],
      "text/plain": [
       "               mass      diameter  rotation_period\n",
       "count  3.000000e+00  3.000000e+00         2.000000\n",
       "mean   3.713333e+24  9.913000e+06       715.750000\n",
       "std    3.006765e+24  4.371744e+06       978.423653\n",
       "min    3.000000e+23  4.879000e+06        23.900000\n",
       "25%    2.585000e+24  8.491500e+06       369.825000\n",
       "50%    4.870000e+24  1.210400e+07       715.750000\n",
       "75%    5.420000e+24  1.243000e+07      1061.675000\n",
       "max    5.970000e+24  1.275600e+07      1407.600000"
      ]
     },
     "execution_count": 21,
     "metadata": {},
     "output_type": "execute_result"
    }
   ],
   "source": [
    "df.describe()"
   ]
  },
  {
   "cell_type": "markdown",
   "id": "5e4655c9-a0d1-4a20-8089-a831a0918b9f",
   "metadata": {},
   "source": [
    "We can get a single column, which will return a Pandas Series, using python’s getitem syntax on the DataFrame object."
   ]
  },
  {
   "cell_type": "code",
   "execution_count": 22,
   "id": "d6651c9a-c163-4ae0-ac72-e90c0373888e",
   "metadata": {},
   "outputs": [
    {
     "data": {
      "text/plain": [
       "Mercury    3.000000e+23\n",
       "Venus      4.870000e+24\n",
       "Earth      5.970000e+24\n",
       "Name: mass, dtype: float64"
      ]
     },
     "execution_count": 22,
     "metadata": {},
     "output_type": "execute_result"
    }
   ],
   "source": [
    "df['mass']"
   ]
  },
  {
   "cell_type": "code",
   "execution_count": 23,
   "id": "9c9dcd95-6124-4cf8-81dd-79612413565a",
   "metadata": {},
   "outputs": [
    {
     "data": {
      "text/plain": [
       "pandas.core.series.Series"
      ]
     },
     "execution_count": 23,
     "metadata": {},
     "output_type": "execute_result"
    }
   ],
   "source": [
    "# A Series is a one-dimensional pandas object\n",
    "type(df['mass'])"
   ]
  },
  {
   "cell_type": "markdown",
   "id": "22bade20-425c-40b8-8353-ab0b25119d21",
   "metadata": {},
   "source": [
    "We can also select a specific column using attribute (\"dot\") syntax."
   ]
  },
  {
   "cell_type": "code",
   "execution_count": 24,
   "id": "90b514c7-55f6-438a-868c-f80ffa6b282b",
   "metadata": {},
   "outputs": [
    {
     "data": {
      "text/plain": [
       "Mercury    3.000000e+23\n",
       "Venus      4.870000e+24\n",
       "Earth      5.970000e+24\n",
       "Name: mass, dtype: float64"
      ]
     },
     "execution_count": 24,
     "metadata": {},
     "output_type": "execute_result"
    }
   ],
   "source": [
    "df.mass"
   ]
  },
  {
   "cell_type": "markdown",
   "id": "12c14bd2-458e-48bb-8c8b-3f3140c80a1a",
   "metadata": {},
   "source": [
    "We've already seen that we can index using the operations `loc` and `iloc`.  "
   ]
  },
  {
   "cell_type": "code",
   "execution_count": 25,
   "id": "c0f18ce9-e951-402a-a561-f6aeaddae633",
   "metadata": {},
   "outputs": [
    {
     "data": {
      "text/html": [
       "<div>\n",
       "<style scoped>\n",
       "    .dataframe tbody tr th:only-of-type {\n",
       "        vertical-align: middle;\n",
       "    }\n",
       "\n",
       "    .dataframe tbody tr th {\n",
       "        vertical-align: top;\n",
       "    }\n",
       "\n",
       "    .dataframe thead th {\n",
       "        text-align: right;\n",
       "    }\n",
       "</style>\n",
       "<table border=\"1\" class=\"dataframe\">\n",
       "  <thead>\n",
       "    <tr style=\"text-align: right;\">\n",
       "      <th></th>\n",
       "      <th>mass</th>\n",
       "      <th>diameter</th>\n",
       "      <th>rotation_period</th>\n",
       "    </tr>\n",
       "  </thead>\n",
       "  <tbody>\n",
       "    <tr>\n",
       "      <th>Mercury</th>\n",
       "      <td>3.000000e+23</td>\n",
       "      <td>4879000.0</td>\n",
       "      <td>1407.6</td>\n",
       "    </tr>\n",
       "    <tr>\n",
       "      <th>Venus</th>\n",
       "      <td>4.870000e+24</td>\n",
       "      <td>12104000.0</td>\n",
       "      <td>NaN</td>\n",
       "    </tr>\n",
       "    <tr>\n",
       "      <th>Earth</th>\n",
       "      <td>5.970000e+24</td>\n",
       "      <td>12756000.0</td>\n",
       "      <td>23.9</td>\n",
       "    </tr>\n",
       "  </tbody>\n",
       "</table>\n",
       "</div>"
      ],
      "text/plain": [
       "                 mass    diameter  rotation_period\n",
       "Mercury  3.000000e+23   4879000.0           1407.6\n",
       "Venus    4.870000e+24  12104000.0              NaN\n",
       "Earth    5.970000e+24  12756000.0             23.9"
      ]
     },
     "execution_count": 25,
     "metadata": {},
     "output_type": "execute_result"
    }
   ],
   "source": [
    "df"
   ]
  },
  {
   "cell_type": "code",
   "execution_count": 27,
   "id": "8aa5bf4e-cd42-47e7-8b84-c434c81e5fad",
   "metadata": {},
   "outputs": [
    {
     "data": {
      "text/plain": [
       "5.97e+24"
      ]
     },
     "execution_count": 27,
     "metadata": {},
     "output_type": "execute_result"
    }
   ],
   "source": [
    "# Select the row \"Earth\" and comlun \"mass\"\n",
    "df.loc['Earth', 'mass']"
   ]
  },
  {
   "cell_type": "markdown",
   "id": "171ffcec-1c7c-4fc1-8715-2e0f934395f6",
   "metadata": {},
   "source": [
    "### Merging, combining, and joining data"
   ]
  },
  {
   "cell_type": "markdown",
   "id": "b8ca881a-bf81-4fd6-9f17-e01f21abb9fa",
   "metadata": {},
   "source": [
    "Pandas allow us to easly merge, combine, and manipulate DataFrames. Consider the dataframe below:"
   ]
  },
  {
   "cell_type": "code",
   "execution_count": 33,
   "id": "739fec0c-4f1d-40d5-b601-4b0e79133826",
   "metadata": {},
   "outputs": [
    {
     "data": {
      "text/html": [
       "<div>\n",
       "<style scoped>\n",
       "    .dataframe tbody tr th:only-of-type {\n",
       "        vertical-align: middle;\n",
       "    }\n",
       "\n",
       "    .dataframe tbody tr th {\n",
       "        vertical-align: top;\n",
       "    }\n",
       "\n",
       "    .dataframe thead th {\n",
       "        text-align: right;\n",
       "    }\n",
       "</style>\n",
       "<table border=\"1\" class=\"dataframe\">\n",
       "  <thead>\n",
       "    <tr style=\"text-align: right;\">\n",
       "      <th></th>\n",
       "      <th>lead singer</th>\n",
       "      <th>albums</th>\n",
       "    </tr>\n",
       "  </thead>\n",
       "  <tbody>\n",
       "    <tr>\n",
       "      <th>Coldplay</th>\n",
       "      <td>Chris Martin</td>\n",
       "      <td>9</td>\n",
       "    </tr>\n",
       "    <tr>\n",
       "      <th>Queen</th>\n",
       "      <td>Freddie Mercury</td>\n",
       "      <td>15</td>\n",
       "    </tr>\n",
       "    <tr>\n",
       "      <th>The Strokes</th>\n",
       "      <td>Julian Casablancas</td>\n",
       "      <td>6</td>\n",
       "    </tr>\n",
       "  </tbody>\n",
       "</table>\n",
       "</div>"
      ],
      "text/plain": [
       "                    lead singer  albums\n",
       "Coldplay           Chris Martin       9\n",
       "Queen           Freddie Mercury      15\n",
       "The Strokes  Julian Casablancas       6"
      ]
     },
     "execution_count": 33,
     "metadata": {},
     "output_type": "execute_result"
    }
   ],
   "source": [
    "data = {'lead singer': ['Chris Martin', 'Freddie Mercury', 'Julian Casablancas'], \n",
    "        'albums': [9, 15, 6]\n",
    "       }\n",
    "df1 = pd.DataFrame(data, index=['Coldplay', 'Queen', 'The Strokes'])\n",
    "df1"
   ]
  },
  {
   "cell_type": "code",
   "execution_count": 34,
   "id": "a1d9138b-2104-4bae-b849-2140cb38fc79",
   "metadata": {},
   "outputs": [
    {
     "data": {
      "text/html": [
       "<div>\n",
       "<style scoped>\n",
       "    .dataframe tbody tr th:only-of-type {\n",
       "        vertical-align: middle;\n",
       "    }\n",
       "\n",
       "    .dataframe tbody tr th {\n",
       "        vertical-align: top;\n",
       "    }\n",
       "\n",
       "    .dataframe thead th {\n",
       "        text-align: right;\n",
       "    }\n",
       "</style>\n",
       "<table border=\"1\" class=\"dataframe\">\n",
       "  <thead>\n",
       "    <tr style=\"text-align: right;\">\n",
       "      <th></th>\n",
       "      <th>year created</th>\n",
       "      <th>grammys</th>\n",
       "    </tr>\n",
       "  </thead>\n",
       "  <tbody>\n",
       "    <tr>\n",
       "      <th>Coldplay</th>\n",
       "      <td>1997</td>\n",
       "      <td>7</td>\n",
       "    </tr>\n",
       "    <tr>\n",
       "      <th>Queen</th>\n",
       "      <td>1970</td>\n",
       "      <td>0</td>\n",
       "    </tr>\n",
       "    <tr>\n",
       "      <th>The Strokes</th>\n",
       "      <td>1998</td>\n",
       "      <td>1</td>\n",
       "    </tr>\n",
       "  </tbody>\n",
       "</table>\n",
       "</div>"
      ],
      "text/plain": [
       "             year created  grammys\n",
       "Coldplay             1997        7\n",
       "Queen                1970        0\n",
       "The Strokes          1998        1"
      ]
     },
     "execution_count": 34,
     "metadata": {},
     "output_type": "execute_result"
    }
   ],
   "source": [
    "other_data = {'year created': [1997, 1970, 1998],      \n",
    "        'grammys': [7, 0, 1]\n",
    "       }\n",
    "df2 = pd.DataFrame(other_data, index=['Coldplay', 'Queen', 'The Strokes'])\n",
    "df2"
   ]
  },
  {
   "cell_type": "markdown",
   "id": "0fd83c0f-bb66-4b93-877a-4394c0212637",
   "metadata": {},
   "source": [
    "Now, we would like to merge the two Dataframes keeping the index (rows) and merging along the columns (axis=1). First we create a list with the DataFrames we want to \"stick together\""
   ]
  },
  {
   "cell_type": "code",
   "execution_count": 35,
   "id": "e02f959c-fe11-4b92-b615-b1d4dc4bb797",
   "metadata": {},
   "outputs": [],
   "source": [
    "dfs = [df1, df2]"
   ]
  },
  {
   "cell_type": "markdown",
   "id": "f05292df-57fd-42f4-94e7-748f08cf7756",
   "metadata": {},
   "source": [
    "No we use the function `concat`, which stands for concatenate."
   ]
  },
  {
   "cell_type": "code",
   "execution_count": 37,
   "id": "ad7f3c60-3422-4aee-a2bc-d0dafe6681cc",
   "metadata": {},
   "outputs": [
    {
     "data": {
      "text/html": [
       "<div>\n",
       "<style scoped>\n",
       "    .dataframe tbody tr th:only-of-type {\n",
       "        vertical-align: middle;\n",
       "    }\n",
       "\n",
       "    .dataframe tbody tr th {\n",
       "        vertical-align: top;\n",
       "    }\n",
       "\n",
       "    .dataframe thead th {\n",
       "        text-align: right;\n",
       "    }\n",
       "</style>\n",
       "<table border=\"1\" class=\"dataframe\">\n",
       "  <thead>\n",
       "    <tr style=\"text-align: right;\">\n",
       "      <th></th>\n",
       "      <th>lead singer</th>\n",
       "      <th>albums</th>\n",
       "      <th>year created</th>\n",
       "      <th>grammys</th>\n",
       "    </tr>\n",
       "  </thead>\n",
       "  <tbody>\n",
       "    <tr>\n",
       "      <th>Coldplay</th>\n",
       "      <td>Chris Martin</td>\n",
       "      <td>9</td>\n",
       "      <td>1997</td>\n",
       "      <td>7</td>\n",
       "    </tr>\n",
       "    <tr>\n",
       "      <th>Queen</th>\n",
       "      <td>Freddie Mercury</td>\n",
       "      <td>15</td>\n",
       "      <td>1970</td>\n",
       "      <td>0</td>\n",
       "    </tr>\n",
       "    <tr>\n",
       "      <th>The Strokes</th>\n",
       "      <td>Julian Casablancas</td>\n",
       "      <td>6</td>\n",
       "      <td>1998</td>\n",
       "      <td>1</td>\n",
       "    </tr>\n",
       "  </tbody>\n",
       "</table>\n",
       "</div>"
      ],
      "text/plain": [
       "                    lead singer  albums  year created  grammys\n",
       "Coldplay           Chris Martin       9          1997        7\n",
       "Queen           Freddie Mercury      15          1970        0\n",
       "The Strokes  Julian Casablancas       6          1998        1"
      ]
     },
     "execution_count": 37,
     "metadata": {},
     "output_type": "execute_result"
    }
   ],
   "source": [
    "# We want to concatenate the DataFrames in the list \"dfs\" along the column axis (axis=1)\n",
    "df_combined = pd.concat(dfs, axis=1)\n",
    "df_combined"
   ]
  },
  {
   "cell_type": "markdown",
   "id": "af852b3f-5cbf-4709-886c-22db47ee678f",
   "metadata": {},
   "source": [
    "Now, let's suppose we have some more Coldplay facts."
   ]
  },
  {
   "cell_type": "code",
   "execution_count": 38,
   "id": "dc425255-b7b5-4d47-a87d-5d20f7a6ec1c",
   "metadata": {},
   "outputs": [
    {
     "data": {
      "text/html": [
       "<div>\n",
       "<style scoped>\n",
       "    .dataframe tbody tr th:only-of-type {\n",
       "        vertical-align: middle;\n",
       "    }\n",
       "\n",
       "    .dataframe tbody tr th {\n",
       "        vertical-align: top;\n",
       "    }\n",
       "\n",
       "    .dataframe thead th {\n",
       "        text-align: right;\n",
       "    }\n",
       "</style>\n",
       "<table border=\"1\" class=\"dataframe\">\n",
       "  <thead>\n",
       "    <tr style=\"text-align: right;\">\n",
       "      <th></th>\n",
       "      <th>number of members</th>\n",
       "      <th>hometown</th>\n",
       "    </tr>\n",
       "  </thead>\n",
       "  <tbody>\n",
       "    <tr>\n",
       "      <th>Coldplay</th>\n",
       "      <td>4</td>\n",
       "      <td>London</td>\n",
       "    </tr>\n",
       "  </tbody>\n",
       "</table>\n",
       "</div>"
      ],
      "text/plain": [
       "          number of members hometown\n",
       "Coldplay                  4   London"
      ]
     },
     "execution_count": 38,
     "metadata": {},
     "output_type": "execute_result"
    }
   ],
   "source": [
    "more_facts = {'number of members': 4,      \n",
    "        'hometown': 'London'  \n",
    "       }\n",
    "df3 = pd.DataFrame(more_facts, index=['Coldplay'])\n",
    "df3"
   ]
  },
  {
   "cell_type": "markdown",
   "id": "3a777d1e-1fe5-44e1-beac-84c276476407",
   "metadata": {},
   "source": [
    "Now, we still want to aggregate that to our main DataFrame, but the row index now only has \"Coldplay\". No problem! `pandas` will add the new fields to \"Coldplay\" and fill the rest with NaNs"
   ]
  },
  {
   "cell_type": "code",
   "execution_count": 39,
   "id": "d982da0d-e5f4-4793-9f00-a3a27a1dbbec",
   "metadata": {},
   "outputs": [
    {
     "data": {
      "text/html": [
       "<div>\n",
       "<style scoped>\n",
       "    .dataframe tbody tr th:only-of-type {\n",
       "        vertical-align: middle;\n",
       "    }\n",
       "\n",
       "    .dataframe tbody tr th {\n",
       "        vertical-align: top;\n",
       "    }\n",
       "\n",
       "    .dataframe thead th {\n",
       "        text-align: right;\n",
       "    }\n",
       "</style>\n",
       "<table border=\"1\" class=\"dataframe\">\n",
       "  <thead>\n",
       "    <tr style=\"text-align: right;\">\n",
       "      <th></th>\n",
       "      <th>lead singer</th>\n",
       "      <th>albums</th>\n",
       "      <th>year created</th>\n",
       "      <th>grammys</th>\n",
       "      <th>number of members</th>\n",
       "      <th>hometown</th>\n",
       "    </tr>\n",
       "  </thead>\n",
       "  <tbody>\n",
       "    <tr>\n",
       "      <th>Coldplay</th>\n",
       "      <td>Chris Martin</td>\n",
       "      <td>9</td>\n",
       "      <td>1997</td>\n",
       "      <td>7</td>\n",
       "      <td>4.0</td>\n",
       "      <td>London</td>\n",
       "    </tr>\n",
       "    <tr>\n",
       "      <th>Queen</th>\n",
       "      <td>Freddie Mercury</td>\n",
       "      <td>15</td>\n",
       "      <td>1970</td>\n",
       "      <td>0</td>\n",
       "      <td>NaN</td>\n",
       "      <td>NaN</td>\n",
       "    </tr>\n",
       "    <tr>\n",
       "      <th>The Strokes</th>\n",
       "      <td>Julian Casablancas</td>\n",
       "      <td>6</td>\n",
       "      <td>1998</td>\n",
       "      <td>1</td>\n",
       "      <td>NaN</td>\n",
       "      <td>NaN</td>\n",
       "    </tr>\n",
       "  </tbody>\n",
       "</table>\n",
       "</div>"
      ],
      "text/plain": [
       "                    lead singer  albums  year created  grammys  \\\n",
       "Coldplay           Chris Martin       9          1997        7   \n",
       "Queen           Freddie Mercury      15          1970        0   \n",
       "The Strokes  Julian Casablancas       6          1998        1   \n",
       "\n",
       "             number of members hometown  \n",
       "Coldplay                   4.0   London  \n",
       "Queen                      NaN      NaN  \n",
       "The Strokes                NaN      NaN  "
      ]
     },
     "execution_count": 39,
     "metadata": {},
     "output_type": "execute_result"
    }
   ],
   "source": [
    "df_all = pd.concat([df_combined, df3], axis=1)\n",
    "df_all"
   ]
  },
  {
   "cell_type": "markdown",
   "id": "6810438b-cc31-48db-866a-252aa9d846e3",
   "metadata": {},
   "source": [
    "### Saving your data"
   ]
  },
  {
   "cell_type": "markdown",
   "id": "f49f0793-21e7-4c9e-b431-5f025dcade8d",
   "metadata": {},
   "source": [
    "If you did quite a bit of manipulation on your raw data, it might be smart to save a processed version of it so you don't have to repeat all the steps in your code everytime. It is straighforward to save a `pandas` `DataFrame` to a text file, such as `csv`. The syntax is:\n",
    "\n",
    "```python\n",
    "df.to_csv('path/to/output/file_name.csv')\n",
    "```\n",
    "\n",
    "For example, the line below saves our DataFrame on the Desktop with the name \"band_facts.csv\"."
   ]
  },
  {
   "cell_type": "code",
   "execution_count": 41,
   "id": "ecf6aeb3-d1b0-48d1-9c60-69fa2a3473dd",
   "metadata": {},
   "outputs": [],
   "source": [
    "df_all.to_csv('/Users/bia/Desktop/band_facts.csv')"
   ]
  },
  {
   "cell_type": "code",
   "execution_count": null,
   "id": "3f0800f4-4c60-4b67-bc5c-52a846607d1e",
   "metadata": {},
   "outputs": [],
   "source": []
  }
 ],
 "metadata": {
  "kernelspec": {
   "display_name": "Python 3 (ipykernel)",
   "language": "python",
   "name": "python3"
  },
  "language_info": {
   "codemirror_mode": {
    "name": "ipython",
    "version": 3
   },
   "file_extension": ".py",
   "mimetype": "text/x-python",
   "name": "python",
   "nbconvert_exporter": "python",
   "pygments_lexer": "ipython3",
   "version": "3.10.9"
  }
 },
 "nbformat": 4,
 "nbformat_minor": 5
}
