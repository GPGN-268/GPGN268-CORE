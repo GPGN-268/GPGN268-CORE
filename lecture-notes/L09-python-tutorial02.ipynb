{
 "cells": [
  {
   "cell_type": "markdown",
   "id": "689d6a4d-b74e-4553-a9ad-52843d7748b9",
   "metadata": {},
   "source": [
    "# 🌎 GPGN268 - Geophysical Data Analysis\n",
    "- **Instructor:** Bia Villas Boas  \n",
    "- **TA:** Seunghoo Kim\n",
    "\n",
    "## Python Tutorial 0:  Introduction to Jupyter Lab\n",
    "\n",
    "#### 🎯 Learning Objectives from this Tutorial:\n",
    "- Explain what a library is and what libraries are used for.\n",
    "- Import a Python library and use the functions it contains.\n",
    "- Read tabular data from a file into a program.\n",
    "- Select individual values and subsections from data.\n",
    "- Perform operations on arrays of data."
   ]
  },
  {
   "cell_type": "markdown",
   "id": "7c2f0f95-4278-4a80-9c82-b0a0d1657b11",
   "metadata": {},
   "source": [
    "### Loading data into Python\n",
    "\n",
    "We would like to process meteorological data from Denver's water department using Python. We will first look at the maximum temperature, stores in the file `meteo_denver_tmax_2000_2022.txt`. This file has numbers that are organized in columns and rows and separated by tabs. From the metadata in the README file, we know that there are 23 years of data ranging from 2000 to 2022.\n",
    "\n",
    "\n",
    "To begin processing the meteorological data, we need to load it into Python. We can do that using a library called [NumPy](https://numpy.org/), which stands for Numerical Python. In general, you should use this library when you want to manipulate lots of numbers, especially if you have matrices or arrays. To tell Python that we’d like to start using NumPy, we need to import it:"
   ]
  },
  {
   "cell_type": "code",
   "execution_count": 1,
   "id": "1c807a89-409d-4b16-a952-639df83293ff",
   "metadata": {},
   "outputs": [],
   "source": [
    "import numpy as np"
   ]
  },
  {
   "cell_type": "markdown",
   "id": "5428b36a-d402-497f-af88-3c518a5f3204",
   "metadata": {},
   "source": [
    "mporting a library is like getting a piece of lab equipment out of a storage locker and setting it up on the bench. Libraries provide additional functionality to the basic Python package, much like a new piece of equipment adds functionality to a lab space. Just like in the lab, importing too many libraries can sometimes complicate and slow down your programs - so we only import what we need for each program.\n",
    "\n",
    "Once we’ve imported the library, we can ask the library to read our data file for us:"
   ]
  },
  {
   "cell_type": "code",
   "execution_count": 2,
   "id": "6c1a0de6-ef77-4464-a97e-12338e41b7ca",
   "metadata": {},
   "outputs": [
    {
     "data": {
      "text/plain": [
       "array([[50.9, 56.4, 57.5, 69.3, 78.2, 86. , 94.7, 93. , 81.9, 67.5, 46.2,\n",
       "        46.1],\n",
       "       [48.2, 45.4, 54.8, 65.8, 73.8, 87.3, 95.3, 90.6, 86. , 69.7, 61.7,\n",
       "        50.2],\n",
       "       [47.7, 51.8, 51.7, 69.7, 73.1, 90.4, 96. , 90.3, 82. , 63.3, 52.3,\n",
       "        50.6],\n",
       "       [54.7, 44.7, 54.6, 67.9, 73.8, 80.1, 96.7, 92.4, 79.3, 74.3, 51.4,\n",
       "        50.2],\n",
       "       [50.4, 46.5, 63.3, 63.5, 76.7, 80.8, 88.4, 85.9, 80.7, 67.4, 53.4,\n",
       "        47.7],\n",
       "       [49.2, 51.2, 55.4, 62.5, 73.8, 84.3, 95.8, 88.2, 83.7, 68.9, 60.3,\n",
       "        45.2],\n",
       "       [54.5, 47.8, 53.5, 68.9, 74.9, 87.1, 88. , 83.8, 72. , 60.8, 50. ,\n",
       "        40.2],\n",
       "       [30.6, 40.8, 58.5, 61.7, 72.5, 86.5, 92.2, 90.9, 79.5, 66.3, 53.8,\n",
       "        38.9],\n",
       "       [40.1, 48.6, 54.8, 63. , 72.5, 85. , 93.9, 86.7, 78.5, 67.7, 64.5,\n",
       "        44.6],\n",
       "       [52. , 56.5, 60.5, 61.2, 73.7, 80.6, 87. , 88.4, 79.7, 57.5, 59.5,\n",
       "        41.3],\n",
       "       [48.5, 42.8, 56.3, 64.7, 69.9, 86.1, 91.7, 92.3, 86.5, 71.8, 55.8,\n",
       "        52. ],\n",
       "       [46.3, 45.5, 60. , 64.7, 65.5, 86.6, 92.7, 94.1, 80.6, 70.9, 57.7,\n",
       "        45.3],\n",
       "       [52.7, 46. , 67. , 72.2, 78. , 92.4, 94.8, 92.5, 83.3, 66.3, 61.4,\n",
       "        48.6],\n",
       "       [48.6, 46.6, 55.4, 58.3, 73.9, 89.1, 90. , 92.1, 81.9, 63.7, 57.8,\n",
       "        46.2],\n",
       "       [49.7, 46.3, 58.5, 66.2, 72.2, 85.1, 89.6, 86.7, 82.7, 73.7, 55.5,\n",
       "        47.5],\n",
       "       [48.4, 50. , 60.7, 65.6, 65.5, 86.7, 88.5, 91.2, 88.9, 72.3, 57.5,\n",
       "        47.8],\n",
       "       [50.9, 55.1, 58. , 63.1, 69.4, 89.2, 94.1, 89.6, 85. , 75.7, 64.1,\n",
       "        45. ],\n",
       "       [44.9, 56.1, 65.5, 65.4, 70.4, 88.1, 91.4, 87.8, 79.7, 66.7, 61.2,\n",
       "        51.2],\n",
       "       [51.5, 45.4, 58.8, 65.1, 76.8, 91.9, 92.2, 90.5, 86. , 64.2, 53.5,\n",
       "        49. ],\n",
       "       [47.9, 45.7, 53.4, 66.1, 65.8, 83.4, 94.6, 93. , 88.7, 61.9, 53.4,\n",
       "        48.6],\n",
       "       [50.2, 44.6, 58.1, 62.9, 77.2, 88.7, 92.8, 94.4, 82.1, 67.5, 61.6,\n",
       "        49.6],\n",
       "       [48.9, 42.6, 55.3, 60.7, 70.6, 89. , 93.1, 91.5, 87.5, 71.1, 62.1,\n",
       "        56.7],\n",
       "       [47.9, 46.2, 56. , 66.7, 74. , 87.1, 94.2, 92.3, 85.7, 69.5, 50.7,\n",
       "        47.3]])"
      ]
     },
     "execution_count": 2,
     "metadata": {},
     "output_type": "execute_result"
    }
   ],
   "source": [
    "np.loadtxt(fname='../data/meteo_denver_tmax_2000_2022.txt', delimiter='\\t')"
   ]
  },
  {
   "cell_type": "markdown",
   "id": "df94dd28-8862-47e4-9510-93a0237f1ceb",
   "metadata": {},
   "source": [
    "The expression `numpy.loadtxt(...)` is a [function call](https://swcarpentry.github.io/python-novice-inflammation/reference.html#function-call) that asks Python to run the [function](https://swcarpentry.github.io/python-novice-inflammation/reference.html#function) `loadtxt` which belongs to the `numpy` library. The dot notation in Python is used most of all as an object attribute/property specifier or for invoking its method. `object.property` will give you the object.property value, `object_name.method()` will invoke on object_name method.\n",
    "\n",
    "As an example, Mines Stadium is the stadium that belongs to Mines. We could use the dot notation to write  `mines.stadium`, just as `loadtxt` is a function that belongs to the `numpy` library.\n",
    "\n",
    "`numpy.loadtxt` has two [parameters](https://swcarpentry.github.io/python-novice-inflammation/reference.html#parameter): the name of the file we want to read and the [delimiter](https://swcarpentry.github.io/python-novice-inflammation/reference.html#delimiter) that separates values on a line. These both need to be character strings (or [strings](https://swcarpentry.github.io/python-novice-inflammation/reference.html#string) for short), so we put them in quotes.\n",
    "\n",
    "Since we haven’t told it to do anything else with the function’s output, the [notebook](https://swcarpentry.github.io/python-novice-inflammation/reference.html#notebook) displays it. In this case, that output is the data we just loaded. By default, only a few rows and columns are shown (with `...` to omit elements when displaying big arrays). Note that, to save space when displaying NumPy arrays, Python does not show us trailing zeros, so `1.0` becomes `1.`.\n",
    "\n",
    "Our call to `numpy.loadtxt` read our file but didn’t save the data in memory. To do that, we need to assign the array to a variable. In a similar manner to how we assign a single value to a variable, we can also assign an array of values to a variable using the same syntax. Let’s re-run `numpy.loadtxt` and save the returned data:\n"
   ]
  },
  {
   "cell_type": "code",
   "execution_count": 3,
   "id": "ac0b08c9-8a7e-4dc0-9ceb-e95328d42ea5",
   "metadata": {},
   "outputs": [],
   "source": [
    "tmax = np.loadtxt(fname='../data/meteo_denver_tmax_2000_2022.txt', delimiter='\\t')"
   ]
  },
  {
   "cell_type": "markdown",
   "id": "2bb6afe5-8400-4c61-af31-6861ba280610",
   "metadata": {},
   "source": [
    "This statement doesn’t produce any output because we’ve assigned the output to the variable `data`. If we want to check that the data have been loaded, we can type the variable’s name:"
   ]
  },
  {
   "cell_type": "code",
   "execution_count": 4,
   "id": "637aa5c7-37aa-4740-8574-ebad33b7827a",
   "metadata": {},
   "outputs": [
    {
     "data": {
      "text/plain": [
       "array([[50.9, 56.4, 57.5, 69.3, 78.2, 86. , 94.7, 93. , 81.9, 67.5, 46.2,\n",
       "        46.1],\n",
       "       [48.2, 45.4, 54.8, 65.8, 73.8, 87.3, 95.3, 90.6, 86. , 69.7, 61.7,\n",
       "        50.2],\n",
       "       [47.7, 51.8, 51.7, 69.7, 73.1, 90.4, 96. , 90.3, 82. , 63.3, 52.3,\n",
       "        50.6],\n",
       "       [54.7, 44.7, 54.6, 67.9, 73.8, 80.1, 96.7, 92.4, 79.3, 74.3, 51.4,\n",
       "        50.2],\n",
       "       [50.4, 46.5, 63.3, 63.5, 76.7, 80.8, 88.4, 85.9, 80.7, 67.4, 53.4,\n",
       "        47.7],\n",
       "       [49.2, 51.2, 55.4, 62.5, 73.8, 84.3, 95.8, 88.2, 83.7, 68.9, 60.3,\n",
       "        45.2],\n",
       "       [54.5, 47.8, 53.5, 68.9, 74.9, 87.1, 88. , 83.8, 72. , 60.8, 50. ,\n",
       "        40.2],\n",
       "       [30.6, 40.8, 58.5, 61.7, 72.5, 86.5, 92.2, 90.9, 79.5, 66.3, 53.8,\n",
       "        38.9],\n",
       "       [40.1, 48.6, 54.8, 63. , 72.5, 85. , 93.9, 86.7, 78.5, 67.7, 64.5,\n",
       "        44.6],\n",
       "       [52. , 56.5, 60.5, 61.2, 73.7, 80.6, 87. , 88.4, 79.7, 57.5, 59.5,\n",
       "        41.3],\n",
       "       [48.5, 42.8, 56.3, 64.7, 69.9, 86.1, 91.7, 92.3, 86.5, 71.8, 55.8,\n",
       "        52. ],\n",
       "       [46.3, 45.5, 60. , 64.7, 65.5, 86.6, 92.7, 94.1, 80.6, 70.9, 57.7,\n",
       "        45.3],\n",
       "       [52.7, 46. , 67. , 72.2, 78. , 92.4, 94.8, 92.5, 83.3, 66.3, 61.4,\n",
       "        48.6],\n",
       "       [48.6, 46.6, 55.4, 58.3, 73.9, 89.1, 90. , 92.1, 81.9, 63.7, 57.8,\n",
       "        46.2],\n",
       "       [49.7, 46.3, 58.5, 66.2, 72.2, 85.1, 89.6, 86.7, 82.7, 73.7, 55.5,\n",
       "        47.5],\n",
       "       [48.4, 50. , 60.7, 65.6, 65.5, 86.7, 88.5, 91.2, 88.9, 72.3, 57.5,\n",
       "        47.8],\n",
       "       [50.9, 55.1, 58. , 63.1, 69.4, 89.2, 94.1, 89.6, 85. , 75.7, 64.1,\n",
       "        45. ],\n",
       "       [44.9, 56.1, 65.5, 65.4, 70.4, 88.1, 91.4, 87.8, 79.7, 66.7, 61.2,\n",
       "        51.2],\n",
       "       [51.5, 45.4, 58.8, 65.1, 76.8, 91.9, 92.2, 90.5, 86. , 64.2, 53.5,\n",
       "        49. ],\n",
       "       [47.9, 45.7, 53.4, 66.1, 65.8, 83.4, 94.6, 93. , 88.7, 61.9, 53.4,\n",
       "        48.6],\n",
       "       [50.2, 44.6, 58.1, 62.9, 77.2, 88.7, 92.8, 94.4, 82.1, 67.5, 61.6,\n",
       "        49.6],\n",
       "       [48.9, 42.6, 55.3, 60.7, 70.6, 89. , 93.1, 91.5, 87.5, 71.1, 62.1,\n",
       "        56.7],\n",
       "       [47.9, 46.2, 56. , 66.7, 74. , 87.1, 94.2, 92.3, 85.7, 69.5, 50.7,\n",
       "        47.3]])"
      ]
     },
     "execution_count": 4,
     "metadata": {},
     "output_type": "execute_result"
    }
   ],
   "source": [
    "tmax"
   ]
  },
  {
   "cell_type": "code",
   "execution_count": 5,
   "id": "7f31dd3c-061b-453f-ac63-88cb6ccf13ba",
   "metadata": {},
   "outputs": [
    {
     "data": {
      "text/plain": [
       "numpy.ndarray"
      ]
     },
     "execution_count": 5,
     "metadata": {},
     "output_type": "execute_result"
    }
   ],
   "source": [
    "type(tmax)"
   ]
  },
  {
   "cell_type": "markdown",
   "id": "0a63207e-dbdb-49f0-95b7-8f9c2b0c339f",
   "metadata": {},
   "source": [
    "The output tells us that data currently refers to an N-dimensional array, the functionality for which is provided by the NumPy library. These data correspond to arthritis patients’ inflammation. The rows are the individual patients, and the columns are their daily inflammation measurements."
   ]
  },
  {
   "cell_type": "markdown",
   "id": "4c862da1-b219-4c4f-baaf-e75d0d1658fa",
   "metadata": {},
   "source": [
    "### Data Type\n",
    "A Numpy array contains one or more elements of the same type. The type function will only tell you that a variable is a NumPy array but won’t tell you the type of thing inside the array. We can find out the type of the data contained in the NumPy array."
   ]
  },
  {
   "cell_type": "code",
   "execution_count": 6,
   "id": "c195f4b7-302f-4b96-a5ce-ee651fb691a1",
   "metadata": {},
   "outputs": [
    {
     "data": {
      "text/plain": [
       "dtype('float64')"
      ]
     },
     "execution_count": 6,
     "metadata": {},
     "output_type": "execute_result"
    }
   ],
   "source": [
    "tmax.dtype"
   ]
  },
  {
   "cell_type": "markdown",
   "id": "03350556-7ff3-4c19-85f8-8794bf151d23",
   "metadata": {},
   "source": [
    "This tells us that the NumPy array’s elements are floating-point numbers.\n",
    "\n",
    "With the following command, we can see the array’s shape:"
   ]
  },
  {
   "cell_type": "code",
   "execution_count": 7,
   "id": "7e305227-61ff-4571-bc33-b2d5b66f8c40",
   "metadata": {},
   "outputs": [
    {
     "data": {
      "text/plain": [
       "(23, 12)"
      ]
     },
     "execution_count": 7,
     "metadata": {},
     "output_type": "execute_result"
    }
   ],
   "source": [
    "tmax.shape"
   ]
  },
  {
   "cell_type": "markdown",
   "id": "d00943f4-fcd2-4b5e-980a-6b1678e2ea21",
   "metadata": {},
   "source": [
    "The output tells us that the `tmax` array variable contains 23 rows and 12 columns. When we created the variable `tmax` to store our temperature data, we did not only create the array; we also created information about the array, called [members](https://swcarpentry.github.io/python-novice-inflammation/reference.html#member) or attributes. This extra information describes `tmax` in the same way an adjective describes a noun. `tmax.shape` is an attribute of `tmax` which describes the dimensions of `tmax`. We use the same dotted notation for the attributes of variables that we use for the functions in libraries because they have the same part-and-whole relationship.\n",
    "\n",
    "If we want to get a single number from the array, we must provide an [index](https://swcarpentry.github.io/python-novice-inflammation/reference.html#index) in square brackets after the variable name, just as we do in math when referring to an element of a matrix. Our inflammation data has two dimensions, so we will need to use two indices to refer to one specific value:"
   ]
  },
  {
   "cell_type": "code",
   "execution_count": 8,
   "id": "933d0b1b-2349-4551-b49e-2ee8371ea546",
   "metadata": {},
   "outputs": [
    {
     "name": "stdout",
     "output_type": "stream",
     "text": [
      "first value in tmax: 50.9\n"
     ]
    }
   ],
   "source": [
    "print('first value in tmax:', tmax[0, 0])"
   ]
  },
  {
   "cell_type": "code",
   "execution_count": 9,
   "id": "18742d24-11a4-4336-82f9-7659dd61effa",
   "metadata": {},
   "outputs": [
    {
     "name": "stdout",
     "output_type": "stream",
     "text": [
      "middle value in tmax: 92.7\n"
     ]
    }
   ],
   "source": [
    "print('middle value in tmax:', tmax[11, 6])"
   ]
  },
  {
   "cell_type": "markdown",
   "id": "3edf5131-b2e8-41d9-85d6-f7618247e930",
   "metadata": {},
   "source": [
    "The expression `tmax[11, 6]` accesses the element at row 11, column 6. While this expression may not surprise you, `tmax[0, 0]` might. Programming languages like Fortran, MATLAB and R start counting at 1 because that’s what human beings have done for thousands of years. Languages in the C family (including C++, Java, Perl, and Python) count from 0 because it represents an offset from the first value in the array (the second value is offset by one index from the first value). This is closer to the way that computers represent arrays (if you are interested in the historical reasons behind counting indices from zero, you can read [Mike Hoye’s blog post](http://exple.tive.org/blarg/2013/10/22/citation-needed/)). As a result, if we have an M×N array in Python, its indices go from 0 to M-1 on the first axis and 0 to N-1 on the second. It takes a bit of getting used to, but one way to remember the rule is that the index is how many steps we have to take from the start to get the item we want."
   ]
  },
  {
   "cell_type": "markdown",
   "id": "24b7284a-83e8-4a06-992d-434f4e208bf5",
   "metadata": {},
   "source": [
    "### Slicing data\n",
    "\n",
    "An index like `[11, 6]` selects a single element of an array, but we can select whole sections as well. For example, we can select the first ten days (columns) of values for the first four patients (rows) like this:"
   ]
  },
  {
   "cell_type": "code",
   "execution_count": 10,
   "id": "cae4ec3d-8793-4baf-b351-287fabbd74c7",
   "metadata": {},
   "outputs": [
    {
     "data": {
      "text/plain": [
       "array([[50.9, 56.4, 57.5, 69.3, 78.2, 86. ],\n",
       "       [48.2, 45.4, 54.8, 65.8, 73.8, 87.3],\n",
       "       [47.7, 51.8, 51.7, 69.7, 73.1, 90.4],\n",
       "       [54.7, 44.7, 54.6, 67.9, 73.8, 80.1]])"
      ]
     },
     "execution_count": 10,
     "metadata": {},
     "output_type": "execute_result"
    }
   ],
   "source": [
    "tmax[0:4, 0:6]"
   ]
  },
  {
   "cell_type": "markdown",
   "id": "a478a978-a97b-4dea-bf96-5c2137a7c1d5",
   "metadata": {},
   "source": [
    "The [slice](https://swcarpentry.github.io/python-novice-inflammation/reference.html#slice) `0:4` means, “Start at index 0 and go up to, but not including, index 4”. Again, the up-to-but-not-including takes a bit of getting used to, but the rule is that the difference between the upper and lower bounds is the number of values in the slice.\n",
    "\n",
    "We don’t have to start slices at 0:"
   ]
  },
  {
   "cell_type": "code",
   "execution_count": 11,
   "id": "4da88ec2-41b6-46b0-8d71-2c26518113df",
   "metadata": {},
   "outputs": [
    {
     "data": {
      "text/plain": [
       "array([[49.2, 51.2, 55.4, 62.5, 73.8, 84.3],\n",
       "       [54.5, 47.8, 53.5, 68.9, 74.9, 87.1],\n",
       "       [30.6, 40.8, 58.5, 61.7, 72.5, 86.5],\n",
       "       [40.1, 48.6, 54.8, 63. , 72.5, 85. ],\n",
       "       [52. , 56.5, 60.5, 61.2, 73.7, 80.6]])"
      ]
     },
     "execution_count": 11,
     "metadata": {},
     "output_type": "execute_result"
    }
   ],
   "source": [
    "tmax[5:10, 0:6]"
   ]
  },
  {
   "cell_type": "markdown",
   "id": "ccb51f02-c38e-4397-8210-635139c349ed",
   "metadata": {},
   "source": [
    "We also don’t have to include the upper and lower bound on the slice. If we don’t include the lower bound, Python uses 0 by default; if we don’t include the upper, the slice runs to the end of the axis, and if we don’t include either (i.e., if we use ‘:’ on its own), the slice includes everything:"
   ]
  },
  {
   "cell_type": "code",
   "execution_count": 12,
   "id": "af07b6fd-8ab2-4a59-9206-d953cbb25e8f",
   "metadata": {},
   "outputs": [
    {
     "name": "stdout",
     "output_type": "stream",
     "text": [
      "subset is:\n",
      "[[94.7 93.  81.9 67.5 46.2 46.1]\n",
      " [95.3 90.6 86.  69.7 61.7 50.2]\n",
      " [96.  90.3 82.  63.3 52.3 50.6]]\n"
     ]
    }
   ],
   "source": [
    "subset = tmax[:3, 6:]\n",
    "print('subset is:')\n",
    "print(subset)"
   ]
  },
  {
   "cell_type": "markdown",
   "id": "0766595d-cca5-4f76-beef-5815fd1dd595",
   "metadata": {},
   "source": [
    "### Analyzing data\n",
    "\n",
    "NumPy has several useful functions that take an array as input to perform operations on its values. If we want to find the average inflammation for all patients on all days, for example, we can ask NumPy to compute `tmax`’s mean value:"
   ]
  },
  {
   "cell_type": "code",
   "execution_count": 13,
   "id": "e1321c93-7b2f-40c6-890c-f556a0a91151",
   "metadata": {},
   "outputs": [
    {
     "data": {
      "text/plain": [
       "67.9909420289855"
      ]
     },
     "execution_count": 13,
     "metadata": {},
     "output_type": "execute_result"
    }
   ],
   "source": [
    "np.mean(tmax)"
   ]
  },
  {
   "cell_type": "markdown",
   "id": "65ea6da4-68ed-4983-a757-59528828ff30",
   "metadata": {},
   "source": [
    "`mean` is a [function](https://swcarpentry.github.io/python-novice-inflammation/reference.html#function) that takes an array as an [argument](https://swcarpentry.github.io/python-novice-inflammation/reference.html#argument).\n",
    "\n",
    "Let’s use three other NumPy functions to get some descriptive values about the dataset. We’ll also use multiple assignment, a convenient Python feature that will enable us to do this all in one line."
   ]
  },
  {
   "cell_type": "code",
   "execution_count": 14,
   "id": "908788ba-bce3-4131-95d8-f96286b4bef1",
   "metadata": {},
   "outputs": [
    {
     "name": "stdout",
     "output_type": "stream",
     "text": [
      "maximum max temperature: 96.7\n",
      "minimum max temperature: 30.6\n",
      "standard deviation: 16.614984435991314\n"
     ]
    }
   ],
   "source": [
    "maxval, minval, stdval = np.max(tmax), np.min(tmax), np.std(tmax)\n",
    "\n",
    "print('maximum max temperature:', maxval)\n",
    "print('minimum max temperature:', minval)\n",
    "print('standard deviation:', stdval)"
   ]
  },
  {
   "cell_type": "markdown",
   "id": "58ac4280-91d4-4640-b81d-d20566153c34",
   "metadata": {},
   "source": [
    "#### Mystery Functions in Python[](https://swcarpentry.github.io/python-novice-inflammation/02-numpy/index.html#mystery-functions-in-ipython)\n",
    "> \n",
    "> How did we know what functions NumPy has and how to use them? If you are working in IPython or in a Jupyter Notebook, there is an easy way to find out. If you type the name of something followed by a dot, then you can use [tab completion](https://swcarpentry.github.io/python-novice-inflammation/reference.html#tab-completion) (e.g. type `numpy.` and then press Tab) to see a list of all functions and attributes that you can use. After selecting one, you can also add a question mark (e.g. `numpy.cumprod?`), and IPython will return an explanation of the method! This is the same as doing `help(numpy.cumprod)`. Similarly, if you are using the “plain vanilla” Python interpreter, you can type `numpy.` and press the Tab key twice for a listing of what is available. You can then use the `help()` function to see an explanation of the function you’re interested in, for example: `help(numpy.cumprod)`.\n"
   ]
  },
  {
   "cell_type": "markdown",
   "id": "7eac9a0d-11f3-4d02-93ee-a88809f8aa1f",
   "metadata": {},
   "source": [
    "Our maximum temperature data is organinzed such that the years (from 2000 to 2022) are in the rows and the months are in the columns.\n",
    "\n",
    "When analyzing data, though, we often want to look at variations in statistical values, such as the maximum max temperature per year or the average max temperature per month. One way to do this is to create a new temporary array of the data we want, then ask it to do the calculation:"
   ]
  },
  {
   "cell_type": "code",
   "execution_count": 15,
   "id": "24416434-8feb-4a4c-afba-1a2c0de2e5b2",
   "metadata": {},
   "outputs": [
    {
     "name": "stdout",
     "output_type": "stream",
     "text": [
      "maximum temperature in 2000: 94.7\n"
     ]
    }
   ],
   "source": [
    "# 0 on the first axis (rows), everything on the second (columns)\n",
    "tmax_2000 = tmax[0, :] \n",
    "print('maximum temperature in 2000:', np.max(tmax_2000))"
   ]
  },
  {
   "cell_type": "markdown",
   "id": "4366528a-2e66-4ee3-b211-e9d3349d32ca",
   "metadata": {},
   "source": [
    "We don’t actually need to store the row in a variable of its own. Instead, we can combine the selection and the function call:"
   ]
  },
  {
   "cell_type": "code",
   "execution_count": 16,
   "id": "c250cb68-780d-48dd-b067-8c5e1a9be4b0",
   "metadata": {},
   "outputs": [
    {
     "name": "stdout",
     "output_type": "stream",
     "text": [
      "maximum temperature in 2002: 96.0\n"
     ]
    }
   ],
   "source": [
    "print('maximum temperature in 2002:', np.max(tmax[2, :]))"
   ]
  },
  {
   "cell_type": "markdown",
   "id": "be5b3329-5722-470d-ba1c-1380dd74262c",
   "metadata": {},
   "source": [
    "What if we need the maximum temperature for each year over all months (as in the next diagram on the left) or the average across all years for each month (as in the diagram on the right)? As the diagram below shows, we want to perform the operation across an axis:\n",
    "\n",
    "![](../figures/array-operations.png)\n"
   ]
  },
  {
   "cell_type": "markdown",
   "id": "27b01997-c380-41d6-9c61-7b612caf09d0",
   "metadata": {},
   "source": [
    "To support this functionality, most array functions allow us to specify the axis we want to work on. If we ask for the average across axis 0 (rows in our 2D example), we get:"
   ]
  },
  {
   "cell_type": "code",
   "execution_count": 17,
   "id": "a8eb0eac-753b-4e45-994d-50475f0ffc3d",
   "metadata": {},
   "outputs": [
    {
     "data": {
      "text/plain": [
       "array([48.46521739, 47.93913043, 57.72173913, 65.00869565, 72.70434783,\n",
       "       86.58695652, 92.50869565, 90.35652174, 82.69130435, 67.76956522,\n",
       "       56.75652174, 47.3826087 ])"
      ]
     },
     "execution_count": 17,
     "metadata": {},
     "output_type": "execute_result"
    }
   ],
   "source": [
    "np.mean(tmax, axis=0)"
   ]
  },
  {
   "cell_type": "markdown",
   "id": "cecc0c4d-636d-4796-a51b-649d8e6fd3a0",
   "metadata": {},
   "source": [
    "As a quick check, we can ask this array what its shape is:"
   ]
  },
  {
   "cell_type": "code",
   "execution_count": 18,
   "id": "9aef7190-57f8-47af-88d4-ea344a3efe21",
   "metadata": {},
   "outputs": [
    {
     "data": {
      "text/plain": [
       "(12,)"
      ]
     },
     "execution_count": 18,
     "metadata": {},
     "output_type": "execute_result"
    }
   ],
   "source": [
    "np.mean(tmax, axis=0).shape"
   ]
  },
  {
   "cell_type": "markdown",
   "id": "da6eca4a-e24f-41fa-ad01-4a14db8508cd",
   "metadata": {},
   "source": [
    "The expression (12,) tells us we have an N×1 vector, so this is the average max temperature per month for all years. If we average across axis 1 (columns in our 2D example), we get:"
   ]
  },
  {
   "cell_type": "code",
   "execution_count": 19,
   "id": "2ca7236b-f1d0-4a5e-bee2-1322b27e0b6f",
   "metadata": {},
   "outputs": [
    {
     "data": {
      "text/plain": [
       "array([68.975     , 69.06666667, 68.24166667, 68.34166667, 67.05833333,\n",
       "       68.20833333, 65.125     , 64.35      , 66.65833333, 66.49166667,\n",
       "       68.2       , 67.49166667, 71.26666667, 66.96666667, 67.80833333,\n",
       "       68.59166667, 69.93333333, 69.03333333, 68.74166667, 66.875     ,\n",
       "       69.14166667, 69.09166667, 68.13333333])"
      ]
     },
     "execution_count": 19,
     "metadata": {},
     "output_type": "execute_result"
    }
   ],
   "source": [
    "np.mean(tmax, axis=1)"
   ]
  },
  {
   "cell_type": "markdown",
   "id": "bb8561aa-518b-4177-9e93-453f07987588",
   "metadata": {},
   "source": [
    "which is the average max temperature per year across all months."
   ]
  },
  {
   "cell_type": "markdown",
   "id": "f09ec088-86c9-40e1-8daa-c1241c4bf67a",
   "metadata": {},
   "source": [
    "### ✅ Activity: Slicing Strings\n",
    "----\n",
    "1. A section of an array is called a slice. We can take slices of strings as well:\n",
    "\n",
    "\n",
    "```python\n",
    "element = 'oxygen'\n",
    "print('first three characters:', element[0:3])\n",
    "print('last three characters:', element[3:6])\n",
    "```\n",
    "\n",
    "> first three characters: oxy  \n",
    "> last three characters: gen\n",
    "\n",
    "\n",
    "What is the value of `element[:4]`? What about `element[4:]`? Or `element[:]`?"
   ]
  },
  {
   "cell_type": "markdown",
   "id": "5e36d20a-3f83-4c88-989b-e35b5a495eae",
   "metadata": {},
   "source": [
    "What is element[-1]? What is element[-2]?"
   ]
  },
  {
   "cell_type": "markdown",
   "id": "d0af1e9b-da00-4001-b1e5-a3700047451e",
   "metadata": {},
   "source": [
    "Given those answers, explain what element[1:-1] does."
   ]
  },
  {
   "cell_type": "markdown",
   "id": "8b30c701-007d-472f-862c-28052c44c853",
   "metadata": {},
   "source": [
    "How can we rewrite the slice for getting the last three characters of element, so that it works even if we assign a different string to element? Test your solution with the following strings: carpentry, clone, hi."
   ]
  },
  {
   "cell_type": "markdown",
   "id": "6911d5c4-bae5-409a-850b-806235411ae2",
   "metadata": {},
   "source": [
    "### ✅ Activity: Stacking Arrays\n",
    "----\n",
    "2. Arrays can be concatenated and stacked on top of one another, using NumPy’s vstack and hstack functions for vertical and horizontal stacking, respectively."
   ]
  },
  {
   "cell_type": "code",
   "execution_count": 20,
   "id": "7f13866c-50cd-4c44-b0f4-c44cabb1b226",
   "metadata": {},
   "outputs": [
    {
     "name": "stdout",
     "output_type": "stream",
     "text": [
      "A = \n",
      "[[1 2 3]\n",
      " [4 5 6]\n",
      " [7 8 9]]\n",
      "B = \n",
      "[[1 2 3 1 2 3]\n",
      " [4 5 6 4 5 6]\n",
      " [7 8 9 7 8 9]]\n",
      "C = \n",
      "[[1 2 3]\n",
      " [4 5 6]\n",
      " [7 8 9]\n",
      " [1 2 3]\n",
      " [4 5 6]\n",
      " [7 8 9]]\n"
     ]
    }
   ],
   "source": [
    "A = np.array([[1,2,3], [4,5,6], [7, 8, 9]])\n",
    "print('A = ')\n",
    "print(A)\n",
    "\n",
    "B = np.hstack([A, A])\n",
    "print('B = ')\n",
    "print(B)\n",
    "\n",
    "C = np.vstack([A, A])\n",
    "print('C = ')\n",
    "print(C)"
   ]
  },
  {
   "cell_type": "markdown",
   "id": "1e4b64a5-0363-4452-8174-5829fac2d71c",
   "metadata": {},
   "source": [
    "Write some additional code that slices the first and last columns of A, and stacks them into a 3x2 array. Make sure to print the results to verify your solution."
   ]
  },
  {
   "cell_type": "markdown",
   "id": "228bf16b-4712-40f6-9ca0-b31364465629",
   "metadata": {},
   "source": [
    "---"
   ]
  },
  {
   "cell_type": "markdown",
   "id": "24f9e0bb-fb61-4741-8982-2ac0a70b2d90",
   "metadata": {},
   "source": [
    "🔎 Key Points\n",
    "- Import a library into a program using import libraryname.\n",
    "- Use the numpy library to work with arrays in Python.\n",
    "- The expression array.shape gives the shape of an array.\n",
    "- Use array[x, y] to select a single element from a 2D array.\n",
    "- Array indices start at 0, not 1.\n",
    "- Use low:high to specify a slice that includes the indices from low to high-1.\n",
    "- Use # some kind of explanation to add comments to programs.\n",
    "- Use numpy.mean(array), numpy.max(array), and numpy.min(array) to calculate simple statistics.\n",
    "- Use numpy.mean(array, axis=0) or numpy.mean(array, axis=1) to calculate statistics across the specified axis."
   ]
  }
 ],
 "metadata": {
  "kernelspec": {
   "display_name": "Python 3 (ipykernel)",
   "language": "python",
   "name": "python3"
  },
  "language_info": {
   "codemirror_mode": {
    "name": "ipython",
    "version": 3
   },
   "file_extension": ".py",
   "mimetype": "text/x-python",
   "name": "python",
   "nbconvert_exporter": "python",
   "pygments_lexer": "ipython3",
   "version": "3.10.6"
  }
 },
 "nbformat": 4,
 "nbformat_minor": 5
}
