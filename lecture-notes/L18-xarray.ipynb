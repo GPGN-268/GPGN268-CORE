{
 "cells": [
  {
   "cell_type": "markdown",
   "id": "da744b7d-c979-4c1c-bf9d-34bf47219e81",
   "metadata": {},
   "source": [
    " 🌎 GPGN268 - Geophysical Data Analysis\n",
    "- **Instructor:** Bia Villas Boas  \n",
    "- **TA:** Seunghoo Kim\n",
    "\n",
    "## Lecture 17: Introduction to netCDF\n",
    "\n",
    "#### 🎯 Learning Objectives from this Lecture:\n",
    "- Describe the netcdf data format as it is used to store climate data\n",
    "- Describe how xarray can be used to read netCDF files"
   ]
  },
  {
   "cell_type": "markdown",
   "id": "dce70046-804a-4704-8431-5c3b70a59249",
   "metadata": {},
   "source": [
    "## What is netCDF Data?\n",
    "NetCDF (network Common Data Form) is a hierarchical data format. It is what is known as a “self-describing” data structure which means that metadata, or descriptions of the data, are included in the file itself and can be parsed programmatically, meaning that they can be accessed using code dto build automated and reproducible workflows.\n",
    "\n",
    "The NetCDF format can store data with multiple dimensions. It can also store different types of data through arrays that can contain geospatial imagery, rasters, terrain data, climate data, and text. These arrays support metadata, making the netCDF format highly flexible. NetCDF was developed and is supported by [UCAR](https://www.ucar.edu/) who maintains standards and software that support the use of the format.\n",
    "\n",
    "### Data in netCDF format is:\n",
    "\n",
    "- **Self-Describing**. A netCDF file includes information about the data it contains.\n",
    "- **Portable**. A netCDF file can be accessed by computers with different ways of storing integers, characters, and floating-point numbers.\n",
    "- **Scalable**. Small subsets of large datasets in various formats may be accessed efficiently through netCDF interfaces, even from remote servers.\n",
    "- **Appendable**. Data may be appended to a properly structured netCDF file without copying the dataset or redefining its structure.\n",
    "- **Sharable**. One writer and multiple readers may simultaneously access the same netCDF file.\n",
    "- **Archivable**. Access to all earlier forms of netCDF data will be supported by current and future versions of the software.”\n",
    "\n",
    "### NetCDF4 Format for Climate Data\n",
    "The hierarchical and flexible nature of netcdf files supports storing data in many different ways. The netCDF4 data standard is used broadly by the climate science community to store climate data. Climate data are:\n",
    "\n",
    "- often delivered in a time series format (months and years of historic or future projected data).\n",
    "- spatial in nature, covering regions such as the United States or even the world.\n",
    "- driven by models which require documentation making the self describing aspect of netCDF files useful.\n"
   ]
  },
  {
   "cell_type": "markdown",
   "id": "c0d4f3ed-ccbc-415d-8998-afca5beba847",
   "metadata": {},
   "source": [
    "## Xarray for multidimensional gridded data\n",
    "\n",
    "In the previous set of lectures, we saw how Pandas provided a way to keep track of additional “metadata” surrounding tabular datasets, including “indexes” for each row and labels for each column. These features, together with Pandas’ many useful routines for all kinds of data munging and analysis, have made Pandas one of the most popular python packages in the world.\n",
    "\n",
    "However, not all Earth science datasets easily fit into the “tabular” model (i.e. rows and columns) imposed by Pandas. In particular, we often deal with multidimensional data. By multidimensional data (also often called N-dimensional), I mean data with many independent dimensions or axes. For example, we might represent Earth’s surface temperature $T$ as a three dimensional variable\n",
    "\n",
    "$$\n",
    "T(x, y, t)\n",
    "$$\n",
    "\n",
    "where \n",
    "$x$ is longitude, $y$ is latitude, and $y$ is time.\n",
    "\n",
    "The point of xarray is to provide pandas-level convenience for working with this type of data.\n",
    "\n",
    "![](https://docs.xarray.dev/en/stable/_images/dataset-diagram.png)"
   ]
  },
  {
   "cell_type": "markdown",
   "id": "4c911871-fce9-4e8b-b0ac-801ad65df857",
   "metadata": {},
   "source": [
    "## Xarray data structures\n",
    "\n",
    "Like Pandas, xarray has two fundamental data structures:\n",
    "\n",
    "- a `DataArray`, which holds a single multi-dimensional variable and its coordinates\n",
    "\n",
    "- a `Dataset`, which holds multiple variables that potentially share the same coordinates\n",
    "\n",
    "### DataArray\n",
    "A DataArray has four essential attributes:\n",
    "\n",
    "- `values`: a `numpy.ndarray` holding the array’s values\n",
    "\n",
    "- `dims`: dimension names for each axis (e.g., ('x', 'y', 'z'))\n",
    "\n",
    "- `coords`: a dict-like container of arrays (coordinates) that label each point (e.g., 1-dimensional arrays of numbers, datetime objects or strings)\n",
    "\n",
    "- `attrs`: an `OrderedDict` to hold arbitrary metadata (attributes)\n",
    "\n",
    "Let’s start by constructing some DataArrays manually"
   ]
  },
  {
   "cell_type": "markdown",
   "id": "f99272ee-3576-4f22-b0c1-f42280425e07",
   "metadata": {},
   "source": [
    "## The Argo program\n",
    "\n",
    "We will get some practice with `xarray` using data from [Argo floats](https://argo.ucsd.edu/)\n",
    "\n",
    "![](https://argo.ucsd.edu/wp-content/uploads/sites/361/2020/03/APEX_world_HJF-225x300.jpg)\n",
    "\n",
    "Data from Argo floats are available from several data centers. Here, we will use the data available form the French Institure for Ocean Research [IFREMER](https://data-argo.ifremer.fr/)\n"
   ]
  },
  {
   "cell_type": "code",
   "execution_count": null,
   "id": "60bc6459-4900-472c-b507-5bf903d39b3d",
   "metadata": {},
   "outputs": [],
   "source": [
    "import numpy as np\n",
    "import xarray as xr\n",
    "from matplotlib import pyplot as plt\n",
    "\n",
    "import cartopy.crs as ccrs"
   ]
  },
  {
   "cell_type": "code",
   "execution_count": null,
   "id": "9c01b691-3539-447e-92cc-143be8643b4e",
   "metadata": {
    "tags": []
   },
   "outputs": [],
   "source": [
    "# We use xarray.load_dataset to load our profile data \n",
    "ds_raw = xr.load_dataset('/Users/bia/Downloads/5901429_prof.nc')"
   ]
  },
  {
   "cell_type": "markdown",
   "id": "daee820c-9a99-4ff4-b81a-2e35b61f0dac",
   "metadata": {},
   "source": [
    "xarray will read the netCDF data as an `xarray.Dataset` object. Below, we see that our dataset has 64 variables and 5 dimension. Looking at the file's Attributes it becomes clear what we mean by metadata and self-describing."
   ]
  },
  {
   "cell_type": "code",
   "execution_count": null,
   "id": "95559866-786a-4e1b-89d1-435bc6e38461",
   "metadata": {
    "tags": []
   },
   "outputs": [],
   "source": [
    "ds_raw"
   ]
  },
  {
   "cell_type": "markdown",
   "id": "36c6484d-2ff1-4b2e-9e6c-e38344ea53dc",
   "metadata": {},
   "source": [
    "Similarly to `pandas`, we can visualize the data directly from `xarray`. Below, we use the \"dot\" notation to access the variable `TEMP_ADJUSTED` and make a plot. Note that xarray used the metadata to already add information to the plot in the form of axes labels (it shows even the units 🤯)"
   ]
  },
  {
   "cell_type": "code",
   "execution_count": null,
   "id": "996f8bc3-8838-4851-9ece-476969e9c548",
   "metadata": {
    "tags": []
   },
   "outputs": [],
   "source": [
    "ds_raw.TEMP_ADJUSTED.plot()"
   ]
  },
  {
   "cell_type": "markdown",
   "id": "43fb8cda-d186-46a0-b8aa-1336bf99de73",
   "metadata": {},
   "source": [
    "What we have here is sea temperature as a function of N_LEVELS and N_RPOFILES. This is not very intuitive. Maybe it would make more sense to analize temperature as a function of depth and time. Also, we don't need all variables from this files and the variable names are a bit annoying to type. Let's go head and do some data cleanup."
   ]
  },
  {
   "cell_type": "code",
   "execution_count": null,
   "id": "c8414d10-131c-412d-bd48-d2d322397295",
   "metadata": {
    "tags": []
   },
   "outputs": [],
   "source": [
    "# Define a list with the variables that we want to keep\n",
    "variables = ['PRES_ADJUSTED','TEMP_ADJUSTED', 'PSAL_ADJUSTED', 'LATITUDE', 'LONGITUDE', 'JULD']\n",
    "# Select only these variables from the whole dataset\n",
    "ds = ds_raw[variables]\n",
    "ds"
   ]
  },
  {
   "cell_type": "markdown",
   "id": "c8cf19d5-a6d8-4318-8a46-3a14c1d69ce2",
   "metadata": {},
   "source": [
    "Now, we can rename variables in `xarray`, using the method `rename` and passing the current variable names and the respective new variable names in the form of a dictionary `{'current_name1':'new_name1', 'current_name2':'new_name2'}`. For example"
   ]
  },
  {
   "cell_type": "code",
   "execution_count": null,
   "id": "808a628c-b46e-4377-88e8-41321518550b",
   "metadata": {
    "tags": []
   },
   "outputs": [],
   "source": [
    "ds = ds.rename({'JULD':'time'})\n",
    "ds"
   ]
  },
  {
   "cell_type": "markdown",
   "id": "b759bb19-29a2-4ffc-b19d-3aea357816ed",
   "metadata": {},
   "source": [
    "Now, let's do this for the othe variables "
   ]
  },
  {
   "cell_type": "code",
   "execution_count": null,
   "id": "f0d17113-56b5-4beb-837b-00e700070782",
   "metadata": {
    "tags": []
   },
   "outputs": [],
   "source": [
    "ds = ds.rename({'PRES_ADJUSTED':'pressure', 'TEMP_ADJUSTED':'temperature',\n",
    "               'PSAL_ADJUSTED':'salinity', 'LATITUDE':'latitude',\n",
    "                'LONGITUDE':'longitude'})\n",
    "ds"
   ]
  },
  {
   "cell_type": "code",
   "execution_count": null,
   "id": "6a90a44f-1320-4730-80ee-712ca1554d4b",
   "metadata": {
    "tags": []
   },
   "outputs": [],
   "source": [
    "ds.temperature"
   ]
  },
  {
   "cell_type": "markdown",
   "id": "6adfcce0-d830-4e55-b607-6eddd1b8db3a",
   "metadata": {},
   "source": [
    "We have succefully changed the variable names. Now, we see that the dataset dimensions are profile number and level number (N_PROF, N_LEVELS), but we would prefer to have time as a dimension. We can swap the dimension `N_PROF` with `time`"
   ]
  },
  {
   "cell_type": "code",
   "execution_count": null,
   "id": "846493d0-bb35-4ca0-87b5-e8872bb3b242",
   "metadata": {
    "tags": []
   },
   "outputs": [],
   "source": [
    "ds = ds.swap_dims({'N_PROF':'time'})\n",
    "ds"
   ]
  },
  {
   "cell_type": "markdown",
   "id": "e170ccee-1bf0-4809-9910-1f97645d510e",
   "metadata": {},
   "source": [
    "Nice! Now, if we try to plot temperature `xarray` will disply it as a function of time."
   ]
  },
  {
   "cell_type": "code",
   "execution_count": null,
   "id": "129a011e-4ccf-47c6-9485-15b6dfe64ee0",
   "metadata": {
    "tags": []
   },
   "outputs": [],
   "source": [
    "ds.temperature.plot()"
   ]
  },
  {
   "cell_type": "markdown",
   "id": "8ba2761a-04ab-471d-a1ee-cceabcda1603",
   "metadata": {},
   "source": [
    "### Operations in xarray are dimension aware\n",
    "\n",
    "- Back when we were using numpy, if we wanted to perform an operation on a given array, we had to specify the axis on which to operate. For example, `np.mean(data, axis=1)`. In `xarray` this is much more intuitive: you specify the dimension on which we want to operate."
   ]
  },
  {
   "cell_type": "code",
   "execution_count": null,
   "id": "bb114b9c-8284-4ed7-af43-7c5fb54b29d5",
   "metadata": {
    "tags": []
   },
   "outputs": [],
   "source": [
    "ds.temperature.mean(dim='N_LEVELS').plot()"
   ]
  },
  {
   "cell_type": "markdown",
   "id": "d4366018-70f8-4564-8669-bd904ae25f7f",
   "metadata": {},
   "source": [
    "### 🤔 Pressure or depth?\n",
    "- The pressure in this file is given in decibar. Discuss with your peers what is a decibar and how it relates to depth.\n",
    "- It seems like the pressure values in your dataset are not exactly the same for each profile. Discuss with your peers some strategies the you could use to have a comon range of depths for all profiles and map the dimension 'N_LEVELS' to depth in your dataset. "
   ]
  },
  {
   "cell_type": "code",
   "execution_count": null,
   "id": "21b5387d-a52a-4567-b7cf-770b4f4941f5",
   "metadata": {
    "tags": []
   },
   "outputs": [],
   "source": [
    "# Hide this cell\n",
    "ds.pressure.mean(dim='time').plot()\n",
    "ds.pressure.median(dim='time').plot()\n",
    "ds.pressure.max(dim='time').plot()\n",
    "ds.pressure.min(dim='time').plot()"
   ]
  },
  {
   "cell_type": "code",
   "execution_count": null,
   "id": "ae4a05ea-251f-4686-8b60-0b97761ce035",
   "metadata": {
    "tags": []
   },
   "outputs": [],
   "source": [
    "depths = ds.pressure.median(dim='time')\n",
    "ds['depth'] = depths\n",
    "ds = ds.swap_dims({'N_LEVELS':'depth'})\n",
    "ds"
   ]
  },
  {
   "cell_type": "code",
   "execution_count": null,
   "id": "98bf706c-e74b-42c5-a536-12b3e4b54b15",
   "metadata": {
    "tags": []
   },
   "outputs": [],
   "source": [
    "ds.temperature.plot()"
   ]
  },
  {
   "cell_type": "code",
   "execution_count": null,
   "id": "c31b4b32-3355-4636-9007-5f30e8698fb0",
   "metadata": {
    "tags": []
   },
   "outputs": [],
   "source": [
    "ds.temperature.plot(x='time', y='depth', yincrease=False)"
   ]
  },
  {
   "cell_type": "markdown",
   "id": "e827404c-a33b-4b94-81df-2652c7d1842d",
   "metadata": {},
   "source": [
    "### Data selection in xarray\n",
    "\n",
    "Similarly to pandas `loc` and `iloc`, in xarray you can select data by index or by the actual value of the data. For example: "
   ]
  },
  {
   "cell_type": "code",
   "execution_count": null,
   "id": "1dddfb31-f047-425e-8808-bd11c41e3cdc",
   "metadata": {
    "tags": []
   },
   "outputs": [],
   "source": [
    "ds.temperature.isel(time=10).plot(y='depth', yincrease=False)"
   ]
  },
  {
   "cell_type": "code",
   "execution_count": null,
   "id": "7329dd80-12bb-45e4-bfb6-07f989032faa",
   "metadata": {
    "tags": []
   },
   "outputs": [],
   "source": [
    "# You can also ask for a slice\n",
    "ds.temperature.isel(time=slice(0, 20)).plot()"
   ]
  },
  {
   "cell_type": "code",
   "execution_count": null,
   "id": "2e76c422-12bc-485e-8594-682e21425942",
   "metadata": {
    "tags": []
   },
   "outputs": [],
   "source": [
    "# Which also works with multiple dimensions\n",
    "ds.temperature.isel(time=slice(0, 20), depth=slice(0, 10)).plot()"
   ]
  },
  {
   "cell_type": "code",
   "execution_count": null,
   "id": "cae56e80-c39b-401d-96d5-c8bfcdc9f626",
   "metadata": {
    "tags": []
   },
   "outputs": [],
   "source": [
    "ds.temperature.sel(time=\"2007-01-15\")"
   ]
  },
  {
   "cell_type": "code",
   "execution_count": null,
   "id": "382c0837-5444-4d5f-be22-ea9878cde182",
   "metadata": {
    "tags": []
   },
   "outputs": [],
   "source": [
    "ds.temperature.sel(time=\"2007-01-15\", method='nearest')"
   ]
  },
  {
   "cell_type": "code",
   "execution_count": null,
   "id": "4f15ba9f-78b2-4ae9-a296-9a86d8878442",
   "metadata": {},
   "outputs": [],
   "source": []
  }
 ],
 "metadata": {
  "kernelspec": {
   "display_name": "Python 3 (ipykernel)",
   "language": "python",
   "name": "python3"
  },
  "language_info": {
   "codemirror_mode": {
    "name": "ipython",
    "version": 3
   },
   "file_extension": ".py",
   "mimetype": "text/x-python",
   "name": "python",
   "nbconvert_exporter": "python",
   "pygments_lexer": "ipython3",
   "version": "3.10.9"
  }
 },
 "nbformat": 4,
 "nbformat_minor": 5
}
