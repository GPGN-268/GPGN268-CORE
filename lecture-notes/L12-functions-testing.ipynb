{
 "cells": [
  {
   "cell_type": "markdown",
   "id": "e3c2b2ec-6993-492f-9a80-35dd0d9e4555",
   "metadata": {
    "tags": []
   },
   "source": [
    "# 🌎 GPGN268 - Geophysical Data Analysis\n",
    "- **Instructor:** Bia Villas Boas  \n",
    "- **TA:** Seunghoo Kim\n",
    "\n",
    "## Lecture 12: Functions, documentation and unit testing.\n",
    "\n",
    "#### 🎯 Learning Objectives from this Lecture:\n",
    "- Define a function that takes parameters.\n",
    "- Return a value from a function.\n",
    "- Test and debug a function.\n",
    "- Set default values for function parameters.\n",
    "- Explain why we should divide programs into small, single-purpose functions."
   ]
  },
  {
   "cell_type": "markdown",
   "id": "5a20129e-c006-4a57-b6dd-71532db6048c",
   "metadata": {},
   "source": [
    "## Background\n",
    "At this point, we’ve written code to draw some interesting features in our meteorological data. But, our code is getting pretty long and complicated; what if we had thousands of datasets, wanted to generate a figures for every single one? Also, what if we want to use that code again, on a different dataset or at a different point in our program? Copying and pasting it is going to make our code get very long and very repetitive, very quickly."
   ]
  },
  {
   "cell_type": "code",
   "execution_count": 1,
   "id": "3d9bad47-cfb2-4b30-a96c-ad61900a9fb4",
   "metadata": {},
   "outputs": [],
   "source": [
    "# Import libraries\n",
    "import numpy as np\n",
    "import matplotlib.pyplot as plt"
   ]
  },
  {
   "cell_type": "markdown",
   "id": "78469437-8303-45c0-b2e2-39e5b665be7b",
   "metadata": {},
   "source": [
    "Suppose we wanted to check if there are any invalid measurements on our meteorogical files. We could do something like this:"
   ]
  },
  {
   "cell_type": "code",
   "execution_count": 2,
   "id": "d5e4985e-99c2-42ff-a2fd-a0ac3d8ec35c",
   "metadata": {},
   "outputs": [
    {
     "name": "stdout",
     "output_type": "stream",
     "text": [
      "Maximum: 96.7\n",
      "Minimum: 30.6\n",
      "Mean: 67.9909420289855\n",
      "Standard deviation: 16.614984435991314\n"
     ]
    }
   ],
   "source": [
    "# Read tmax and print statistics\n",
    "tmax = np.loadtxt(fname='../assignments/intro-python/data/meteo_denver_tmax_2000_2022.txt',\n",
    "                  delimiter='\\t')\n",
    "\n",
    "print('Maximum:', tmax.max())\n",
    "print('Minimum:', tmax.min())\n",
    "print('Mean:', tmax.mean())\n",
    "print('Standard deviation:', tmax.std())"
   ]
  },
  {
   "cell_type": "code",
   "execution_count": 3,
   "id": "1514b1dc-0b62-491c-abd7-cabdc24ee054",
   "metadata": {},
   "outputs": [
    {
     "name": "stdout",
     "output_type": "stream",
     "text": [
      "Maximum: 6.69\n",
      "Minimum: -999.0\n",
      "Mean: -6.003659420289854\n",
      "Standard deviation: 84.84519883429958\n"
     ]
    }
   ],
   "source": [
    "# Read precip and print statistics\n",
    "precip = np.loadtxt(fname='../assignments/intro-python/data/meteo_denver_precip_2000_2022.txt',\n",
    "                    delimiter='\\t')\n",
    "\n",
    "print('Maximum:', precip.max())\n",
    "print('Minimum:', precip.min())\n",
    "print('Mean:', precip.mean())\n",
    "print('Standard deviation:', precip.std())"
   ]
  },
  {
   "cell_type": "markdown",
   "id": "ca62a021-4716-412d-895c-0e848b55ff2d",
   "metadata": {},
   "source": [
    "Copying and pasting for each file will not only be repetitive but it's also an approach that is prone to errors and typos. We’d like a way to package our code so that it is easier to reuse, and Python provides for this by letting us define things called ‘functions’ — a shorthand way of re-executing longer pieces of code.\n",
    "\n",
    "Functions can help you to both eliminate repetition and improve efficiency in your code through **modularity**.\n",
    "\n",
    "> Modularity means that code is separated into independent units that can be reused and even be combined to complete a longer chain of tasks."
   ]
  },
  {
   "cell_type": "markdown",
   "id": "94ecaea3-8b65-42a3-8baa-b3f2773118e9",
   "metadata": {},
   "source": [
    "## Functions"
   ]
  },
  {
   "cell_type": "markdown",
   "id": "0f0dce00-d5e3-4742-8578-662015e6a21c",
   "metadata": {},
   "source": [
    "Let’s start by defining a function `fahr_to_celsius` that converts temperatures from Fahrenheit to Celsius:"
   ]
  },
  {
   "cell_type": "code",
   "execution_count": 4,
   "id": "b50772ea-046f-4ee5-90fe-acf04238e1ee",
   "metadata": {},
   "outputs": [],
   "source": [
    "def fahr_to_celsius(temp):\n",
    "    return ((temp - 32) * (5/9))"
   ]
  },
  {
   "cell_type": "markdown",
   "id": "bad3c3fb-6e7a-4d4a-934d-a8d6a9805018",
   "metadata": {},
   "source": [
    "<center><img src=\"https://swcarpentry.github.io/python-novice-inflammation/fig/python-function.svg\"/></center>\n",
    "\n",
    "The function definition opens with the keyword def followed by the name of the function (fahr_to_celsius) and a parenthesized list of parameter names (temp). The body of the function — the statements that are executed when it runs — is indented below the definition line. The body concludes with a return keyword followed by the return value.\n",
    "\n",
    "When we call the function, the values we pass to it are assigned to those variables so that we can use them inside the function. Inside the function, we use a return statement to send a result back to whoever asked for it.\n",
    "\n",
    "Let’s try running our function."
   ]
  },
  {
   "cell_type": "code",
   "execution_count": 5,
   "id": "da5c7f72-ff7d-46f8-8065-a65acea42e5b",
   "metadata": {},
   "outputs": [
    {
     "data": {
      "text/plain": [
       "0.0"
      ]
     },
     "execution_count": 5,
     "metadata": {},
     "output_type": "execute_result"
    }
   ],
   "source": [
    "fahr_to_celsius(32)"
   ]
  },
  {
   "cell_type": "markdown",
   "id": "f589fb4e-9695-495e-8d03-cef7da5d7cbf",
   "metadata": {},
   "source": [
    "This command should call our function, using “32” as the input and return the function value.\n",
    "\n",
    "In fact, calling our own function is no different from calling any other function, such as `print`, and we can combine functions like below:"
   ]
  },
  {
   "cell_type": "code",
   "execution_count": 6,
   "id": "07a502e1-bf37-4d29-bb92-3147b1cfd0f5",
   "metadata": {},
   "outputs": [
    {
     "name": "stdout",
     "output_type": "stream",
     "text": [
      "freezing point of water: 0.0 C\n",
      "boiling point of water: 100.0 C\n"
     ]
    }
   ],
   "source": [
    "print('freezing point of water:', fahr_to_celsius(32), 'C')\n",
    "print('boiling point of water:', fahr_to_celsius(212), 'C')"
   ]
  },
  {
   "cell_type": "markdown",
   "id": "4039ba32-a837-4ee7-b84c-77adfa66ec3f",
   "metadata": {},
   "source": [
    "We’ve successfully called the function that we defined, and we have access to the value that we returned."
   ]
  },
  {
   "cell_type": "markdown",
   "id": "08aa2e4a-353e-45c8-b6ee-df85287a9178",
   "metadata": {},
   "source": [
    "### Combining functions\n",
    "\n",
    "Now that we’ve seen how to turn Fahrenheit into Celsius, we can also write the function to turn Celsius into Kelvin:"
   ]
  },
  {
   "cell_type": "code",
   "execution_count": 7,
   "id": "63fbc7f5-39aa-46dd-956a-4f1208845faf",
   "metadata": {},
   "outputs": [
    {
     "name": "stdout",
     "output_type": "stream",
     "text": [
      "freezing point of water in Kelvin: 273.15\n"
     ]
    }
   ],
   "source": [
    "def celsius_to_kelvin(temp_c):\n",
    "    return temp_c + 273.15\n",
    "\n",
    "print('freezing point of water in Kelvin:', celsius_to_kelvin(0.))"
   ]
  },
  {
   "cell_type": "markdown",
   "id": "4c203372-612a-4b9c-9bee-a85862f31a5f",
   "metadata": {},
   "source": [
    "What about converting Fahrenheit to Kelvin? We could write out the formula, but we don’t need to. Instead, we can combine the two functions we have already created:"
   ]
  },
  {
   "cell_type": "code",
   "execution_count": 8,
   "id": "f8de054a-659b-46c3-9325-0d58a1a5f525",
   "metadata": {},
   "outputs": [
    {
     "name": "stdout",
     "output_type": "stream",
     "text": [
      "boiling point of water in Kelvin: 373.15\n"
     ]
    }
   ],
   "source": [
    "def fahr_to_kelvin(temp_f):\n",
    "    temp_c = fahr_to_celsius(temp_f)\n",
    "    temp_k = celsius_to_kelvin(temp_c)\n",
    "    return temp_k\n",
    "\n",
    "print('boiling point of water in Kelvin:', fahr_to_kelvin(212.0))"
   ]
  },
  {
   "cell_type": "markdown",
   "id": "f62594ce-eae7-419a-bb02-9a246df256a5",
   "metadata": {},
   "source": [
    "This is our first taste of how larger programs are built: we define basic operations, then combine them in ever-larger chunks to get the effect we want. Real-life functions will usually be larger than the ones shown here — typically half a dozen to a few dozen lines — but they shouldn’t ever be much longer than that, or the next person who reads it won’t be able to understand what’s going on."
   ]
  },
  {
   "cell_type": "markdown",
   "id": "a19726a9-c6ac-4e03-8323-349ff3a3f5ae",
   "metadata": {},
   "source": [
    "### Variable Scope\n",
    "\n",
    "In composing our temperature conversion functions, we created variables inside of those functions: `temp`, `temp_c`, `temp_f`, and `temp_k`. We refer to these variables as local variables because they no longer exist once the function is done executing. If we try to access their values outside of the function, we will encounter an error:"
   ]
  },
  {
   "cell_type": "code",
   "execution_count": 10,
   "id": "325764e4-d1ed-44d9-b7a3-4b1fd0a34e16",
   "metadata": {},
   "outputs": [
    {
     "ename": "NameError",
     "evalue": "name 'temp_k' is not defined",
     "output_type": "error",
     "traceback": [
      "\u001b[0;31m---------------------------------------------------------------------------\u001b[0m",
      "\u001b[0;31mNameError\u001b[0m                                 Traceback (most recent call last)",
      "Cell \u001b[0;32mIn[10], line 1\u001b[0m\n\u001b[0;32m----> 1\u001b[0m \u001b[38;5;28mprint\u001b[39m(\u001b[38;5;124m'\u001b[39m\u001b[38;5;124mAgain, temperature in Kelvin was:\u001b[39m\u001b[38;5;124m'\u001b[39m, \u001b[43mtemp_k\u001b[49m)\n",
      "\u001b[0;31mNameError\u001b[0m: name 'temp_k' is not defined"
     ]
    }
   ],
   "source": [
    "print('Again, temperature in Kelvin was:', temp_k)"
   ]
  },
  {
   "cell_type": "markdown",
   "id": "7ed89d14-5622-4e77-94a8-bc4d62facb16",
   "metadata": {},
   "source": [
    "If you want to reuse the temperature in Kelvin after you have calculated it with fahr_to_kelvin, you can store the result of the function call in a variable:"
   ]
  },
  {
   "cell_type": "code",
   "execution_count": 11,
   "id": "f279e9b9-3b81-4e08-8ec0-0401767cd2af",
   "metadata": {},
   "outputs": [
    {
     "name": "stdout",
     "output_type": "stream",
     "text": [
      "temperature in Kelvin was: 373.15\n"
     ]
    }
   ],
   "source": [
    "temp_kelvin = fahr_to_kelvin(212.0)\n",
    "print('temperature in Kelvin was:', temp_kelvin)"
   ]
  },
  {
   "cell_type": "markdown",
   "id": "abb982b5-db23-401b-9119-8dd9b36befda",
   "metadata": {},
   "source": [
    "The variable temp_kelvin, being defined outside any function, is said to be **global**. Inside a function, one can read the value of such global variables:"
   ]
  },
  {
   "cell_type": "code",
   "execution_count": 12,
   "id": "16f308bf-3908-40c6-9d46-e88e4eb6546d",
   "metadata": {},
   "outputs": [
    {
     "name": "stdout",
     "output_type": "stream",
     "text": [
      "temperature in Fahrenheit was: 212.0\n",
      "temperature in Kelvin was: 373.15\n"
     ]
    }
   ],
   "source": [
    "def print_temperatures():\n",
    "  print('temperature in Fahrenheit was:', temp_fahr)\n",
    "  print('temperature in Kelvin was:', temp_kelvin)\n",
    "\n",
    "temp_fahr = 212.0\n",
    "temp_kelvin = fahr_to_kelvin(temp_fahr)\n",
    "\n",
    "print_temperatures()"
   ]
  },
  {
   "cell_type": "markdown",
   "id": "38bfec68-ef2b-48fb-8a93-4329aea20699",
   "metadata": {},
   "source": [
    "### Writing a function for our own data\n",
    "Let's define a function to print the statistics of our data"
   ]
  },
  {
   "cell_type": "code",
   "execution_count": 13,
   "id": "d9d4b10e-6136-49ba-b459-48b19ec86c6f",
   "metadata": {},
   "outputs": [],
   "source": [
    "def print_stats(data):\n",
    "    print('###### Statistics ######')\n",
    "    print('Maximum:', data.max())\n",
    "    print('Minimum:', data.min())\n",
    "    print('Mean:', data.mean())\n",
    "    print('Standard deviation:', data.std())"
   ]
  },
  {
   "cell_type": "code",
   "execution_count": 14,
   "id": "f7e694b6-445d-468a-b28d-87f2784481fb",
   "metadata": {},
   "outputs": [
    {
     "name": "stdout",
     "output_type": "stream",
     "text": [
      "###### Statistics ######\n",
      "Maximum: 6.69\n",
      "Minimum: -999.0\n",
      "Mean: -6.003659420289854\n",
      "Standard deviation: 84.84519883429958\n"
     ]
    }
   ],
   "source": [
    "print_stats(precip)"
   ]
  },
  {
   "cell_type": "markdown",
   "id": "1dc263d1-9630-4874-83eb-1aad5373675b",
   "metadata": {},
   "source": [
    "Note that `return` and `print` are not interchangeable. `print` is a Python function that prints data to the screen. It enables us, users, see the data. A `return` statement, on the other hand, makes data visible to the program. \n",
    "\n",
    "> Note that we named our function `print_stats`. By giving our functions human-readable names, we can more easily read and understand what is happening in our code. "
   ]
  },
  {
   "cell_type": "markdown",
   "id": "21d240b9-b26e-4ccf-b4e1-d38f214f0a63",
   "metadata": {},
   "source": [
    "## Testing and Documenting"
   ]
  },
  {
   "cell_type": "markdown",
   "id": "8ee6e539-6de4-4cf0-960a-73eb1d41833b",
   "metadata": {},
   "source": [
    "Once we start putting things in functions so that we can re-use them, we need to start documenting and testing to see if those functions are working correctly. To see how to do this, let’s write a function that converts from centimiters to inches."
   ]
  },
  {
   "cell_type": "code",
   "execution_count": 15,
   "id": "02d4677f-11c6-4de6-96dc-0da4392ae057",
   "metadata": {},
   "outputs": [],
   "source": [
    "def centimeters_to_inches(cm):\n",
    "    inches = cm / 2.54    \n",
    "    return inches"
   ]
  },
  {
   "cell_type": "markdown",
   "id": "8aa1c9e8-8d0a-4a21-9618-16112eff7237",
   "metadata": {},
   "source": [
    "### Documenting\n",
    "In Python, functions should also contain a docstring, or a multi-line documentation comment, that provides details about the function, including the specifics of the input parameters and the returns (e.g. type of objects, additional description) and any other important documentation about how to use the function. Docstrings look something like this:"
   ]
  },
  {
   "cell_type": "code",
   "execution_count": 16,
   "id": "b0ef460c-353a-4e8f-8e3b-8afd3cc183ef",
   "metadata": {},
   "outputs": [],
   "source": [
    " def centimeters_to_inches(cm):\n",
    "    \"\"\"Docstrings should include a short description of the function here \n",
    "    \n",
    "    Then you skip a line and write a detailed description \n",
    "    as well as identify the parameters (inputs) that the function \n",
    "    can take and the return (output) provided by the function,\n",
    "    as shown below. \n",
    "    \n",
    "    Parameters\n",
    "    ----------\n",
    "    input : type\n",
    "        Description of input.\n",
    "    \n",
    "    Returns\n",
    "    ------\n",
    "    output : type\n",
    "        Description of output.\n",
    "    \n",
    "    Notes\n",
    "    -----\n",
    "    Add notes here.\n",
    "    \n",
    "    Examples\n",
    "    --------\n",
    "    Add examples here\n",
    "    \n",
    "    \"\"\"\n",
    "    \n",
    "    inches = cm / 2.54    \n",
    "    \n",
    "    return inches"
   ]
  },
  {
   "cell_type": "markdown",
   "id": "a920df3f-7b0d-42d2-a543-716f507a992b",
   "metadata": {},
   "source": [
    "Note that a docstring is not required for the function to work in Python. However, good documentation will save you time in the future when you need to use this code again, and it also helps others understand how they can use your function.\n",
    "\n",
    "> You can learn more about docstrings in the [PEP 257 guidelines](PEP 257 guidelines) focused on docstrings. "
   ]
  },
  {
   "cell_type": "markdown",
   "id": "733b4646-a05f-4023-8e16-5efb8342d70f",
   "metadata": {},
   "source": [
    "### Testing\n",
    "Before applying the function directly to our data, we could try this on a couple of reference values to make sure the function is working properly."
   ]
  },
  {
   "cell_type": "code",
   "execution_count": 17,
   "id": "050b81ef-3349-4664-ad86-121126175de7",
   "metadata": {},
   "outputs": [
    {
     "name": "stdout",
     "output_type": "stream",
     "text": [
      "Zero is zero: 0.0\n"
     ]
    }
   ],
   "source": [
    "print('Zero is zero:', centimeters_to_inches(0))"
   ]
  },
  {
   "cell_type": "code",
   "execution_count": 18,
   "id": "787280e3-d846-4927-a765-3b28ed43cd13",
   "metadata": {},
   "outputs": [
    {
     "name": "stdout",
     "output_type": "stream",
     "text": [
      "2.54 cm is: 1.0 in\n"
     ]
    }
   ],
   "source": [
    "print('2.54 cm is:', centimeters_to_inches(2.54), 'in')"
   ]
  },
  {
   "cell_type": "markdown",
   "id": "abef93dc-8852-47b7-bd7b-e26578ac29f5",
   "metadata": {},
   "source": [
    "We saw in a previous lecture that booleans can be interpreted as `True` or `False` or as intergers, where `True == 1` and `False == 0`. So if you accidentaly passed a boolean as an input of your function, what would hapen?"
   ]
  },
  {
   "cell_type": "code",
   "execution_count": 19,
   "id": "900dc661-6e3f-4b83-96dc-dce3c9b58ee5",
   "metadata": {},
   "outputs": [
    {
     "data": {
      "text/plain": [
       "0.39370078740157477"
      ]
     },
     "execution_count": 19,
     "metadata": {},
     "output_type": "execute_result"
    }
   ],
   "source": [
    "centimeters_to_inches(True)"
   ]
  },
  {
   "cell_type": "markdown",
   "id": "55ab012a-29f6-438c-b659-70716870b895",
   "metadata": {},
   "source": [
    "we would prefer that our function didn't work and gave us a warning that the input doesn't seem right. Designing function that can catch error before they happen is called **defensive programming**"
   ]
  },
  {
   "cell_type": "markdown",
   "id": "8ef37793-c834-4313-bce9-f0195b941273",
   "metadata": {},
   "source": [
    "#### Assertions\n",
    "\n",
    "The first step toward getting the right answers from our programs is to assume that mistakes will happen and to guard against them. This is called defensive programming, and the most common way to do it is to add assertions to our code so that it checks itself as it runs. An assertion is simply a statement that something must be true at a certain point in a program. When Python sees one, it evaluates the assertion’s condition. If it’s true, Python does nothing, but if it’s false, Python halts the program immediately and prints the error message if one is provided. For example, we might want our function to break if the input is not a float:"
   ]
  },
  {
   "cell_type": "code",
   "execution_count": 20,
   "id": "edf3ba11-3251-4f09-aa21-5965284b655c",
   "metadata": {},
   "outputs": [],
   "source": [
    "def centimeters_to_inches(cm):\n",
    "    assert (type(cm)==float), \"Input should be a float\"\n",
    "    inches = cm / 2.54    \n",
    "    return inches"
   ]
  },
  {
   "cell_type": "code",
   "execution_count": 21,
   "id": "0950318d-6180-4393-8bbb-f56ab4881f67",
   "metadata": {},
   "outputs": [
    {
     "ename": "AssertionError",
     "evalue": "Input should be a float",
     "output_type": "error",
     "traceback": [
      "\u001b[0;31m---------------------------------------------------------------------------\u001b[0m",
      "\u001b[0;31mAssertionError\u001b[0m                            Traceback (most recent call last)",
      "Cell \u001b[0;32mIn[21], line 1\u001b[0m\n\u001b[0;32m----> 1\u001b[0m \u001b[43mcentimeters_to_inches\u001b[49m\u001b[43m(\u001b[49m\u001b[38;5;241;43m10\u001b[39;49m\u001b[43m)\u001b[49m\n",
      "Cell \u001b[0;32mIn[20], line 2\u001b[0m, in \u001b[0;36mcentimeters_to_inches\u001b[0;34m(cm)\u001b[0m\n\u001b[1;32m      1\u001b[0m \u001b[38;5;28;01mdef\u001b[39;00m \u001b[38;5;21mcentimeters_to_inches\u001b[39m(cm):\n\u001b[0;32m----> 2\u001b[0m     \u001b[38;5;28;01massert\u001b[39;00m (\u001b[38;5;28mtype\u001b[39m(cm)\u001b[38;5;241m==\u001b[39m\u001b[38;5;28mfloat\u001b[39m), \u001b[38;5;124m\"\u001b[39m\u001b[38;5;124mInput should be a float\u001b[39m\u001b[38;5;124m\"\u001b[39m\n\u001b[1;32m      3\u001b[0m     inches \u001b[38;5;241m=\u001b[39m cm \u001b[38;5;241m/\u001b[39m \u001b[38;5;241m2.54\u001b[39m    \n\u001b[1;32m      4\u001b[0m     \u001b[38;5;28;01mreturn\u001b[39;00m inches\n",
      "\u001b[0;31mAssertionError\u001b[0m: Input should be a float"
     ]
    }
   ],
   "source": [
    "centimeters_to_inches(10)"
   ]
  },
  {
   "cell_type": "markdown",
   "id": "445d1a2d-5632-4a80-ac67-c3dcfb70a966",
   "metadata": {},
   "source": [
    "For this case, our `centimeters_to_inches` function should work with floats, integers, or arrays, so let's implement that:"
   ]
  },
  {
   "cell_type": "code",
   "execution_count": 22,
   "id": "280d750a-d8b8-4cb8-addd-e368c375be2f",
   "metadata": {},
   "outputs": [],
   "source": [
    "# The backslash in the assert statment below tells python \n",
    "# that we're breaking a line. This allows writing the code in a more\n",
    "# readable way (instead of having a very long statement in a single line)\n",
    "\n",
    "def centimeters_to_inches(cm):\n",
    "    assert (type(cm)==float) or (type(cm)==int) or (type(cm)==np.ndarray),\\\n",
    "    \"Input should be a float, integer, or numpy array\"\n",
    "    inches = cm / 2.54    \n",
    "    return inches"
   ]
  },
  {
   "cell_type": "markdown",
   "id": "194075e0-43e8-4eb6-9d20-c72ed9a7dde5",
   "metadata": {},
   "source": [
    "Now, let's test"
   ]
  },
  {
   "cell_type": "code",
   "execution_count": 23,
   "id": "2896e637-04a4-42ba-aee8-9c854671e67c",
   "metadata": {},
   "outputs": [
    {
     "data": {
      "text/plain": [
       "3.976377952755905"
      ]
     },
     "execution_count": 23,
     "metadata": {},
     "output_type": "execute_result"
    }
   ],
   "source": [
    "# Testing with float\n",
    "centimeters_to_inches(10.1)"
   ]
  },
  {
   "cell_type": "code",
   "execution_count": 24,
   "id": "186b8a69-f2c2-424f-a8d1-4f513ff84291",
   "metadata": {},
   "outputs": [
    {
     "data": {
      "text/plain": [
       "0.39370078740157477"
      ]
     },
     "execution_count": 24,
     "metadata": {},
     "output_type": "execute_result"
    }
   ],
   "source": [
    "# Testing with integer\n",
    "centimeters_to_inches(1)"
   ]
  },
  {
   "cell_type": "code",
   "execution_count": 25,
   "id": "4009816e-9045-432a-8542-790cefadc75a",
   "metadata": {},
   "outputs": [
    {
     "data": {
      "text/plain": [
       "array([3.97637795, 0.39370079])"
      ]
     },
     "execution_count": 25,
     "metadata": {},
     "output_type": "execute_result"
    }
   ],
   "source": [
    "# Testing with array\n",
    "a = np.array([10.1, 1])\n",
    "centimeters_to_inches(a)"
   ]
  },
  {
   "cell_type": "code",
   "execution_count": 26,
   "id": "8e142dba-bff9-4fc1-b9af-7c824cec22f6",
   "metadata": {},
   "outputs": [
    {
     "ename": "AssertionError",
     "evalue": "Input should be a float, integer, or numpy array",
     "output_type": "error",
     "traceback": [
      "\u001b[0;31m---------------------------------------------------------------------------\u001b[0m",
      "\u001b[0;31mAssertionError\u001b[0m                            Traceback (most recent call last)",
      "Cell \u001b[0;32mIn[26], line 1\u001b[0m\n\u001b[0;32m----> 1\u001b[0m \u001b[43mcentimeters_to_inches\u001b[49m\u001b[43m(\u001b[49m\u001b[38;5;28;43;01mTrue\u001b[39;49;00m\u001b[43m)\u001b[49m\n",
      "Cell \u001b[0;32mIn[22], line 6\u001b[0m, in \u001b[0;36mcentimeters_to_inches\u001b[0;34m(cm)\u001b[0m\n\u001b[1;32m      5\u001b[0m \u001b[38;5;28;01mdef\u001b[39;00m \u001b[38;5;21mcentimeters_to_inches\u001b[39m(cm):\n\u001b[0;32m----> 6\u001b[0m     \u001b[38;5;28;01massert\u001b[39;00m (\u001b[38;5;28mtype\u001b[39m(cm)\u001b[38;5;241m==\u001b[39m\u001b[38;5;28mfloat\u001b[39m) \u001b[38;5;129;01mor\u001b[39;00m (\u001b[38;5;28mtype\u001b[39m(cm)\u001b[38;5;241m==\u001b[39m\u001b[38;5;28mint\u001b[39m) \u001b[38;5;129;01mor\u001b[39;00m (\u001b[38;5;28mtype\u001b[39m(cm)\u001b[38;5;241m==\u001b[39mnp\u001b[38;5;241m.\u001b[39mndarray),\\\n\u001b[1;32m      7\u001b[0m     \u001b[38;5;124m\"\u001b[39m\u001b[38;5;124mInput should be a float, integer, or numpy array\u001b[39m\u001b[38;5;124m\"\u001b[39m\n\u001b[1;32m      8\u001b[0m     inches \u001b[38;5;241m=\u001b[39m cm \u001b[38;5;241m/\u001b[39m \u001b[38;5;241m2.54\u001b[39m    \n\u001b[1;32m      9\u001b[0m     \u001b[38;5;28;01mreturn\u001b[39;00m inches\n",
      "\u001b[0;31mAssertionError\u001b[0m: Input should be a float, integer, or numpy array"
     ]
    }
   ],
   "source": [
    "centimeters_to_inches(True)"
   ]
  },
  {
   "cell_type": "markdown",
   "id": "4a867e23-008d-4cc0-90cc-79bd2ca8d020",
   "metadata": {},
   "source": [
    "Perfect! Now our function works for floats, integers, and arrays, but breaks if a boolean is given as input. Now that we now how our function should behave, it's time to improve the documentation:"
   ]
  },
  {
   "cell_type": "code",
   "execution_count": 27,
   "id": "f902cc32-bcc6-4e19-9401-13c4c70b2963",
   "metadata": {},
   "outputs": [],
   "source": [
    "def centimeters_to_inches(cm):\n",
    "    \"\"\"Convert from centimeters to inches.\n",
    "    \n",
    "    Takes a given input in centimeters and returns the \n",
    "    equivalent distance or collection of distances in inches.\n",
    "    \n",
    "    Parameters\n",
    "    ----------\n",
    "    cm : ndarray or int or float\n",
    "        Input data.\n",
    "    \n",
    "    Returns\n",
    "    ------\n",
    "    inches : ndarray or scalar\n",
    "        Distance or collection of distances in inches.\n",
    "    \"\"\"\n",
    "    assert (type(cm)==float) or (type(cm)==int) or (type(cm)==np.ndarray),\\\n",
    "    \"Input should be a float, integer, or numpy array\"\n",
    "    inches = cm / 2.54    \n",
    "    return inches"
   ]
  },
  {
   "cell_type": "markdown",
   "id": "77082b56-eddb-44b0-a4cb-afe80fc5adee",
   "metadata": {},
   "source": [
    "Since this function is fairly simple, we don't need to add notes or examples. As you start writing more complex function, these extra information will be very helpul. We can now access the docstring of your function by running:"
   ]
  },
  {
   "cell_type": "code",
   "execution_count": 28,
   "id": "9deb4342-3e7f-4d6b-853e-245404c06048",
   "metadata": {},
   "outputs": [
    {
     "data": {
      "text/plain": [
       "\u001b[0;31mSignature:\u001b[0m \u001b[0mcentimeters_to_inches\u001b[0m\u001b[0;34m(\u001b[0m\u001b[0mcm\u001b[0m\u001b[0;34m)\u001b[0m\u001b[0;34m\u001b[0m\u001b[0;34m\u001b[0m\u001b[0m\n",
       "\u001b[0;31mDocstring:\u001b[0m\n",
       "Convert from centimeters to inches.\n",
       "\n",
       "Takes a given input in centimeters and returns the \n",
       "equivalent distance or collection of distances in inches.\n",
       "\n",
       "Parameters\n",
       "----------\n",
       "cm : ndarray or int or float\n",
       "    Input data.\n",
       "\n",
       "Returns\n",
       "------\n",
       "inches : ndarray or scalar\n",
       "    Distance or collection of distances in inches.\n",
       "\u001b[0;31mFile:\u001b[0m      /var/folders/f3/f5vjyxnd4vd2qfk05qn6ss740000gq/T/ipykernel_96201/2252703902.py\n",
       "\u001b[0;31mType:\u001b[0m      function"
      ]
     },
     "metadata": {},
     "output_type": "display_data"
    }
   ],
   "source": [
    "centimeters_to_inches?"
   ]
  },
  {
   "cell_type": "markdown",
   "id": "0fa7ca15-d70e-440b-9a8e-2a936be3e33b",
   "metadata": {},
   "source": [
    "#### Types of assertions\n",
    "Programs like the Firefox browser are full of assertions: 10-20% of the code they contain are there to check that the other 80–90% are working correctly. Broadly speaking, assertions fall into three categories:\n",
    "\n",
    "- A precondition is something that must be true at the start of a function in order for it to work correctly.\n",
    "\n",
    "- A postcondition is something that the function guarantees is true when it finishes.\n",
    "\n",
    "- An invariant is something that is always true at a particular point inside a piece of code.\n",
    "\n",
    "For example, suppose we are representing rectangles using a list of four coordinates [x0, y0, x1, y1], representing the lower left and upper right corners of the rectangle. In order to do some calculations, we need to normalize the rectangle so that the lower left corner is at the origin and the longest side is 1.0 units long. This function does that, and it checks that its input is correctly formatted and that its result makes sense:"
   ]
  },
  {
   "cell_type": "code",
   "execution_count": 29,
   "id": "34851116-0aef-4413-9237-d361fa66081a",
   "metadata": {},
   "outputs": [],
   "source": [
    "def normalize_rectangle(rect):\n",
    "\n",
    "    assert len(rect) == 4, 'Rectangles must contain 4 coordinates'\n",
    "    x0, y0, x1, y1 = rect\n",
    "    assert x0 < x1, 'Invalid X coordinates'\n",
    "    assert y0 < y1, 'Invalid Y coordinates'\n",
    "\n",
    "    dx = x1 - x0\n",
    "    dy = y1 - y0\n",
    "    if dx > dy:\n",
    "        scaled = float(dx) / dy\n",
    "        upper_x, upper_y = 1.0, scaled\n",
    "    else:\n",
    "        scaled = float(dx) / dy\n",
    "        upper_x, upper_y = scaled, 1.0\n",
    "\n",
    "    assert 0 < upper_x <= 1.0, 'Calculated upper X coordinate invalid'\n",
    "    assert 0 < upper_y <= 1.0, 'Calculated upper Y coordinate invalid'\n",
    "\n",
    "    return (0, 0, upper_x, upper_y)"
   ]
  },
  {
   "cell_type": "markdown",
   "id": "d5e11a34-c666-4610-b52b-5024362a1bd4",
   "metadata": {},
   "source": [
    "The preconditions on lines 3, 5, and 6 catch invalid inputs:"
   ]
  },
  {
   "cell_type": "code",
   "execution_count": 30,
   "id": "b8ef989d-87e0-4fe4-bf98-bee511b44666",
   "metadata": {},
   "outputs": [
    {
     "ename": "AssertionError",
     "evalue": "Rectangles must contain 4 coordinates",
     "output_type": "error",
     "traceback": [
      "\u001b[0;31m---------------------------------------------------------------------------\u001b[0m",
      "\u001b[0;31mAssertionError\u001b[0m                            Traceback (most recent call last)",
      "Cell \u001b[0;32mIn[30], line 2\u001b[0m\n\u001b[1;32m      1\u001b[0m \u001b[38;5;66;03m# missing the fourth coordinate\u001b[39;00m\n\u001b[0;32m----> 2\u001b[0m \u001b[43mnormalize_rectangle\u001b[49m\u001b[43m(\u001b[49m\u001b[43m[\u001b[49m\u001b[38;5;241;43m0.0\u001b[39;49m\u001b[43m,\u001b[49m\u001b[43m \u001b[49m\u001b[38;5;241;43m1.0\u001b[39;49m\u001b[43m,\u001b[49m\u001b[43m \u001b[49m\u001b[38;5;241;43m2.0\u001b[39;49m\u001b[43m]\u001b[49m\u001b[43m)\u001b[49m\n",
      "Cell \u001b[0;32mIn[29], line 3\u001b[0m, in \u001b[0;36mnormalize_rectangle\u001b[0;34m(rect)\u001b[0m\n\u001b[1;32m      1\u001b[0m \u001b[38;5;28;01mdef\u001b[39;00m \u001b[38;5;21mnormalize_rectangle\u001b[39m(rect):\n\u001b[0;32m----> 3\u001b[0m     \u001b[38;5;28;01massert\u001b[39;00m \u001b[38;5;28mlen\u001b[39m(rect) \u001b[38;5;241m==\u001b[39m \u001b[38;5;241m4\u001b[39m, \u001b[38;5;124m'\u001b[39m\u001b[38;5;124mRectangles must contain 4 coordinates\u001b[39m\u001b[38;5;124m'\u001b[39m\n\u001b[1;32m      4\u001b[0m     x0, y0, x1, y1 \u001b[38;5;241m=\u001b[39m rect\n\u001b[1;32m      5\u001b[0m     \u001b[38;5;28;01massert\u001b[39;00m x0 \u001b[38;5;241m<\u001b[39m x1, \u001b[38;5;124m'\u001b[39m\u001b[38;5;124mInvalid X coordinates\u001b[39m\u001b[38;5;124m'\u001b[39m\n",
      "\u001b[0;31mAssertionError\u001b[0m: Rectangles must contain 4 coordinates"
     ]
    }
   ],
   "source": [
    "# missing the fourth coordinate\n",
    "normalize_rectangle([0.0, 1.0, 2.0])"
   ]
  },
  {
   "cell_type": "code",
   "execution_count": 31,
   "id": "0012a1f0-63f2-4495-9665-a6aaabd3b983",
   "metadata": {},
   "outputs": [
    {
     "ename": "AssertionError",
     "evalue": "Invalid X coordinates",
     "output_type": "error",
     "traceback": [
      "\u001b[0;31m---------------------------------------------------------------------------\u001b[0m",
      "\u001b[0;31mAssertionError\u001b[0m                            Traceback (most recent call last)",
      "Cell \u001b[0;32mIn[31], line 2\u001b[0m\n\u001b[1;32m      1\u001b[0m \u001b[38;5;66;03m# X axis is inverted\u001b[39;00m\n\u001b[0;32m----> 2\u001b[0m \u001b[43mnormalize_rectangle\u001b[49m\u001b[43m(\u001b[49m\u001b[43m[\u001b[49m\u001b[38;5;241;43m4.0\u001b[39;49m\u001b[43m,\u001b[49m\u001b[43m \u001b[49m\u001b[38;5;241;43m2.0\u001b[39;49m\u001b[43m,\u001b[49m\u001b[43m \u001b[49m\u001b[38;5;241;43m1.0\u001b[39;49m\u001b[43m,\u001b[49m\u001b[43m \u001b[49m\u001b[38;5;241;43m5.0\u001b[39;49m\u001b[43m]\u001b[49m\u001b[43m)\u001b[49m \n",
      "Cell \u001b[0;32mIn[29], line 5\u001b[0m, in \u001b[0;36mnormalize_rectangle\u001b[0;34m(rect)\u001b[0m\n\u001b[1;32m      3\u001b[0m \u001b[38;5;28;01massert\u001b[39;00m \u001b[38;5;28mlen\u001b[39m(rect) \u001b[38;5;241m==\u001b[39m \u001b[38;5;241m4\u001b[39m, \u001b[38;5;124m'\u001b[39m\u001b[38;5;124mRectangles must contain 4 coordinates\u001b[39m\u001b[38;5;124m'\u001b[39m\n\u001b[1;32m      4\u001b[0m x0, y0, x1, y1 \u001b[38;5;241m=\u001b[39m rect\n\u001b[0;32m----> 5\u001b[0m \u001b[38;5;28;01massert\u001b[39;00m x0 \u001b[38;5;241m<\u001b[39m x1, \u001b[38;5;124m'\u001b[39m\u001b[38;5;124mInvalid X coordinates\u001b[39m\u001b[38;5;124m'\u001b[39m\n\u001b[1;32m      6\u001b[0m \u001b[38;5;28;01massert\u001b[39;00m y0 \u001b[38;5;241m<\u001b[39m y1, \u001b[38;5;124m'\u001b[39m\u001b[38;5;124mInvalid Y coordinates\u001b[39m\u001b[38;5;124m'\u001b[39m\n\u001b[1;32m      8\u001b[0m dx \u001b[38;5;241m=\u001b[39m x1 \u001b[38;5;241m-\u001b[39m x0\n",
      "\u001b[0;31mAssertionError\u001b[0m: Invalid X coordinates"
     ]
    }
   ],
   "source": [
    "# X axis is inverted\n",
    "normalize_rectangle([4.0, 2.0, 1.0, 5.0]) "
   ]
  },
  {
   "cell_type": "markdown",
   "id": "7a0e8e35-1de5-4db5-987b-b70f60fc9496",
   "metadata": {},
   "source": [
    "The post-conditions on lines 17 and 18 help us catch bugs by telling us when our calculations might have been incorrect. For example, if we normalize a rectangle that is taller than it is wide everything seems OK:"
   ]
  },
  {
   "cell_type": "code",
   "execution_count": 32,
   "id": "e48ec752-e171-4fd1-9d6a-f6fe3fc7594a",
   "metadata": {},
   "outputs": [
    {
     "data": {
      "text/plain": [
       "(0, 0, 0.2, 1.0)"
      ]
     },
     "execution_count": 32,
     "metadata": {},
     "output_type": "execute_result"
    }
   ],
   "source": [
    "normalize_rectangle([0.0, 0.0, 1.0, 5.0])"
   ]
  },
  {
   "cell_type": "markdown",
   "id": "a6d60d3e-c7c7-400c-887a-6d26b0dca1dc",
   "metadata": {},
   "source": [
    "but if we normalize one that’s wider than it is tall, the assertion is triggered:"
   ]
  },
  {
   "cell_type": "code",
   "execution_count": 33,
   "id": "63b4dfbb-d836-494a-ab0a-3e4b058e8eff",
   "metadata": {},
   "outputs": [
    {
     "ename": "AssertionError",
     "evalue": "Calculated upper Y coordinate invalid",
     "output_type": "error",
     "traceback": [
      "\u001b[0;31m---------------------------------------------------------------------------\u001b[0m",
      "\u001b[0;31mAssertionError\u001b[0m                            Traceback (most recent call last)",
      "Cell \u001b[0;32mIn[33], line 1\u001b[0m\n\u001b[0;32m----> 1\u001b[0m \u001b[43mnormalize_rectangle\u001b[49m\u001b[43m(\u001b[49m\u001b[43m[\u001b[49m\u001b[38;5;241;43m0.0\u001b[39;49m\u001b[43m,\u001b[49m\u001b[43m \u001b[49m\u001b[38;5;241;43m0.0\u001b[39;49m\u001b[43m,\u001b[49m\u001b[43m \u001b[49m\u001b[38;5;241;43m5.0\u001b[39;49m\u001b[43m,\u001b[49m\u001b[43m \u001b[49m\u001b[38;5;241;43m1.0\u001b[39;49m\u001b[43m]\u001b[49m\u001b[43m)\u001b[49m\n",
      "Cell \u001b[0;32mIn[29], line 18\u001b[0m, in \u001b[0;36mnormalize_rectangle\u001b[0;34m(rect)\u001b[0m\n\u001b[1;32m     15\u001b[0m     upper_x, upper_y \u001b[38;5;241m=\u001b[39m scaled, \u001b[38;5;241m1.0\u001b[39m\n\u001b[1;32m     17\u001b[0m \u001b[38;5;28;01massert\u001b[39;00m \u001b[38;5;241m0\u001b[39m \u001b[38;5;241m<\u001b[39m upper_x \u001b[38;5;241m<\u001b[39m\u001b[38;5;241m=\u001b[39m \u001b[38;5;241m1.0\u001b[39m, \u001b[38;5;124m'\u001b[39m\u001b[38;5;124mCalculated upper X coordinate invalid\u001b[39m\u001b[38;5;124m'\u001b[39m\n\u001b[0;32m---> 18\u001b[0m \u001b[38;5;28;01massert\u001b[39;00m \u001b[38;5;241m0\u001b[39m \u001b[38;5;241m<\u001b[39m upper_y \u001b[38;5;241m<\u001b[39m\u001b[38;5;241m=\u001b[39m \u001b[38;5;241m1.0\u001b[39m, \u001b[38;5;124m'\u001b[39m\u001b[38;5;124mCalculated upper Y coordinate invalid\u001b[39m\u001b[38;5;124m'\u001b[39m\n\u001b[1;32m     20\u001b[0m \u001b[38;5;28;01mreturn\u001b[39;00m (\u001b[38;5;241m0\u001b[39m, \u001b[38;5;241m0\u001b[39m, upper_x, upper_y)\n",
      "\u001b[0;31mAssertionError\u001b[0m: Calculated upper Y coordinate invalid"
     ]
    }
   ],
   "source": [
    "normalize_rectangle([0.0, 0.0, 5.0, 1.0])"
   ]
  },
  {
   "cell_type": "markdown",
   "id": "fb8b70dd-6fb6-4dd4-8dcf-e1bfef8fae9d",
   "metadata": {},
   "source": [
    "Re-reading our function, we realize that line 11 should divide `dy` by `dx` rather than `dx` by `dy`. If we had left out the assertion at the end of the function, we would have created and returned something that had the right shape as a valid answer, but wasn’t. Detecting and debugging that would almost certainly have taken more time in the long run than writing the assertion.\n",
    "\n",
    "But assertions aren’t just about catching errors: they also help people understand programs. Each assertion gives the person reading the program a chance to check (consciously or otherwise) that their understanding matches what the code is doing.\n",
    "\n",
    "Most good programmers follow two rules when adding assertions to their code. \n",
    "\n",
    "1. **Fail early, fail often**. The greater the distance between when and where an error occurs and when it’s noticed, the harder the error will be to debug, so good code catches mistakes as early as possible.\n",
    "\n",
    "2. **Turn bugs into assertions or tests**. Whenever you fix a bug, write an assertion that catches the mistake should you make it again. If you made a mistake in a piece of code, the odds are good that you have made other mistakes nearby, or will make the same mistake (or a related one) the next time you change it. Writing assertions to check that you haven’t regressed (i.e., haven’t re-introduced an old problem) can save a lot of time in the long run, and helps to warn people who are reading the code (including your future self) that this bit is tricky"
   ]
  },
  {
   "cell_type": "markdown",
   "id": "a9590d4a-5313-43e0-bc2c-0e5690d1fbc1",
   "metadata": {},
   "source": [
    "### Testing"
   ]
  },
  {
   "cell_type": "markdown",
   "id": "7ed56b5f-4194-4a8b-b646-787e36d2b7c4",
   "metadata": {},
   "source": [
    "Finally, as functions get more and more complex and we need to implement more tests it is good practice to write another function that runs the test and says if the function has passed all tests or not. For example, in our `centimeters_to_inches` we can package some post conditions in a seperate test function:"
   ]
  },
  {
   "cell_type": "code",
   "execution_count": 34,
   "id": "32c689ed-31b0-4546-9b54-8c97ed064e9a",
   "metadata": {},
   "outputs": [],
   "source": [
    "def test_centimeters_to_inches():\n",
    "    assert centimeters_to_inches(0) == 0\n",
    "    assert centimeters_to_inches(2.54) == 1\n",
    "    print(\"Passed all tests\")"
   ]
  },
  {
   "cell_type": "code",
   "execution_count": 35,
   "id": "d2cd2260-5d3e-4b2c-bde3-35bbe7e2fd76",
   "metadata": {},
   "outputs": [
    {
     "name": "stdout",
     "output_type": "stream",
     "text": [
      "Passed all tests\n"
     ]
    }
   ],
   "source": [
    "test_centimeters_to_inches()"
   ]
  }
 ],
 "metadata": {
  "kernelspec": {
   "display_name": "Python 3 (ipykernel)",
   "language": "python",
   "name": "python3"
  },
  "language_info": {
   "codemirror_mode": {
    "name": "ipython",
    "version": 3
   },
   "file_extension": ".py",
   "mimetype": "text/x-python",
   "name": "python",
   "nbconvert_exporter": "python",
   "pygments_lexer": "ipython3",
   "version": "3.10.8"
  }
 },
 "nbformat": 4,
 "nbformat_minor": 5
}
