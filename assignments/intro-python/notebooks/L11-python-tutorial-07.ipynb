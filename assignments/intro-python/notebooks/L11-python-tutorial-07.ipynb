{
 "cells": [
  {
   "cell_type": "markdown",
   "id": "6e959c83-a01d-43b1-8539-7e24185dec1a",
   "metadata": {},
   "source": [
    "Making ChoicesMaking ChoicesMaking Choices# 🌎 GPGN268 - Geophysical Data Analysis\n",
    "- **Instructor:** Bia Villas Boas  \n",
    "- **TA:** Seunghoo Kim\n",
    "\n",
    "## Python Tutorial 7:  More on Numpy arrays\n",
    "#### 🎯 Learning Objectives from this Tutorial:\n",
    "- Create numpy arrays\n",
    "- Use booleans to select specific values\n",
    "- Find indices where the values of an array matches a certain condition"
   ]
  },
  {
   "cell_type": "code",
   "execution_count": 16,
   "id": "1eeb6fe2-d9d9-4c42-9b04-eecf38a03580",
   "metadata": {},
   "outputs": [],
   "source": [
    "import numpy as np\n",
    "import matplotlib.pyplot as plt"
   ]
  },
  {
   "cell_type": "markdown",
   "id": "00769cd1-d5c8-4f59-8116-c822ce1b19fd",
   "metadata": {},
   "source": [
    "#### Creating arrays\n",
    "\n",
    "There are several ways you can create a Numpy array"
   ]
  },
  {
   "cell_type": "code",
   "execution_count": 4,
   "id": "6d8445e5-fca1-4d9b-bf62-74fd114dc2f3",
   "metadata": {},
   "outputs": [
    {
     "data": {
      "text/plain": [
       "array([9, 0, 2, 1, 0])"
      ]
     },
     "execution_count": 4,
     "metadata": {},
     "output_type": "execute_result"
    }
   ],
   "source": [
    "# create an array from a list\n",
    "a = np.array([9,0,2,1,0])\n",
    "a"
   ]
  },
  {
   "cell_type": "code",
   "execution_count": 10,
   "id": "c992d5f4-2cc5-47c7-9e25-0f2940fedb6b",
   "metadata": {},
   "outputs": [
    {
     "name": "stdout",
     "output_type": "stream",
     "text": [
      "(9, 3)\n",
      "[[0. 0. 0.]\n",
      " [0. 0. 0.]\n",
      " [0. 0. 0.]\n",
      " [0. 0. 0.]\n",
      " [0. 0. 0.]\n",
      " [0. 0. 0.]\n",
      " [0. 0. 0.]\n",
      " [0. 0. 0.]\n",
      " [0. 0. 0.]]\n"
     ]
    }
   ],
   "source": [
    "# create an array of zeros with 9 rows and 3 columns\n",
    "b = np.zeros((9,3))\n",
    "print(b.shape)\n",
    "print(b)"
   ]
  },
  {
   "cell_type": "code",
   "execution_count": 9,
   "id": "ba8d0228-6884-49f4-bc1e-2a529d02d327",
   "metadata": {},
   "outputs": [
    {
     "name": "stdout",
     "output_type": "stream",
     "text": [
      "(3, 2, 3)\n",
      "[[[1. 1. 1.]\n",
      "  [1. 1. 1.]]\n",
      "\n",
      " [[1. 1. 1.]\n",
      "  [1. 1. 1.]]\n",
      "\n",
      " [[1. 1. 1.]\n",
      "  [1. 1. 1.]]]\n"
     ]
    }
   ],
   "source": [
    "# create a 3D array of ones\n",
    "c = np.ones((3,2,3))\n",
    "print(c.shape)\n",
    "print(c)"
   ]
  },
  {
   "cell_type": "code",
   "execution_count": 11,
   "id": "77500c38-0028-4d13-935b-ecf305bc42aa",
   "metadata": {},
   "outputs": [
    {
     "data": {
      "text/plain": [
       "array([0, 1, 2, 3, 4])"
      ]
     },
     "execution_count": 11,
     "metadata": {},
     "output_type": "execute_result"
    }
   ],
   "source": [
    "# using arange\n",
    "np.arange(5)"
   ]
  },
  {
   "cell_type": "markdown",
   "id": "380dffc4-5350-4497-b0c1-8ad4a016a349",
   "metadata": {},
   "source": [
    "arange is left inclusive, right exclusive, just like range, but also works with floating-point numbers"
   ]
  },
  {
   "cell_type": "code",
   "execution_count": 12,
   "id": "0f898f6b-9e1b-46ec-bc20-a20f2d9b0987",
   "metadata": {},
   "outputs": [
    {
     "data": {
      "text/plain": [
       "array([2.  , 2.25, 2.5 , 2.75, 3.  , 3.25, 3.5 , 3.75])"
      ]
     },
     "execution_count": 12,
     "metadata": {},
     "output_type": "execute_result"
    }
   ],
   "source": [
    "np.arange(2,4,0.25)"
   ]
  },
  {
   "cell_type": "markdown",
   "id": "427a31ca-7e93-4122-8b6f-66151ca4d45f",
   "metadata": {},
   "source": [
    "A frequent need is to generate an array of N numbers, evenly spaced between two values. That is what linspace is for."
   ]
  },
  {
   "cell_type": "code",
   "execution_count": 13,
   "id": "270893e8-e39f-4af2-8d0a-cc9dcf456ea9",
   "metadata": {},
   "outputs": [
    {
     "data": {
      "text/plain": [
       "array([2.        , 2.22222222, 2.44444444, 2.66666667, 2.88888889,\n",
       "       3.11111111, 3.33333333, 3.55555556, 3.77777778, 4.        ])"
      ]
     },
     "execution_count": 13,
     "metadata": {},
     "output_type": "execute_result"
    }
   ],
   "source": [
    "np.linspace(2,4,10)"
   ]
  },
  {
   "cell_type": "code",
   "execution_count": 14,
   "id": "64e8ef39-bea0-4819-a3ea-d5caeb28893f",
   "metadata": {},
   "outputs": [
    {
     "data": {
      "text/plain": [
       "array([ 10.        ,  12.91549665,  16.68100537,  21.5443469 ,\n",
       "        27.82559402,  35.93813664,  46.41588834,  59.94842503,\n",
       "        77.42636827, 100.        ])"
      ]
     },
     "execution_count": 14,
     "metadata": {},
     "output_type": "execute_result"
    }
   ],
   "source": [
    "# similarly for a sequance of number that are log spaced\n",
    "np.logspace(1,2,10)"
   ]
  },
  {
   "cell_type": "markdown",
   "id": "571870bc-8083-4f7d-af07-115d99bad285",
   "metadata": {},
   "source": [
    "Numpy also has some utilities for helping us generate multi-dimensional arrays. meshgrid creates 2D arrays out of a combination of 1D arrays."
   ]
  },
  {
   "cell_type": "code",
   "execution_count": 15,
   "id": "80b67af1-dc01-416b-9735-a929a235b3ea",
   "metadata": {},
   "outputs": [
    {
     "data": {
      "text/plain": [
       "((50, 100), (50, 100))"
      ]
     },
     "execution_count": 15,
     "metadata": {},
     "output_type": "execute_result"
    }
   ],
   "source": [
    "x = np.linspace(-2*np.pi, 2*np.pi, 100)\n",
    "y = np.linspace(-np.pi, np.pi, 50)\n",
    "xx, yy = np.meshgrid(x, y)\n",
    "xx.shape, yy.shape"
   ]
  },
  {
   "cell_type": "code",
   "execution_count": 18,
   "id": "b6c84522-cad6-4f62-87e8-a6e333f71111",
   "metadata": {},
   "outputs": [
    {
     "data": {
      "text/plain": [
       "<matplotlib.colorbar.Colorbar at 0x10ec2d180>"
      ]
     },
     "execution_count": 18,
     "metadata": {},
     "output_type": "execute_result"
    },
    {
     "data": {
      "image/png": "[encoded data removed]",
      "text/plain": [
       "<Figure size 640x480 with 2 Axes>"
      ]
     },
     "metadata": {},
     "output_type": "display_data"
    }
   ],
   "source": [
    "plt.pcolormesh(xx)\n",
    "plt.colorbar()"
   ]
  },
  {
   "cell_type": "markdown",
   "id": "57c1660d-9158-4c35-9d63-5c9af8caf126",
   "metadata": {},
   "source": [
    "#### Indexing"
   ]
  },
  {
   "cell_type": "markdown",
   "id": "8b7f4ac4-054c-499e-9add-49abc7cbd10c",
   "metadata": {},
   "source": [
    "Basic indexing for numpy arrays is similar to lists"
   ]
  },
  {
   "cell_type": "code",
   "execution_count": 19,
   "id": "625b50ff-d5a8-4b38-b714-c7aafe455519",
   "metadata": {},
   "outputs": [
    {
     "data": {
      "text/plain": [
       "(-6.283185307179586, 6.283185307179586, 5.775453161144872)"
      ]
     },
     "execution_count": 19,
     "metadata": {},
     "output_type": "execute_result"
    }
   ],
   "source": [
    "# get some individual elements of xx\n",
    "xx[0,0], xx[-1,-1], xx[3,-5]"
   ]
  },
  {
   "cell_type": "code",
   "execution_count": 20,
   "id": "20e4bd07-dece-4e24-b3ff-9848b870aa07",
   "metadata": {},
   "outputs": [
    {
     "data": {
      "text/plain": [
       "((100,), (50,))"
      ]
     },
     "execution_count": 20,
     "metadata": {},
     "output_type": "execute_result"
    }
   ],
   "source": [
    "# get some whole rows and columns\n",
    "xx[0].shape, xx[:,-1].shape"
   ]
  },
  {
   "cell_type": "code",
   "execution_count": 21,
   "id": "fc9912fd-cb01-4794-9d15-58eef615879b",
   "metadata": {},
   "outputs": [
    {
     "data": {
      "text/plain": [
       "(7, 10)"
      ]
     },
     "execution_count": 21,
     "metadata": {},
     "output_type": "execute_result"
    }
   ],
   "source": [
    "# get some slices\n",
    "xx[3:10,30:40].shape"
   ]
  },
  {
   "cell_type": "markdown",
   "id": "10f8edde-31ea-43af-b52c-acc0d7caf687",
   "metadata": {},
   "source": [
    "#### Appliying conditionals to arrays\n",
    "\n",
    "Sometime we want to identify values in an array that satisfy a given criterium. For example, we might wanna identify all negative numbers in an array"
   ]
  },
  {
   "cell_type": "code",
   "execution_count": 30,
   "id": "502bc93d-5857-4b28-a14b-8f09a3359b3a",
   "metadata": {},
   "outputs": [],
   "source": [
    "a = np.array([-1, 2, 3.2, -9, 10])"
   ]
  },
  {
   "cell_type": "code",
   "execution_count": 31,
   "id": "ab9e63c4-7aba-4377-99e1-6af907dd682e",
   "metadata": {},
   "outputs": [
    {
     "data": {
      "text/plain": [
       "array([ True, False, False,  True, False])"
      ]
     },
     "execution_count": 31,
     "metadata": {},
     "output_type": "execute_result"
    }
   ],
   "source": [
    "a < 0"
   ]
  },
  {
   "cell_type": "markdown",
   "id": "50ba8be9-9395-4a89-9e3d-43bf6b81cb80",
   "metadata": {},
   "source": [
    "The conditional above returns an array of booleans. Surprisingly, we can use booleans as indices for an array.  "
   ]
  },
  {
   "cell_type": "code",
   "execution_count": 32,
   "id": "580098f9-accb-4399-9eee-c08262e02896",
   "metadata": {},
   "outputs": [
    {
     "name": "stdout",
     "output_type": "stream",
     "text": [
      "[ True False False  True False]\n"
     ]
    }
   ],
   "source": [
    "idx = a < 0\n",
    "print(idx)"
   ]
  },
  {
   "cell_type": "code",
   "execution_count": 33,
   "id": "cb86977e-2e0d-4dd6-8f79-512aaf6ebe0a",
   "metadata": {},
   "outputs": [
    {
     "data": {
      "text/plain": [
       "array([-1., -9.])"
      ]
     },
     "execution_count": 33,
     "metadata": {},
     "output_type": "execute_result"
    }
   ],
   "source": [
    "a[idx]"
   ]
  },
  {
   "cell_type": "markdown",
   "id": "033db827-6938-4d64-bc4b-c8ea1cd7db1e",
   "metadata": {},
   "source": [
    "the code above will select the elements of the array `a` only in places where the boolean variable `idx` is true (i.e., where the values are negative). We can also use booleans as indices directly (without saving in a separate variable)"
   ]
  },
  {
   "cell_type": "code",
   "execution_count": 34,
   "id": "46878385-e55d-4df7-b9f2-6762ff2a46f2",
   "metadata": {},
   "outputs": [
    {
     "data": {
      "text/plain": [
       "array([-1., -9.])"
      ]
     },
     "execution_count": 34,
     "metadata": {},
     "output_type": "execute_result"
    }
   ],
   "source": [
    "a[a<0]"
   ]
  },
  {
   "cell_type": "markdown",
   "id": "02180d86-d28d-468a-a585-68daae779d2c",
   "metadata": {},
   "source": [
    "We can use this type of operation, for example, to clean up our data and manipulate it in all sorts of clever ways. For example, we might want to replace the negative values of the array by NaNs. "
   ]
  },
  {
   "cell_type": "code",
   "execution_count": 35,
   "id": "4c147e3c-8c99-4b89-a64c-0ccbb7140155",
   "metadata": {},
   "outputs": [
    {
     "name": "stdout",
     "output_type": "stream",
     "text": [
      "a before: [-1.   2.   3.2 -9.  10. ]\n",
      "a after: [ nan  2.   3.2  nan 10. ]\n"
     ]
    }
   ],
   "source": [
    "print('a before:', a)\n",
    "a[a<0] = np.nan\n",
    "print('a after:', a)"
   ]
  },
  {
   "cell_type": "markdown",
   "id": "7cd39f13-7e56-4848-bdcc-29653daee05b",
   "metadata": {},
   "source": [
    "Lets say we have an array of angles that we would like to convert from (0, 360) to (-180, 180)"
   ]
  },
  {
   "cell_type": "code",
   "execution_count": 41,
   "id": "c479e5ba-515b-4252-8c16-1950591344a9",
   "metadata": {},
   "outputs": [
    {
     "name": "stdout",
     "output_type": "stream",
     "text": [
      "angles before: [  0.  45.  90. 135. 180. 225. 270. 315.]\n",
      "angles after: [   0.   45.   90.  135.  180. -135.  -90.  -45.]\n"
     ]
    }
   ],
   "source": [
    "angles = np.array([0., 45., 90., 135., 180., 225., 270., 315.])\n",
    "print('angles before:', angles)\n",
    "angles[angles>180] = angles[angles>180] - 360\n",
    "print('angles after:', angles)"
   ]
  },
  {
   "cell_type": "markdown",
   "id": "66161c00-6c5a-40ab-ba4d-0d4908302e06",
   "metadata": {},
   "source": [
    "#### Searching for a criterium\n",
    "\n",
    "Numpy has a function `where`, which tells us the indices matching a given criterium. For example, we we want to find what are the indices where the values of `angle` are negative, we can do:"
   ]
  },
  {
   "cell_type": "code",
   "execution_count": 42,
   "id": "c2434c11-f384-4af8-9422-641ed98ded22",
   "metadata": {},
   "outputs": [
    {
     "data": {
      "text/plain": [
       "(array([5, 6, 7]),)"
      ]
     },
     "execution_count": 42,
     "metadata": {},
     "output_type": "execute_result"
    }
   ],
   "source": [
    "np.where(angles<0)"
   ]
  },
  {
   "cell_type": "markdown",
   "id": "2684ed50-2a7b-4af6-b7ea-be098fc142da",
   "metadata": {},
   "source": [
    "### 🔎 Key Points\n",
    "- Use arange and linspace to create arraya\n",
    "- Booleans can be used as indices\n",
    "- `where` gives you the indices where a given condition is satisfied"
   ]
  },
  {
   "cell_type": "code",
   "execution_count": null,
   "id": "c0550129-9867-49fb-9386-b8ea090907ec",
   "metadata": {},
   "outputs": [],
   "source": []
  }
 ],
 "metadata": {
  "kernelspec": {
   "display_name": "Python 3 (ipykernel)",
   "language": "python",
   "name": "python3"
  },
  "language_info": {
   "codemirror_mode": {
    "name": "ipython",
    "version": 3
   },
   "file_extension": ".py",
   "mimetype": "text/x-python",
   "name": "python",
   "nbconvert_exporter": "python",
   "pygments_lexer": "ipython3",
   "version": "3.10.8"
  }
 },
 "nbformat": 4,
 "nbformat_minor": 5
}
