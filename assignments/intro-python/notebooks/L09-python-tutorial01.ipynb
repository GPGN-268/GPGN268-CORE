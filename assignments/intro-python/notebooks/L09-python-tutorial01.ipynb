{
 "cells": [
  {
   "cell_type": "markdown",
   "id": "689d6a4d-b74e-4553-a9ad-52843d7748b9",
   "metadata": {},
   "source": [
    "# 🌎 GPGN268 - Geophysical Data Analysis\n",
    "- **Instructor:** Bia Villas Boas  \n",
    "- **TA:** Seunghoo Kim\n",
    "\n",
    "## Python Tutorial 0:  Introduction to Jupyter Lab\n",
    "\n",
    "#### 🎯 Learning Objectives from this Tutorial:\n",
    "- Introduce Jupyter Lab\n",
    "- Explore Markdown syntax"
   ]
  },
  {
   "cell_type": "markdown",
   "id": "113c6646-fe81-4a31-be7a-91975784279f",
   "metadata": {},
   "source": [
    "### Markdown cells\n",
    "Lets begin...\n",
    "Start by clicking once on this text box to highlight it. Next, double clicking on this text box.\n",
    "\n",
    "This text box is called a markdown cell and you should now (after double clicking) be able to see that it is filled with raw text. You are now in 'Edit Mode'.\n",
    "\n",
    "Now, run the cell by pressing Shift+Enter or clicking the \"play\" button above. This markdown cell and its text should have returned to its original form. The raw text has now been 'rendered'. Notice that you cannot edit the text when it is in this form. This is called 'Command Mode'."
   ]
  },
  {
   "cell_type": "markdown",
   "id": "fb3596b5-dff6-4b46-9e57-20fa4acc2f67",
   "metadata": {},
   "source": [
    "#### Things to know about cells:\n",
    "- There are two main types of cells: 'Code' and 'Markdown'\n",
    "- The type of cell can be changed using the dropbox in the toolbar above (on the far right of the toolbar).\n",
    "Try changing the type of this cell to 'Code' and pressing Shift+Enter and note what happens.\n",
    "\n",
    "Change the cell type back to 'Markdown' and press Shift+Enter."
   ]
  },
  {
   "cell_type": "markdown",
   "id": "c0d45fd0-adb8-4587-bf17-00ffc651d156",
   "metadata": {},
   "source": [
    "#### Markdown is a markup language for formating text\n",
    "----\n",
    "\n",
    "It can be used to style headers:\n",
    "\n",
    "# This is a level-1 header\n",
    "## This is a level-2 header\n",
    "### This is a level-3 header\n",
    "\n",
    "\n",
    "It can be used to make lists:\n",
    "- Gephysical Data Analysis\n",
    "    - Introduction to version control\n",
    "        - git and local repositoris\n",
    "- Mathematical Geophysics \n",
    "    - Complex analysis\n",
    "    \n",
    "    \n",
    "It can be used to display images: \n",
    "\n",
    "- Using standard Markdown syntax\n",
    "\n",
    "![](https://ih1.redbubble.net/image.1316731981.7274/flat,128x128,075,t.jpg)\n",
    "\n",
    "- Or using html if you need to resize the image\n",
    "\n",
    "<img src=https://live.staticflickr.com/5341/17357417286_45bd32d816_b.jpg width=30%>\n",
    "\n",
    "\n",
    "It can be used to link to section headers:\n",
    "[Click on me](#Markdown-cells)\n",
    "\n",
    "\n",
    "It can be used to style text:\n",
    "- *italics*\n",
    "- **bold**\n",
    "- ***bold italics***\n",
    "- <u>underline</u>\n",
    "\n",
    "\n",
    "\n",
    "It can be used to type equations and using LaTeX commands:\n",
    "\n",
    "- This equation $ E=mc^2 $ is built into a sentence.\n",
    "- This equation is on its own line and centered: \n",
    "$$\n",
    "\\hat{f}(k) = \\int_{-\\infty}^\\infty f(x) e^{-i2\\pi kx} dx\n",
    "$$\n",
    "\n",
    "\n",
    "\n",
    "- Use dollar signs to enter into LaTeX mode.\n",
    "\n",
    "\n",
    "Double click on this cell to see how text formatting is done."
   ]
  },
  {
   "cell_type": "markdown",
   "id": "ddaa2e9d-10ce-46fb-88b9-c1783730ef41",
   "metadata": {},
   "source": [
    "### ✅ Activity: Let's Try it Out...\n",
    "----\n",
    "- Click on this cell to highlight it. Then, click on the plus sign in the toolbar above. This will create a new cell below the highlighted cell. Notice that the new cell is defaulted to 'Code'.\n",
    "- Change the cell type to 'Markdown' and try adding the following:\n",
    "    - headers and subheaders\n",
    "    - styled text (bold, underline, italicize, etc.)\n",
    "    - 1 image or gif\n",
    "    - a link to a section header. "
   ]
  },
  {
   "cell_type": "markdown",
   "id": "dfb6181d-72b2-4683-a678-ad7b16ac91f9",
   "metadata": {},
   "source": [
    "### Python Fundamentals\n",
    "\n",
    "**Preface**:  It is not GPGN268's goal to teach you *all* of Python.  Learning the language in a semester is difficult enough, and we only have a couple weeks.  Instead, our goal is to teach you just enough Python so that you can apply the basics of it to geophysical data analysis.  We're going to skip over some *very* important coding concepts, such as classes and objects. These are certainly good things to know, and in the future you will need to learn them if you work in a geoscience job with a heavy emphasis on coding or Python. However, right now, said topics are not our priority.\n",
    "\n",
    "This notebook is meant as a quick introduction to some fundamental Python concepts which you may or may not already know. You're encouraged to play with the code blocks and experiment.  Think of this notebook as something to keep on hand as a reference on core Python syntax.  There's also some links to where you can find more information.\n",
    "\n",
    "If you have some coding experience, the majority of this notebook will be purely review.  \n",
    "\n",
    "\n",
    "#### 🎯 Learning Objectives from this Tutorial:\n",
    "- Variables and Types\n",
    "- Simple Input/Output\n",
    "- Comments\n",
    "- If/Else\n",
    "- Lists\n",
    "- Loops\n",
    "- Functions\n",
    "- Imports\n",
    "- Style Guides"
   ]
  },
  {
   "cell_type": "markdown",
   "id": "3dd14e7b-e874-4a68-be3d-822920875d6b",
   "metadata": {},
   "source": [
    "### Variables\n",
    "Any Python interpreter can be used as a calculator:"
   ]
  },
  {
   "cell_type": "code",
   "execution_count": 1,
   "id": "e2e4cc91-68af-4c40-bf29-61f26a826925",
   "metadata": {},
   "outputs": [
    {
     "data": {
      "text/plain": [
       "23"
      ]
     },
     "execution_count": 1,
     "metadata": {},
     "output_type": "execute_result"
    }
   ],
   "source": [
    "3 + 5 * 4"
   ]
  },
  {
   "cell_type": "markdown",
   "id": "2d818500-3d4d-49a9-9776-5b81b5f0fa87",
   "metadata": {},
   "source": [
    "As one would expect, computers are really good at math.  We can combine variables with scalar values or other variables using our standard set of mathematical operators."
   ]
  },
  {
   "cell_type": "code",
   "execution_count": 2,
   "id": "36ec33f0-792a-4a44-a92d-9864799d27c0",
   "metadata": {},
   "outputs": [
    {
     "data": {
      "text/plain": [
       "5.5"
      ]
     },
     "execution_count": 2,
     "metadata": {},
     "output_type": "execute_result"
    }
   ],
   "source": [
    "# addition\n",
    "2 + 3.5"
   ]
  },
  {
   "cell_type": "code",
   "execution_count": 3,
   "id": "cd07abcf-5888-44aa-8e93-51c277b49ead",
   "metadata": {},
   "outputs": [
    {
     "data": {
      "text/plain": [
       "-9"
      ]
     },
     "execution_count": 3,
     "metadata": {},
     "output_type": "execute_result"
    }
   ],
   "source": [
    " # subtraction\n",
    "1 - 10"
   ]
  },
  {
   "cell_type": "code",
   "execution_count": 4,
   "id": "259a1eb7-22c3-4c68-8252-69717997fc1a",
   "metadata": {},
   "outputs": [
    {
     "data": {
      "text/plain": [
       "0.7777777777777778"
      ]
     },
     "execution_count": 4,
     "metadata": {},
     "output_type": "execute_result"
    }
   ],
   "source": [
    "# division\n",
    "7/9"
   ]
  },
  {
   "cell_type": "code",
   "execution_count": 5,
   "id": "5f4169b9-30ab-4f75-b7f9-19d1b367e95f",
   "metadata": {},
   "outputs": [
    {
     "data": {
      "text/plain": [
       "8"
      ]
     },
     "execution_count": 5,
     "metadata": {},
     "output_type": "execute_result"
    }
   ],
   "source": [
    "# exponentiation\n",
    "2**3"
   ]
  },
  {
   "cell_type": "code",
   "execution_count": 6,
   "id": "84e338a5-ea44-408c-bb6d-5b0aad3effd4",
   "metadata": {},
   "outputs": [
    {
     "data": {
      "text/plain": [
       "2"
      ]
     },
     "execution_count": 6,
     "metadata": {},
     "output_type": "execute_result"
    }
   ],
   "source": [
    "# modulus, or remainder after division\n",
    "23 % 3"
   ]
  },
  {
   "cell_type": "code",
   "execution_count": 7,
   "id": "d8daeab7-a1e5-4167-a06e-1a798d3beb8d",
   "metadata": {},
   "outputs": [
    {
     "data": {
      "text/plain": [
       "1"
      ]
     },
     "execution_count": 7,
     "metadata": {},
     "output_type": "execute_result"
    }
   ],
   "source": [
    "# rounding\n",
    "round(9/10)"
   ]
  },
  {
   "cell_type": "code",
   "execution_count": 8,
   "id": "1ec18b68-c2ed-4bde-ae80-3ad2808ca7c6",
   "metadata": {},
   "outputs": [
    {
     "data": {
      "text/plain": [
       "(-0.2+0.4j)"
      ]
     },
     "execution_count": 8,
     "metadata": {},
     "output_type": "execute_result"
    }
   ],
   "source": [
    "# built in complex number support\n",
    "(1+2j) / (3-4j)"
   ]
  },
  {
   "cell_type": "markdown",
   "id": "9bfcf8fe-6485-4b8b-b592-547c74f1eaac",
   "metadata": {},
   "source": [
    "This is great but not very interesting. To do anything useful with data, we need to assign its value to a variable. In Python, we can assign a value to a variable, using the equals sign =. For example"
   ]
  },
  {
   "cell_type": "code",
   "execution_count": 9,
   "id": "a0ba2107-b8cc-465a-875e-35fa825f9d11",
   "metadata": {},
   "outputs": [],
   "source": [
    "# comments are anything that comes after the \"#\" symbol\n",
    "\n",
    "## assign 60 to variable 'temperature'\n",
    "temperature = 60"
   ]
  },
  {
   "cell_type": "markdown",
   "id": "82979d06-8293-40c5-b37a-bba2943952cb",
   "metadata": {},
   "source": [
    "From now on, whenever we use `temperature`, Python will substitute the value we assigned to it. In layperson’s terms, a variable is a name for a value.\n",
    "\n",
    "In Python, variable names:\n",
    "\n",
    "- can include letters, digits, and underscores\n",
    "- cannot start with a digit\n",
    "- are case sensitive.\n",
    "\n",
    "This means that, for example:\n",
    "\n",
    "- weight0 is a valid variable name, whereas 0weight is not\n",
    "- weight and Weight are different variables\n"
   ]
  },
  {
   "cell_type": "markdown",
   "id": "fdce442e-2169-4a04-a705-335c61fb6f89",
   "metadata": {},
   "source": [
    "### Types of data\n",
    "\n",
    "Python knows various types of data. Three common ones are:\n",
    "\n",
    "- integer numbers\n",
    "- floating point numbers, and\n",
    "- strings.\n",
    "\n",
    "In the example above, variable temperature has an integer value of 60. Now let's say we want to track the annual mean preciptation in Golden, we can use a floating point value by executing:"
   ]
  },
  {
   "cell_type": "code",
   "execution_count": 10,
   "id": "996092d1-9967-4efe-816a-39987849be68",
   "metadata": {},
   "outputs": [],
   "source": [
    "precip = 11.2"
   ]
  },
  {
   "cell_type": "markdown",
   "id": "69c22d15-5e84-42f2-9d32-2515707650d5",
   "metadata": {},
   "source": [
    "To create a string, we add single or double quotes around some text. To identify and track a patient throughout our study, we can assign each person a unique identifier by storing it in a string:\n",
    "\n"
   ]
  },
  {
   "cell_type": "code",
   "execution_count": 11,
   "id": "ecd04ae6-ce5c-4473-8c6d-592a73637c8b",
   "metadata": {},
   "outputs": [],
   "source": [
    "city = 'Golden'"
   ]
  },
  {
   "cell_type": "markdown",
   "id": "3da28606-d30f-4627-86ba-3dabd82fa472",
   "metadata": {},
   "source": [
    "A string can have many words, including punctuation:"
   ]
  },
  {
   "cell_type": "code",
   "execution_count": 12,
   "id": "d55e4d1e-6795-4276-a680-364d230f74b2",
   "metadata": {},
   "outputs": [],
   "source": [
    "city_description = \"Golden, CO is the home of Colorado School of Mines.\""
   ]
  },
  {
   "cell_type": "markdown",
   "id": "0bce1655-b767-428e-8809-99af7b7cc105",
   "metadata": {},
   "source": [
    "### Using Variables in Python\n",
    "\n",
    "Once we have data stored with variable names, we can make use of it in calculations."
   ]
  },
  {
   "cell_type": "code",
   "execution_count": 13,
   "id": "e8dd5ba7-f067-4fe8-8f4e-62dffad7f673",
   "metadata": {},
   "outputs": [],
   "source": [
    "temperature_celsius = (temperature - 32)*5/9"
   ]
  },
  {
   "cell_type": "markdown",
   "id": "8e11e72e-a47c-40de-935c-388f9c068f55",
   "metadata": {},
   "source": [
    "We might decide to add a sufix to our city identifier:"
   ]
  },
  {
   "cell_type": "code",
   "execution_count": 14,
   "id": "bbb36e45-3fe4-48f4-9aad-d096d619cfad",
   "metadata": {},
   "outputs": [],
   "source": [
    "location = city + '_CO'"
   ]
  },
  {
   "cell_type": "markdown",
   "id": "10bce177-77a5-4e80-8032-a430f2221a78",
   "metadata": {},
   "source": [
    "### Built-in Python functions\n",
    "To carry out common tasks with data and variables in Python, the language provides us with several built-in functions. To display information to the screen, we use the print function:"
   ]
  },
  {
   "cell_type": "code",
   "execution_count": 15,
   "id": "a8dcaf69-975b-4c9d-88fa-928d18691283",
   "metadata": {},
   "outputs": [
    {
     "name": "stdout",
     "output_type": "stream",
     "text": [
      "60\n",
      "Golden_CO\n"
     ]
    }
   ],
   "source": [
    "print(temperature)\n",
    "print(location)"
   ]
  },
  {
   "cell_type": "markdown",
   "id": "08fb7593-5dfc-404c-a671-670b1f8bd425",
   "metadata": {},
   "source": [
    "When we want to make use of a function, referred to as calling the function, we follow its name by parentheses. The parentheses are important: if you leave them off, the function doesn’t actually run! Sometimes you will include values or variables inside the parentheses for the function to use. In the case of print, we use the parentheses to tell the function what value we want to display. We will learn more about how functions work and how to create our own in later episodes.\n",
    "\n",
    "We can display multiple things at once using only one print call:"
   ]
  },
  {
   "cell_type": "code",
   "execution_count": 16,
   "id": "6c7ed753-04c9-4d51-9b54-d6522d2b4609",
   "metadata": {},
   "outputs": [
    {
     "name": "stdout",
     "output_type": "stream",
     "text": [
      "The temperature in Golden is 60\n"
     ]
    }
   ],
   "source": [
    "print(\"The temperature in\", city, \"is\", temperature)"
   ]
  },
  {
   "cell_type": "markdown",
   "id": "c20c8ea1-c615-471d-81b5-66b730975e91",
   "metadata": {},
   "source": [
    "We can also call a function inside of another function call. For example, Python has a built-in function called type that tells you a value’s data type:"
   ]
  },
  {
   "cell_type": "code",
   "execution_count": 17,
   "id": "0b8c9480-df23-43b5-be0e-a8fd502c28cf",
   "metadata": {},
   "outputs": [
    {
     "name": "stdout",
     "output_type": "stream",
     "text": [
      "<class 'float'>\n",
      "<class 'str'>\n"
     ]
    }
   ],
   "source": [
    "print(type(60.3))\n",
    "print(type(city))"
   ]
  },
  {
   "cell_type": "markdown",
   "id": "35d215de-9e83-417d-a610-27ef822af2e1",
   "metadata": {},
   "source": [
    "Moreover, we can do arithmetic with variables right inside the print function:"
   ]
  },
  {
   "cell_type": "code",
   "execution_count": 18,
   "id": "685c48f7-c36c-460f-a7f2-13628f90706b",
   "metadata": {},
   "outputs": [
    {
     "name": "stdout",
     "output_type": "stream",
     "text": [
      "temperature in Kelvin: 288.7055555555555\n"
     ]
    }
   ],
   "source": [
    "print('temperature in Kelvin:', temperature_celsius + 273.15)"
   ]
  },
  {
   "cell_type": "markdown",
   "id": "0d8726d3-96b3-4f7c-9f27-c0337f4c181a",
   "metadata": {},
   "source": [
    "The above command, however, did not change the value of temperature_celsius:"
   ]
  },
  {
   "cell_type": "code",
   "execution_count": 19,
   "id": "e327111d-d9bd-40e9-9be1-d82525287238",
   "metadata": {},
   "outputs": [
    {
     "name": "stdout",
     "output_type": "stream",
     "text": [
      "15.555555555555555\n"
     ]
    }
   ],
   "source": [
    "print(temperature_celsius)"
   ]
  },
  {
   "cell_type": "markdown",
   "id": "b70462b7-5427-4bea-b523-054249f985d3",
   "metadata": {},
   "source": [
    "To change the value of the temperature_celsius variable, we have to assign temperature_celsius a new value using the equals = sign:"
   ]
  },
  {
   "cell_type": "code",
   "execution_count": 20,
   "id": "08b7faad-c905-4a16-a697-bc04c4a91851",
   "metadata": {},
   "outputs": [
    {
     "name": "stdout",
     "output_type": "stream",
     "text": [
      "the variable temperature_celsius now is: 21\n"
     ]
    }
   ],
   "source": [
    "temperature_celsius = 21\n",
    "print('the variable temperature_celsius now is:', temperature_celsius)"
   ]
  },
  {
   "cell_type": "markdown",
   "id": "7b4fbe6a-93cc-41b6-a459-704dc1b95808",
   "metadata": {},
   "source": [
    "📌 A variable in Python is analogous to a sticky note with a name written on it: assigning a value to a variable is like putting that sticky note on a particular value.\n",
    "\n",
    "\n",
    "\n",
    "![](https://swcarpentry.github.io/python-novice-inflammation/fig/python-sticky-note-variables-01.svg)\n",
    "\n",
    "\n",
    "Using this analogy, we can investigate how assigning a value to one variable does not change values of other, seemingly related, variables. For example, let’s store the subject’s weight in pounds in its own variable:"
   ]
  },
  {
   "cell_type": "code",
   "execution_count": 21,
   "id": "9ee4edcb-e499-405d-ab83-2157760d7746",
   "metadata": {},
   "outputs": [
    {
     "name": "stdout",
     "output_type": "stream",
     "text": [
      "weight in kilograms: 65 and in pounds: 143.0\n"
     ]
    }
   ],
   "source": [
    "weight_kg = 65\n",
    "\n",
    "# There are 2.2 pounds per kilogram\n",
    "weight_lb = 2.2 * weight_kg\n",
    "print('weight in kilograms:', weight_kg, 'and in pounds:', weight_lb)"
   ]
  },
  {
   "cell_type": "markdown",
   "id": "2096f9bc-bc55-43cb-9ec1-7b3346d58b8b",
   "metadata": {},
   "source": [
    "Similar to above, the expression 2.2 * weight_kg is evaluated to 143.0, and then this value is assigned to the variable weight_lb (i.e. the sticky note weight_lb is placed on 143.0). At this point, each variable is “stuck” to completely distinct and unrelated values.\n",
    "\n",
    "Let’s now change weight_kg:"
   ]
  },
  {
   "cell_type": "code",
   "execution_count": 22,
   "id": "fc55e9a0-cc13-402c-9749-36afa0e74b86",
   "metadata": {},
   "outputs": [
    {
     "name": "stdout",
     "output_type": "stream",
     "text": [
      "weight in kilograms is now: 100.0 and weight in pounds is still: 143.0\n"
     ]
    }
   ],
   "source": [
    "weight_kg = 100.0\n",
    "print('weight in kilograms is now:', weight_kg, 'and weight in pounds is still:', weight_lb)"
   ]
  },
  {
   "cell_type": "markdown",
   "id": "59cbe12c-eba6-4d2d-ba68-294e516c374c",
   "metadata": {},
   "source": [
    "![](https://swcarpentry.github.io/python-novice-inflammation/fig/python-sticky-note-variables-03.svg)\n",
    "\n",
    "Since weight_lb doesn’t “remember” where its value comes from, it is not updated when we change weight_kg."
   ]
  },
  {
   "cell_type": "markdown",
   "id": "f09ec088-86c9-40e1-8daa-c1241c4bf67a",
   "metadata": {},
   "source": [
    "### ✅ Activity: Check Your Understanding\n",
    "----\n",
    "1. What values do the variables mass and age have after each of the following statements? Test your answer by executing the lines.\n",
    "\n",
    "```python\n",
    "mass = 47.5\n",
    "age = 122\n",
    "mass = mass * 2.0\n",
    "age = age - 20\n",
    "```"
   ]
  },
  {
   "cell_type": "markdown",
   "id": "1e4b64a5-0363-4452-8174-5829fac2d71c",
   "metadata": {},
   "source": [
    "2. Python allows you to assign multiple values to multiple variables in one line by separating the variables and values with commas. What does the following program print out?\n",
    "```python\n",
    "first, second = 'Grace', 'Hopper'\n",
    "third, fourth = second, first\n",
    "print(third, fourth)\n",
    "```"
   ]
  },
  {
   "cell_type": "markdown",
   "id": "7457e678-15d3-47c4-92cb-6aa8a10b1933",
   "metadata": {},
   "source": [
    "3. What are the data types of the following variables?\n",
    "\n",
    "```python\n",
    "planet = 'Earth'\n",
    "apples = 5\n",
    "distance = 10.5\n",
    "```"
   ]
  },
  {
   "cell_type": "markdown",
   "id": "24f9e0bb-fb61-4741-8982-2ac0a70b2d90",
   "metadata": {},
   "source": [
    "### 🔎 Key Points\n",
    "- Basic data types in Python include integers, strings, and floating-point numbers.\n",
    "- Use variable = value to assign a value to a variable in order to record it in memory.\n",
    "- Variables are created on demand whenever a value is assigned to them.\n",
    "- Use print(something) to display the value of something.\n",
    "- Built-in functions are always available to use."
   ]
  }
 ],
 "metadata": {
  "kernelspec": {
   "display_name": "Python 3 (ipykernel)",
   "language": "python",
   "name": "python3"
  },
  "language_info": {
   "codemirror_mode": {
    "name": "ipython",
    "version": 3
   },
   "file_extension": ".py",
   "mimetype": "text/x-python",
   "name": "python",
   "nbconvert_exporter": "python",
   "pygments_lexer": "ipython3",
   "version": "3.9.6"
  }
 },
 "nbformat": 4,
 "nbformat_minor": 5
}
