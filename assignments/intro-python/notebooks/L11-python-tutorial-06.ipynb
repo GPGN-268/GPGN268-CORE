{
 "cells": [
  {
   "cell_type": "markdown",
   "id": "6e959c83-a01d-43b1-8539-7e24185dec1a",
   "metadata": {},
   "source": [
    "Making ChoicesMaking ChoicesMaking Choices# 🌎 GPGN268 - Geophysical Data Analysis\n",
    "- **Instructor:** Bia Villas Boas  \n",
    "- **TA:** Seunghoo Kim\n",
    "\n",
    "## Python Tutorial 6:  Making Choices\n",
    "#### 🎯 Learning Objectives from this Tutorial:\n",
    "- Write conditional statements including if, elif, and else branches.\n",
    "- Correctly evaluate expressions containing and and or."
   ]
  },
  {
   "cell_type": "code",
   "execution_count": 10,
   "id": "1eeb6fe2-d9d9-4c42-9b04-eecf38a03580",
   "metadata": {},
   "outputs": [],
   "source": [
    "import numpy as np"
   ]
  },
  {
   "cell_type": "markdown",
   "id": "834ec8f2-4e04-43c5-bd45-d7fcefaf7711",
   "metadata": {},
   "source": [
    "We found some suspicious negative values in our precipitation data. How can we use Python to automatically recognize different features in the data and take a different action for each? In this lesson, we’ll learn how to write code that runs only when certain conditions are true."
   ]
  },
  {
   "cell_type": "markdown",
   "id": "71c499b0-6093-456e-9282-66eba5b3240d",
   "metadata": {},
   "source": [
    "Conditionals\n",
    "We can ask Python to take different actions, depending on a condition, with an if statement:"
   ]
  },
  {
   "cell_type": "code",
   "execution_count": 2,
   "id": "af29e4f3-b4f0-477f-b553-0e00b36ed769",
   "metadata": {},
   "outputs": [
    {
     "name": "stdout",
     "output_type": "stream",
     "text": [
      "not greater\n",
      "done\n"
     ]
    }
   ],
   "source": [
    "num = 37\n",
    "if num > 100:\n",
    "    print('greater')\n",
    "else:\n",
    "    print('not greater')\n",
    "print('done')"
   ]
  },
  {
   "cell_type": "markdown",
   "id": "29a31a25-4ef0-4f4a-86ca-3153625f1c10",
   "metadata": {},
   "source": [
    "The second line of this code uses the keyword if to tell Python that we want to make a choice. If the test that follows the if statement is true, the body of the if (i.e., the set of lines indented underneath it) is executed, and “greater” is printed. If the test is false, the body of the else is executed instead, and “not greater” is printed. Only one or the other is ever executed before continuing on with program execution to print “done”:\n",
    "\n",
    "![](https://swcarpentry.github.io/python-novice-inflammation/fig/python-flowchart-conditional.png)\n",
    "\n",
    "\n",
    "Conditional statements don’t have to include an else. If there isn’t one, Python simply does nothing if the test is false:"
   ]
  },
  {
   "cell_type": "code",
   "execution_count": 3,
   "id": "b83bb3f9-e553-406c-bae4-694e3b83b5f6",
   "metadata": {},
   "outputs": [
    {
     "name": "stdout",
     "output_type": "stream",
     "text": [
      "before conditional...\n",
      "...after conditional\n"
     ]
    }
   ],
   "source": [
    "num = 53\n",
    "print('before conditional...')\n",
    "if num > 100:\n",
    "    print(num, 'is greater than 100')\n",
    "print('...after conditional')"
   ]
  },
  {
   "cell_type": "markdown",
   "id": "14e2eb7b-e6e4-4293-a67d-ac69e125413e",
   "metadata": {},
   "source": [
    "We can also chain several tests together using elif, which is short for “else if”. The following Python code uses elif to print the sign of a number."
   ]
  },
  {
   "cell_type": "code",
   "execution_count": 4,
   "id": "04dee66c-b852-4afa-9ed7-89b29709b55a",
   "metadata": {},
   "outputs": [
    {
     "name": "stdout",
     "output_type": "stream",
     "text": [
      "-3 is negative\n"
     ]
    }
   ],
   "source": [
    "num = -3\n",
    "\n",
    "if num > 0:\n",
    "    print(num, 'is positive')\n",
    "elif num == 0:\n",
    "    print(num, 'is zero')\n",
    "else:\n",
    "    print(num, 'is negative')"
   ]
  },
  {
   "cell_type": "markdown",
   "id": "fe825d8a-32e6-42d7-aee7-f9ca33776ab5",
   "metadata": {},
   "source": [
    "Note that to test for equality we use a double equals sign == rather than a single equals sign = which is used to assign values."
   ]
  },
  {
   "cell_type": "markdown",
   "id": "578a707b-75f4-4630-9aab-5bd6f8007741",
   "metadata": {},
   "source": [
    "#### 📌 Comparing in Python\n",
    "\n",
    "Along with the > and == operators we have already used for comparing values in our conditionals, there are a few more options to know about:\n",
    "\n",
    "- `>` greater than\n",
    "- `<` less than\n",
    "- `==` equal to\n",
    "- `!=` does not equal\n",
    "- `>=` greater than or equal to\n",
    "- `<=` less than or equal to\n",
    "\n",
    "the output of a comparison in Python is boolean (True or False). For example"
   ]
  },
  {
   "cell_type": "code",
   "execution_count": 5,
   "id": "b58e9c9c-480d-48b8-87cc-3a6ead775dde",
   "metadata": {},
   "outputs": [
    {
     "data": {
      "text/plain": [
       "False"
      ]
     },
     "execution_count": 5,
     "metadata": {},
     "output_type": "execute_result"
    }
   ],
   "source": [
    "1 == 2"
   ]
  },
  {
   "cell_type": "code",
   "execution_count": 6,
   "id": "f590a4c1-413e-426f-ae31-e19b9a989a0d",
   "metadata": {},
   "outputs": [
    {
     "data": {
      "text/plain": [
       "True"
      ]
     },
     "execution_count": 6,
     "metadata": {},
     "output_type": "execute_result"
    }
   ],
   "source": [
    "3 > 1"
   ]
  },
  {
   "cell_type": "markdown",
   "id": "9c5d0dda-38fc-463b-8f32-54a6c29d7df0",
   "metadata": {},
   "source": [
    "We can also combine tests using `and` and `or`. \n",
    "- `and` is only true if both parts are true:"
   ]
  },
  {
   "cell_type": "code",
   "execution_count": 7,
   "id": "1dadf6ec-61c4-4922-9e41-24ffa6b9ebfd",
   "metadata": {},
   "outputs": [
    {
     "name": "stdout",
     "output_type": "stream",
     "text": [
      "at least one part is false\n"
     ]
    }
   ],
   "source": [
    "if (1 > 0) and (-1 >= 0):\n",
    "    print('both parts are true')\n",
    "else:\n",
    "    print('at least one part is false')"
   ]
  },
  {
   "cell_type": "markdown",
   "id": "7e22c009-4f5c-45a8-a70d-95cde4c4d652",
   "metadata": {},
   "source": [
    "- `or` is true if at least one part is true:"
   ]
  },
  {
   "cell_type": "code",
   "execution_count": 8,
   "id": "8ff4d8b6-1b09-4050-8bd8-dc63262b2f20",
   "metadata": {},
   "outputs": [
    {
     "name": "stdout",
     "output_type": "stream",
     "text": [
      "at least one test is true\n"
     ]
    }
   ],
   "source": [
    "if (1 < 0) or (1 >= 0):\n",
    "    print('at least one test is true')"
   ]
  },
  {
   "cell_type": "markdown",
   "id": "cc90d004-b8ff-453a-847d-2b8f3afcd0b6",
   "metadata": {},
   "source": [
    "#### Conditionals for numpy arrays\n",
    "\n",
    "We can check for specific conditions on numpy arrays. For example:"
   ]
  },
  {
   "cell_type": "code",
   "execution_count": 13,
   "id": "39407604-a16c-4296-be7a-be4c54418cbd",
   "metadata": {},
   "outputs": [
    {
     "data": {
      "text/plain": [
       "array([ True, False, False, False,  True, False])"
      ]
     },
     "execution_count": 13,
     "metadata": {},
     "output_type": "execute_result"
    }
   ],
   "source": [
    "a = np.array([-1, 0, 3, 5, -4, 6])\n",
    "a < 0"
   ]
  },
  {
   "cell_type": "markdown",
   "id": "f1625a58-0066-4b0e-a1ed-88816ceb020f",
   "metadata": {},
   "source": [
    "Here, Python will check the condition for each element of the array `a`, returning an array of booleans with `True` at the indices where the condition is met, and `False` at the indices where the condition is not met."
   ]
  },
  {
   "cell_type": "markdown",
   "id": "2684ed50-2a7b-4af6-b7ea-be098fc142da",
   "metadata": {},
   "source": [
    "### 🔎 Key Points\n",
    "- Use if condition to start a conditional statement, elif condition to provide additional tests, and else to provide a default.\n",
    "- The bodies of the branches of conditional statements must be indented.\n",
    "- Use == to test for equality.\n",
    "- X and Y is only true if both X and Y are true.\n",
    "- X or Y is true if either X or Y, or both, are true.\n",
    "- Zero, the empty string, and the empty list are considered false; all other numbers, strings, and lists are considered true.\n",
    "- True and False represent truth values."
   ]
  }
 ],
 "metadata": {
  "kernelspec": {
   "display_name": "Python 3 (ipykernel)",
   "language": "python",
   "name": "python3"
  },
  "language_info": {
   "codemirror_mode": {
    "name": "ipython",
    "version": 3
   },
   "file_extension": ".py",
   "mimetype": "text/x-python",
   "name": "python",
   "nbconvert_exporter": "python",
   "pygments_lexer": "ipython3",
   "version": "3.10.8"
  }
 },
 "nbformat": 4,
 "nbformat_minor": 5
}
