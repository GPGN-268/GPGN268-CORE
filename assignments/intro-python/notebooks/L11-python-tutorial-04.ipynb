{
 "cells": [
  {
   "cell_type": "markdown",
   "id": "6e959c83-a01d-43b1-8539-7e24185dec1a",
   "metadata": {},
   "source": [
    "# 🌎 GPGN268 - Geophysical Data Analysis\n",
    "- **Instructor:** Bia Villas Boas  \n",
    "- **TA:** Seunghoo Kim\n",
    "\n",
    "## Python Tutorial 4:  Lists\n",
    "\n",
    "#### 🎯 Learning Objectives from this Tutorial:\n",
    "- Explain what a list is\n",
    "- Create and index lists of simple values\n",
    "- Change the values of individual elements\n",
    "- Append values to an existing list\n",
    "- Reorder and slice list elements\n",
    "- Create and manipulate nested lists"
   ]
  },
  {
   "cell_type": "markdown",
   "id": "633bd065-07bb-4cba-b6eb-8a719f5d0317",
   "metadata": {},
   "source": [
    "### Python Lists\n",
    "Unlike NumPy arrays, lists are built into the language so we do not have to load a library to use them. We create a list by putting values inside square brackets and separating the values with commas:"
   ]
  },
  {
   "cell_type": "code",
   "execution_count": 1,
   "id": "6f4b0936-6c8e-46b6-b9f6-a196717f89d2",
   "metadata": {},
   "outputs": [
    {
     "name": "stdout",
     "output_type": "stream",
     "text": [
      "odds are: [1, 3, 5, 7]\n"
     ]
    }
   ],
   "source": [
    "odds = [1, 3, 5, 7]\n",
    "print('odds are:', odds)"
   ]
  },
  {
   "cell_type": "code",
   "execution_count": 2,
   "id": "373b2d9f-2e57-43ae-bbe8-9f262415b1df",
   "metadata": {},
   "outputs": [
    {
     "data": {
      "text/plain": [
       "list"
      ]
     },
     "execution_count": 2,
     "metadata": {},
     "output_type": "execute_result"
    }
   ],
   "source": [
    "type(odds)"
   ]
  },
  {
   "cell_type": "markdown",
   "id": "76f18739-7891-49c8-8ef2-79e3435366be",
   "metadata": {},
   "source": [
    "We can access elements of a list using indices – numbered positions of elements in the list. These positions are numbered starting at 0, so the first element has an index of 0."
   ]
  },
  {
   "cell_type": "code",
   "execution_count": 3,
   "id": "d2607f44-f293-4ed2-ba97-a4cee3b763ce",
   "metadata": {},
   "outputs": [
    {
     "name": "stdout",
     "output_type": "stream",
     "text": [
      "first element: 1\n",
      "last element: 7\n",
      "\"-1\" element: 7\n"
     ]
    }
   ],
   "source": [
    "print('first element:', odds[0])\n",
    "print('last element:', odds[3])\n",
    "print('\"-1\" element:', odds[-1])"
   ]
  },
  {
   "cell_type": "markdown",
   "id": "f1b1201f-55f1-4516-968e-4aa218c7670f",
   "metadata": {},
   "source": [
    "Yes, we can use negative numbers as indices in Python. When we do so, the index -1 gives us the last element in the list, -2 the second to last, and so on. Because of this, odds[3] and odds[-1] point to the same element here.\n",
    "\n",
    "There is one important difference between lists and strings: we can change the values in a list, but we cannot change individual characters in a string. For example:"
   ]
  },
  {
   "cell_type": "code",
   "execution_count": 4,
   "id": "5d1aceec-06cb-4dc8-8565-0c8115ed974c",
   "metadata": {},
   "outputs": [
    {
     "name": "stdout",
     "output_type": "stream",
     "text": [
      "names is originally: ['Curie', 'Darwing', 'Turing']\n",
      "final value of names: ['Curie', 'Darwin', 'Turing']\n"
     ]
    }
   ],
   "source": [
    " # typo in Darwin's name\n",
    "names = ['Curie', 'Darwing', 'Turing'] \n",
    "print('names is originally:', names)\n",
    "# correct the name\n",
    "names[1] = 'Darwin'  \n",
    "print('final value of names:', names)"
   ]
  },
  {
   "cell_type": "markdown",
   "id": "9eb4a0fa-5241-449e-854e-a3eb51a90706",
   "metadata": {},
   "source": [
    "The code above works, but if we try instead:"
   ]
  },
  {
   "cell_type": "code",
   "execution_count": 5,
   "id": "9a40cdb8-ec4b-4610-bb92-e7c11db477ef",
   "metadata": {},
   "outputs": [
    {
     "ename": "TypeError",
     "evalue": "'str' object does not support item assignment",
     "output_type": "error",
     "traceback": [
      "\u001b[0;31m---------------------------------------------------------------------------\u001b[0m",
      "\u001b[0;31mTypeError\u001b[0m                                 Traceback (most recent call last)",
      "Cell \u001b[0;32mIn[5], line 2\u001b[0m\n\u001b[1;32m      1\u001b[0m name \u001b[38;5;241m=\u001b[39m \u001b[38;5;124m'\u001b[39m\u001b[38;5;124mDarwin\u001b[39m\u001b[38;5;124m'\u001b[39m\n\u001b[0;32m----> 2\u001b[0m \u001b[43mname\u001b[49m\u001b[43m[\u001b[49m\u001b[38;5;241;43m0\u001b[39;49m\u001b[43m]\u001b[49m \u001b[38;5;241m=\u001b[39m \u001b[38;5;124m'\u001b[39m\u001b[38;5;124md\u001b[39m\u001b[38;5;124m'\u001b[39m\n",
      "\u001b[0;31mTypeError\u001b[0m: 'str' object does not support item assignment"
     ]
    }
   ],
   "source": [
    "name = 'Darwin'\n",
    "name[0] = 'd'"
   ]
  },
  {
   "cell_type": "markdown",
   "id": "b2e91ead-42ae-4c5b-a327-86dd69fd123d",
   "metadata": {},
   "source": [
    "is doesn't work, because you can't change specific values on a string."
   ]
  },
  {
   "cell_type": "markdown",
   "id": "29bcf481-ba71-47f2-88f7-e44ab14c62b3",
   "metadata": {
    "tags": []
   },
   "source": [
    "#### 📌 Mutable and immutable objects\n",
    "Objects which can be modified in place is called **mutable**, while data which cannot be modified is called **immutable**. Strings and numbers are immutable. This does not mean that variables with string or number values are constants, but when we want to change the value of a string or number variable, we can only replace the old value with a completely new value.\n",
    "\n",
    "Lists and arrays, on the other hand, are mutable: we can modify them after they have been created. We can change individual elements, append new elements, or reorder the whole list. For some operations, like sorting, we can choose whether to use a function that modifies the data in-place or a function that returns a modified copy and leaves the original unchanged.\n",
    "\n",
    "Be careful when modifying data in-place. If two variables refer to the same list, and you modify the list value, it will change for both variables!"
   ]
  },
  {
   "cell_type": "code",
   "execution_count": null,
   "id": "73ee23d5-0afb-4ea9-9692-92041706d8a9",
   "metadata": {},
   "outputs": [],
   "source": [
    "gp_tracks = ['environment', 'space', 'humanitarian', 'energy', 'minerals', 'hazards']\n",
    "# my_interests and gp_tracks point to the *same* list data in memory\n",
    "my_interests = gp_tracks\n",
    "# if we modify one element in gp_tracks\n",
    "gp_tracks[0] = 'climate'\n",
    "# it also modifies it in my_interests\n",
    "print('Tracks in my interests:', my_interests)"
   ]
  },
  {
   "cell_type": "markdown",
   "id": "29624591-1f6a-495e-8d6c-95ac4e734c2f",
   "metadata": {},
   "source": [
    "If you want variables with mutable values to be independent, you must make a copy of the value when you assign it."
   ]
  },
  {
   "cell_type": "code",
   "execution_count": null,
   "id": "b27aa9d9-3e03-40a4-8647-b49cc5c0ef94",
   "metadata": {},
   "outputs": [],
   "source": [
    "gp_tracks = ['environment', 'space', 'humanitarian', 'energy', 'minerals', 'hazards']\n",
    "# my_interests and gp_tracks point to the *same* list data in memory\n",
    "my_interests = list(gp_tracks)\n",
    "# if we modify one element in gp_tracks\n",
    "gp_tracks[0] = 'climate'\n",
    "# it also modifies it in my_interests\n",
    "print('Tracks in my interests:', my_interests)"
   ]
  },
  {
   "cell_type": "markdown",
   "id": "39281e24-8671-4e97-b924-f0c9307d300f",
   "metadata": {},
   "source": [
    "#### Heterogeneous lists\n",
    "\n",
    "Lists in Python can contain elements of different types. Example:"
   ]
  },
  {
   "cell_type": "code",
   "execution_count": null,
   "id": "8fa992a4-047f-4a6a-b0c1-f02a9828fe9b",
   "metadata": {},
   "outputs": [],
   "source": [
    "# Here, this list contains an interger, a float, and a string \n",
    "sample_temperatures = [50, 60.2, 'unknown']"
   ]
  },
  {
   "cell_type": "markdown",
   "id": "de74c66f-6e53-46ce-9f3a-822c33cd19cd",
   "metadata": {},
   "source": [
    "#### Finding out how many elements are in a list\n",
    "To use list indexing efficiently, it is helpful to know how long the list is, or how many items are stored in the list. You can use the Python function len() to query this information by including the name of the list as a parameter, or input, to the function as follows:"
   ]
  },
  {
   "cell_type": "code",
   "execution_count": null,
   "id": "5863df37-a43a-4599-a9c8-de603b2a507e",
   "metadata": {},
   "outputs": [],
   "source": [
    "len(gp_tracks)"
   ]
  },
  {
   "cell_type": "markdown",
   "id": "4f7b8e62-7074-4f6d-92ea-c22b1c6f781e",
   "metadata": {},
   "source": [
    "Using len(), you can see that `gp_tracks` contains 6 items."
   ]
  },
  {
   "cell_type": "markdown",
   "id": "7d60e142-98a3-4562-b882-a7b0d47395ca",
   "metadata": {},
   "source": [
    "#### Nested Lists\n",
    "Since a list can contain any Python variables, it can even contain other lists.\n",
    "For example, we could represent specific research topics within the new GP tracks:"
   ]
  },
  {
   "cell_type": "code",
   "execution_count": null,
   "id": "237c45d4-8af5-40b1-8bd0-9a59c4a3a4d6",
   "metadata": {},
   "outputs": [],
   "source": [
    "research_topics = [['glaciology', 'oceanography', 'hydrometeorology'],\n",
    "                   ['thermal energy', 'renewable energy', 'carbon capture'],\n",
    "                   ['earthquakes', 'landslides', 'volcanos']]"
   ]
  },
  {
   "cell_type": "markdown",
   "id": "625e3f50-915d-4602-acee-06496bd1db7c",
   "metadata": {},
   "source": [
    "Here is a visual example of how indexing a list of lists x works:\n",
    "\n",
    "![](https://swcarpentry.github.io/python-novice-inflammation/fig/indexing_lists_python.png)"
   ]
  },
  {
   "cell_type": "markdown",
   "id": "ac308a53-632f-49fc-bbde-8de867ec4f64",
   "metadata": {},
   "source": [
    "Using the previously declared list research_topics, these would be the results of the index operations shown in the image:"
   ]
  },
  {
   "cell_type": "code",
   "execution_count": null,
   "id": "642033be-7c43-46a9-a24a-6b49b7721a48",
   "metadata": {},
   "outputs": [],
   "source": [
    "[research_topics[0]]"
   ]
  },
  {
   "cell_type": "code",
   "execution_count": null,
   "id": "352af350-17cf-444b-af8b-b472ddc51b14",
   "metadata": {},
   "outputs": [],
   "source": [
    "research_topics[0]"
   ]
  },
  {
   "cell_type": "code",
   "execution_count": null,
   "id": "9710d34b-fd67-4a38-b7ab-e6c79fe65fad",
   "metadata": {},
   "outputs": [],
   "source": [
    "research_topics[0][0]"
   ]
  },
  {
   "cell_type": "markdown",
   "id": "c3cdef4a-bea2-4b92-b752-83f945bf5fc6",
   "metadata": {},
   "source": [
    "#### ✅ Activity: Selecting elements from a nested list\n",
    "How would you obtain the item \"renewable energy\" in the `research_topics` list?"
   ]
  },
  {
   "cell_type": "markdown",
   "id": "3d4b268e-9392-42dd-b2b9-1882feccbc90",
   "metadata": {},
   "source": [
    "#### List Operations\n",
    "There are many ways to change the contents of lists besides assigning new values to individual elements:"
   ]
  },
  {
   "cell_type": "code",
   "execution_count": null,
   "id": "178a4246-d3e2-4a27-a41e-754bb62be07d",
   "metadata": {},
   "outputs": [],
   "source": [
    "odds"
   ]
  },
  {
   "cell_type": "code",
   "execution_count": null,
   "id": "a816545e-7ef6-4dbc-b3e1-8494184e310d",
   "metadata": {},
   "outputs": [],
   "source": [
    "odds.append(11)\n",
    "print('odds after adding a value to the end:', odds)"
   ]
  },
  {
   "cell_type": "code",
   "execution_count": null,
   "id": "ede7c405-8b05-4d6b-91e0-0cb748e584bd",
   "metadata": {},
   "outputs": [],
   "source": [
    "odds"
   ]
  },
  {
   "cell_type": "code",
   "execution_count": null,
   "id": "c040070d-75a8-45b3-8074-36350f4c7c8d",
   "metadata": {},
   "outputs": [],
   "source": [
    "removed_element = odds.pop(0)\n",
    "print('odds after removing the first element:', odds)\n",
    "print('removed_element:', removed_element)"
   ]
  },
  {
   "cell_type": "markdown",
   "id": "e43264f7-5b0d-4deb-92d8-f6ae21bd0cab",
   "metadata": {},
   "source": [
    "While modifying in place, it is useful to remember that Python treats lists in a slightly counter-intuitive way.\n",
    "\n",
    "As we saw earlier, when we modified the gp_tracks list item in-place, if we make a list, save that in a different variable and then modify this list, we can cause all sorts of trouble. This also applies to modifying the list using the above functions:"
   ]
  },
  {
   "cell_type": "code",
   "execution_count": null,
   "id": "8704f7e5-a5c7-485e-81fc-ae1d17f7ba64",
   "metadata": {},
   "outputs": [],
   "source": [
    "odds = [3, 5, 7]\n",
    "primes = odds\n",
    "primes.append(2)\n",
    "print('primes:', primes)\n",
    "print('odds:', odds)"
   ]
  },
  {
   "cell_type": "markdown",
   "id": "3283fdc1-6cd3-4439-b1c0-b5ce19578076",
   "metadata": {},
   "source": [
    "This is because Python stores a list in memory, and then can use multiple names to refer to the same list. If all we want to do is copy a (simple) list, we can again use the list function, so we do not modify a list we did not mean to:"
   ]
  },
  {
   "cell_type": "code",
   "execution_count": null,
   "id": "43e4f06d-8e98-45b4-83bf-d7141b8deb83",
   "metadata": {},
   "outputs": [],
   "source": [
    "odds = [3, 5, 7]\n",
    "primes = list(odds)\n",
    "primes.append(2)\n",
    "print('primes:', primes)\n",
    "print('odds:', odds)"
   ]
  },
  {
   "cell_type": "markdown",
   "id": "23610eba-a808-4360-a98d-61ed442563c4",
   "metadata": {},
   "source": [
    "Subsets of lists and strings can be accessed by specifying ranges of values in brackets, similar to how we accessed ranges of positions in a NumPy array. This is commonly referred to as “slicing” the list/string."
   ]
  },
  {
   "cell_type": "code",
   "execution_count": null,
   "id": "c8970853-0600-4f18-8280-02277b25bfef",
   "metadata": {},
   "outputs": [],
   "source": [
    "full_name = 'Blaster the Burro'\n",
    "first_name = full_name[0:7]\n",
    "print('first name:', first_name)\n",
    "\n",
    "last_name = full_name[8:17]\n",
    "print('last name:', last_name)\n",
    "\n",
    "spring_schedule = ['Rec Center', 'Geophysics', 'Computer Sciences', 'GPGN268', 'CSCI250']\n",
    "dpartments = spring_schedule[1:3]\n",
    "print('dpartments:', dpartments)\n",
    "\n",
    "classes = spring_schedule[-2:]\n",
    "print('classes:', classes)"
   ]
  },
  {
   "cell_type": "markdown",
   "id": "1bce9b3f-e630-462c-8bee-de92b122fd53",
   "metadata": {},
   "source": [
    "#### Non-Continuous Slices\n",
    "\n",
    "So far we’ve seen how to use slicing to take single blocks of successive entries from a sequence. But what if we want to take a subset of entries that aren’t next to each other in the sequence?\n",
    "\n",
    "You can achieve this by providing a third argument to the range within the brackets, called the step size. The example below shows how you can take every third entry in a list:"
   ]
  },
  {
   "cell_type": "code",
   "execution_count": null,
   "id": "3372d68f-4a37-4760-ba41-5e45d879ca7f",
   "metadata": {},
   "outputs": [],
   "source": [
    "student_database = ['Geophysics', 'spring23', 'GPGN268', 'Computer Sciences', \n",
    "                    'fall22', 'CSCI250', 'Computer Sciences', 'fall21', 'CSCI128']\n",
    "departments = student_database[0:10:3]\n",
    "print('departments:', departments) "
   ]
  },
  {
   "cell_type": "markdown",
   "id": "47e0d884-c690-44ef-8683-2ec8620229c1",
   "metadata": {},
   "source": [
    "Notice that the slice taken begins with the first entry in the range, followed by entries taken at equally-spaced intervals (the steps) thereafter. If you wanted to begin the subset with the third entry, you would need to specify that as the starting point of the sliced range:"
   ]
  },
  {
   "cell_type": "code",
   "execution_count": null,
   "id": "4c01a350-1394-4349-9965-7853fa63e0b9",
   "metadata": {},
   "outputs": [],
   "source": [
    "courses = student_database[2:10:3]\n",
    "print('courses:', courses)"
   ]
  },
  {
   "cell_type": "markdown",
   "id": "a57c97ec-ff61-4426-ba64-8e1cbb42d77c",
   "metadata": {},
   "source": [
    "If you want to take a slice from the beginning of a sequence, you can omit the first index in the range:"
   ]
  },
  {
   "cell_type": "code",
   "execution_count": null,
   "id": "b017e445-b200-4ee2-96f0-3146ba375cfc",
   "metadata": {},
   "outputs": [],
   "source": [
    "date = 'Tuesday 14 Feb 2023'\n",
    "day = date[0:7]\n",
    "print('Using 0 to begin range:', day)\n",
    "day = date[:7]\n",
    "print('Omitting beginning index:', day)"
   ]
  },
  {
   "cell_type": "markdown",
   "id": "2199897d-dc92-4f18-bd67-c6a0919e54f7",
   "metadata": {},
   "source": [
    "And similarly, you can omit the ending index in the range to take a slice to the very end of the sequence:"
   ]
  },
  {
   "cell_type": "code",
   "execution_count": null,
   "id": "78c98a4a-d20b-4f96-a5bc-928f0f6d07a5",
   "metadata": {},
   "outputs": [],
   "source": [
    "months = ['jan', 'feb', 'mar', 'apr', 'may', 'jun', 'jul', 'aug', 'sep', 'oct', 'nov', 'dec']\n",
    "sond = months[8:12]\n",
    "print('With known last position:', sond)\n",
    "sond = months[8:len(months)]\n",
    "print('Using len() to get last entry:', sond)\n",
    "sond = months[8:]\n",
    "print('Omitting ending index:', sond)"
   ]
  },
  {
   "cell_type": "markdown",
   "id": "28791049-aeed-4655-abd5-228a01877479",
   "metadata": {},
   "source": [
    "#### Concatenate\n",
    "\n",
    "`+` usually means addition, but when used on strings or lists, it means “concatenate”. "
   ]
  },
  {
   "cell_type": "code",
   "execution_count": null,
   "id": "077bbc2c-da7a-4111-89a2-f4fc955b7303",
   "metadata": {},
   "outputs": [],
   "source": [
    "start = 'Blas'\n",
    "end = 'ter'\n",
    "name = start + end\n",
    "print('start:', start)\n",
    "print('end:', end)\n",
    "print('start + end:', name)"
   ]
  },
  {
   "cell_type": "code",
   "execution_count": null,
   "id": "397869ed-c97f-4f93-9862-888615f2db1a",
   "metadata": {},
   "outputs": [],
   "source": [
    "favorite_pop = ['Coldplay', 'Lady Gaga', 'Billie Eilish']\n",
    "favorite_rock = ['Pink Floyd', 'Foo Fighters']\n",
    "print(favorite_pop + favorite_rock)"
   ]
  },
  {
   "cell_type": "markdown",
   "id": "2684ed50-2a7b-4af6-b7ea-be098fc142da",
   "metadata": {},
   "source": [
    "### 🔎 Key Points\n",
    "\n",
    "- [value1, value2, value3, ...] creates a list.\n",
    "- Lists can contain any Python object, including lists (i.e., list of lists).\n",
    "- Lists are indexed and sliced with square brackets (e.g., list[0] and list[2:9]), in the same way as strings and arrays.\n",
    "- Lists are mutable (i.e., their values can be changed in place).\n",
    "- Strings are immutable (i.e., the characters in them cannot be changed)."
   ]
  },
  {
   "cell_type": "code",
   "execution_count": null,
   "id": "d2a400b1-44d7-4131-a718-ac4f969b7f7c",
   "metadata": {},
   "outputs": [],
   "source": []
  }
 ],
 "metadata": {
  "kernelspec": {
   "display_name": "Python 3 (ipykernel)",
   "language": "python",
   "name": "python3"
  },
  "language_info": {
   "codemirror_mode": {
    "name": "ipython",
    "version": 3
   },
   "file_extension": ".py",
   "mimetype": "text/x-python",
   "name": "python",
   "nbconvert_exporter": "python",
   "pygments_lexer": "ipython3",
   "version": "3.10.8"
  }
 },
 "nbformat": 4,
 "nbformat_minor": 5
}
