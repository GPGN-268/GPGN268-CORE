{
 "cells": [
  {
   "cell_type": "markdown",
   "id": "6e959c83-a01d-43b1-8539-7e24185dec1a",
   "metadata": {},
   "source": [
    "# 🌎 GPGN268 - Geophysical Data Analysis\n",
    "- **Instructor:** Bia Villas Boas  \n",
    "- **TA:** Seunghoo Kim\n",
    "\n",
    "## Python Tutorial 5:  Repeating Actions with Loops\n",
    "\n",
    "#### 🎯 Learning Objectives from this Tutorial:\n",
    "- Explain what a for loop does.\n",
    "- Correctly write for loops to repeat simple calculations.\n",
    "- Trace changes to a loop variable as the loop runs.\n",
    "- Trace changes to other variables as they are updated by a for loop."
   ]
  },
  {
   "cell_type": "markdown",
   "id": "60b546b1-010c-4a04-835a-96f1de94c676",
   "metadata": {},
   "source": [
    "We have four meteorological data files right now and potentially more on the way. We want to create plots for all of our data sets with a single statement. To do that, we’ll have to ask the computer how to repeat things.\n",
    "\n",
    "An example task that we might want to repeat is accessing numbers in a list, which we will do by printing each number on a line of its own."
   ]
  },
  {
   "cell_type": "code",
   "execution_count": 1,
   "id": "71abf697-80d7-4cc3-8ddd-b3100a3c2f20",
   "metadata": {},
   "outputs": [],
   "source": [
    "odds = [1, 3, 5, 7]"
   ]
  },
  {
   "cell_type": "markdown",
   "id": "5fe49fab-43b3-4afe-a3dc-d3a45d8d9d65",
   "metadata": {},
   "source": [
    "In Python, a list is basically an ordered collection of elements, and every element has a unique number associated with it — its index. This means that we can access elements in a list using their indices. For example, we can get the first number in the list odds, by using odds[0]. One way to print each number is to use four print statements:"
   ]
  },
  {
   "cell_type": "code",
   "execution_count": 2,
   "id": "8d515380-295e-4505-889f-b834c5b6dac1",
   "metadata": {},
   "outputs": [
    {
     "name": "stdout",
     "output_type": "stream",
     "text": [
      "1\n",
      "3\n",
      "5\n",
      "7\n"
     ]
    }
   ],
   "source": [
    "print(odds[0])\n",
    "print(odds[1])\n",
    "print(odds[2])\n",
    "print(odds[3])"
   ]
  },
  {
   "cell_type": "markdown",
   "id": "b75f04b5-2eb7-49cb-bb9b-ec2465963f17",
   "metadata": {},
   "source": [
    "This is a bad approach for three reasons:\n",
    "\n",
    "1. **Not scalable**. Imagine you need to print a list that has hundreds of elements. It might be easier to type them in manually.\n",
    "\n",
    "2. **Difficult to maintain**. If we want to decorate each printed element with an asterisk or any other character, we would have to change four lines of code. While this might not be a problem for small lists, it would definitely be a problem for longer ones.\n",
    "\n",
    "3. **Fragile**. If we use it with a list that has more elements than what we initially envisioned, it will only display part of the list’s elements. A shorter list, on the other hand, will cause an error because it will be trying to display elements of the list that do not exist."
   ]
  },
  {
   "cell_type": "code",
   "execution_count": 3,
   "id": "22cf7df2-e0b1-4884-aad7-951b99d295cc",
   "metadata": {},
   "outputs": [
    {
     "name": "stdout",
     "output_type": "stream",
     "text": [
      "1\n",
      "3\n",
      "5\n"
     ]
    },
    {
     "ename": "IndexError",
     "evalue": "list index out of range",
     "output_type": "error",
     "traceback": [
      "\u001b[0;31m---------------------------------------------------------------------------\u001b[0m",
      "\u001b[0;31mIndexError\u001b[0m                                Traceback (most recent call last)",
      "Cell \u001b[0;32mIn[3], line 5\u001b[0m\n\u001b[1;32m      3\u001b[0m \u001b[38;5;28mprint\u001b[39m(odds[\u001b[38;5;241m1\u001b[39m])\n\u001b[1;32m      4\u001b[0m \u001b[38;5;28mprint\u001b[39m(odds[\u001b[38;5;241m2\u001b[39m])\n\u001b[0;32m----> 5\u001b[0m \u001b[38;5;28mprint\u001b[39m(\u001b[43modds\u001b[49m\u001b[43m[\u001b[49m\u001b[38;5;241;43m3\u001b[39;49m\u001b[43m]\u001b[49m)\n",
      "\u001b[0;31mIndexError\u001b[0m: list index out of range"
     ]
    }
   ],
   "source": [
    "odds = [1, 3, 5]\n",
    "print(odds[0])\n",
    "print(odds[1])\n",
    "print(odds[2])\n",
    "print(odds[3])"
   ]
  },
  {
   "cell_type": "markdown",
   "id": "b5c9db71-b8b0-4821-8ac4-73d1f4478700",
   "metadata": {},
   "source": [
    "Here’s a better approach: a for loop"
   ]
  },
  {
   "cell_type": "code",
   "execution_count": 4,
   "id": "5c682799-51eb-48a2-b51f-693d04f318d7",
   "metadata": {},
   "outputs": [
    {
     "name": "stdout",
     "output_type": "stream",
     "text": [
      "1\n",
      "3\n",
      "5\n",
      "7\n"
     ]
    }
   ],
   "source": [
    "odds = [1, 3, 5, 7]\n",
    "for num in odds:\n",
    "    print(num)"
   ]
  },
  {
   "cell_type": "markdown",
   "id": "ff68388b-660f-491c-b32d-7485caa0951c",
   "metadata": {},
   "source": [
    "This is shorter — certainly shorter than something that prints every number in a hundred-number list — and more robust as well:"
   ]
  },
  {
   "cell_type": "code",
   "execution_count": 5,
   "id": "92718267-ac68-4deb-9aec-a7b9e7402bda",
   "metadata": {},
   "outputs": [
    {
     "name": "stdout",
     "output_type": "stream",
     "text": [
      "1\n",
      "3\n",
      "5\n",
      "7\n",
      "9\n",
      "11\n"
     ]
    }
   ],
   "source": [
    "odds = [1, 3, 5, 7, 9, 11]\n",
    "for num in odds:\n",
    "    print(num)"
   ]
  },
  {
   "cell_type": "markdown",
   "id": "554cbd53-4ac6-4017-a9f1-2610a53f29ce",
   "metadata": {},
   "source": [
    "The improved version uses a for loop to repeat an operation — in this case, printing — once for each thing in a sequence. The general form of a loop is:"
   ]
  },
  {
   "cell_type": "markdown",
   "id": "8bb599ae-bdb2-4155-85c3-885f678a7228",
   "metadata": {},
   "source": [
    "```python\n",
    "for variable in collection:\n",
    "    # do things using variable, such as print\n",
    "```"
   ]
  },
  {
   "cell_type": "markdown",
   "id": "edc29e11-261c-47d9-908d-d4b04eb3354a",
   "metadata": {},
   "source": [
    "Using the odds example above, the loop might look like this:"
   ]
  },
  {
   "cell_type": "markdown",
   "id": "77607bc2-6892-4ec1-80eb-68fdf5829b57",
   "metadata": {},
   "source": [
    "![](https://swcarpentry.github.io/python-novice-inflammation/fig/05-loops_image_num.png)\n",
    "\n",
    "\n",
    "where each number (num) in the variable odds is looped through and printed one number after another. The other numbers in the diagram denote which loop cycle the number was printed in (1 being the first loop cycle, and 6 being the final loop cycle).\n",
    "\n",
    "We can call the loop variable anything we like, but there must be a colon at the end of the line starting the loop, and we must indent anything we want to run inside the loop. Unlike many other languages, there is no command to signify the end of the loop body (e.g. end for); what is indented after the for statement belongs to the loop."
   ]
  },
  {
   "cell_type": "markdown",
   "id": "6bf1e9ca-285a-4f6a-af0f-f033c8ff455f",
   "metadata": {},
   "source": [
    "#### 📌 What’s in a name?\n",
    "\n",
    "In the example above, the loop variable was given the name num as a mnemonic; it is short for ‘number’. We can choose any name we want for variables. We might just as easily have chosen the name banana for the loop variable, as long as we use the same name when we invoke the variable inside the loop:"
   ]
  },
  {
   "cell_type": "code",
   "execution_count": 6,
   "id": "91aebec4-5f73-44bc-b093-2daed911c096",
   "metadata": {},
   "outputs": [
    {
     "name": "stdout",
     "output_type": "stream",
     "text": [
      "1\n",
      "3\n",
      "5\n",
      "7\n",
      "9\n",
      "11\n"
     ]
    }
   ],
   "source": [
    "odds = [1, 3, 5, 7, 9, 11]\n",
    "for banana in odds:\n",
    "    print(banana)"
   ]
  },
  {
   "cell_type": "markdown",
   "id": "6a25a5ac-6e7b-4320-865b-9739f35cde28",
   "metadata": {},
   "source": [
    "It is a good idea to choose variable names that are meaningful, otherwise it would be more difficult to understand what the loop is doing."
   ]
  },
  {
   "cell_type": "markdown",
   "id": "bc4e7a03-bfbf-4658-beda-19bc478ba81c",
   "metadata": {},
   "source": [
    "Here’s another loop that repeatedly updates a variable:"
   ]
  },
  {
   "cell_type": "code",
   "execution_count": 8,
   "id": "c063a511-d2c0-4319-9179-bc70d1bc3ba3",
   "metadata": {},
   "outputs": [
    {
     "name": "stdout",
     "output_type": "stream",
     "text": [
      "There are 6 GP undergraduate tracks.\n"
     ]
    }
   ],
   "source": [
    "length = 0\n",
    "gp_tracks = ['environment', 'space', 'humanitarian', 'energy', 'minerals', 'hazards']\n",
    "for value in gp_tracks:\n",
    "    length = length + 1\n",
    "print('There are', length, 'GP undergraduate tracks.')"
   ]
  },
  {
   "cell_type": "markdown",
   "id": "963fa156-952c-42a9-babd-85b83ab8084d",
   "metadata": {},
   "source": [
    "Note also that finding the length of an object is such a common operation that Python actually has a built-in function to do it called len, as we've seen in the previous tutorial:"
   ]
  },
  {
   "cell_type": "code",
   "execution_count": 12,
   "id": "9ef79d93-0d1f-4544-8b38-5d7e9ad0325a",
   "metadata": {},
   "outputs": [
    {
     "data": {
      "text/plain": [
       "6"
      ]
     },
     "execution_count": 12,
     "metadata": {},
     "output_type": "execute_result"
    }
   ],
   "source": [
    "len(gp_tracks)"
   ]
  },
  {
   "cell_type": "markdown",
   "id": "42f16dbf-3aaf-4921-a5c2-53f8a1b3ddf4",
   "metadata": {},
   "source": [
    "It’s worth tracing the execution of this little program step by step. Since there are six tracks in `gp_tracks`, the statement on line 4 will be executed six times. The first time around, length is zero (the value assigned to it on line 1) and value is `environment`. The statement adds 1 to the old value of length, producing 1, and updates length to refer to that new value. The next time around, value is `space` and length is 1, so length is updated to be 2. After one more update, length is 3; when there is nothing left for Python to process, the loop finishes and the print function on line 5 tells us our final answer.\n",
    "\n",
    "Note that a loop variable is a variable that is being used to record progress in a loop. It still exists after the loop is over, and we can re-use variables previously defined as loop variables as well:"
   ]
  },
  {
   "cell_type": "code",
   "execution_count": 11,
   "id": "8b270858-0134-4fda-b928-bee498af5c96",
   "metadata": {},
   "outputs": [
    {
     "name": "stdout",
     "output_type": "stream",
     "text": [
      "before the loop track is: wut?\n",
      "environment\n",
      "space\n",
      "humanitarian\n",
      "energy\n",
      "minerals\n",
      "hazards\n",
      "after the loop, track is: hazards\n"
     ]
    }
   ],
   "source": [
    "track = 'wut?'\n",
    "print('before the loop track is:', track)\n",
    "for track in ['environment', 'space', 'humanitarian', 'energy', 'minerals', 'hazards']:\n",
    "    print(track)\n",
    "print('after the loop, track is:', track)"
   ]
  },
  {
   "cell_type": "markdown",
   "id": "f15f8f27-e330-443a-afaf-4517470ecd23",
   "metadata": {},
   "source": [
    "#### 📌 range (not np.arange)\n",
    "\n",
    "Python has a built-in function called range that generates a sequence of numbers. range can accept 1, 2, or 3 parameters.\n",
    "\n",
    "- If one parameter is given, range generates a sequence of that length, starting at zero and incrementing by 1. For example, range(3) produces the numbers 0, 1, 2.\n",
    "- If two parameters are given, range starts at the first and ends just before the second, incrementing by one. For example, range(2, 5) produces 2, 3, 4.\n",
    "- If range is given 3 parameters, it starts at the first one, ends just before the second one, and increments by the third one. For example, range(3, 10, 2) produces 3, 5, 7, 9.\n",
    "\n",
    "For example"
   ]
  },
  {
   "cell_type": "code",
   "execution_count": 13,
   "id": "babcf94a-b728-4424-bb07-a4d24d0516d2",
   "metadata": {},
   "outputs": [
    {
     "name": "stdout",
     "output_type": "stream",
     "text": [
      "0\n",
      "1\n",
      "2\n",
      "3\n",
      "4\n"
     ]
    }
   ],
   "source": [
    "for i in range(5):\n",
    "    print(i)"
   ]
  },
  {
   "cell_type": "markdown",
   "id": "2684ed50-2a7b-4af6-b7ea-be098fc142da",
   "metadata": {},
   "source": [
    "### 🔎 Key Points\n",
    "\n",
    "- Use for variable in sequence to process the elements of a sequence one at a time.\n",
    "- The body of a for loop must be indented."
   ]
  },
  {
   "cell_type": "code",
   "execution_count": null,
   "id": "cf865972-38eb-4f3b-9e16-0bf4d1743b88",
   "metadata": {},
   "outputs": [],
   "source": []
  }
 ],
 "metadata": {
  "kernelspec": {
   "display_name": "Python 3 (ipykernel)",
   "language": "python",
   "name": "python3"
  },
  "language_info": {
   "codemirror_mode": {
    "name": "ipython",
    "version": 3
   },
   "file_extension": ".py",
   "mimetype": "text/x-python",
   "name": "python",
   "nbconvert_exporter": "python",
   "pygments_lexer": "ipython3",
   "version": "3.10.8"
  }
 },
 "nbformat": 4,
 "nbformat_minor": 5
}
