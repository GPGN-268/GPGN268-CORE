{
 "cells": [
  {
   "cell_type": "markdown",
   "id": "49e646ac-31bd-4352-bc05-c65734fd69af",
   "metadata": {},
   "source": [
    "# GPGN268 - Geophysical Data Analysis\n",
    "## Data Story 01 - Well Logging\n",
    "\n",
    "**Student:** Blaster the Burro  \n",
    "**Date:** May the 4th, 2078"
   ]
  },
  {
   "cell_type": "markdown",
   "id": "ae1ea1cb-20d5-461d-8591-411bc83fd18d",
   "metadata": {},
   "source": [
    "For this data Story you will look at well-logging data from the [International Ocean Discovery Program](https://www.iodp.org/). You already have some data from two expeditions in your `ds01-well-log` folder, but you're welcome to explore other datasets [here](https://mlp.ldeo.columbia.edu/logdb/) if you'd like."
   ]
  },
  {
   "cell_type": "markdown",
   "id": "2c59ae49-e907-453f-9a42-d3307c303fff",
   "metadata": {},
   "source": [
    "### 1. Write a few paragraphs introducing your story. \n",
    "- What is well-logging? \n",
    "- What data are you going to be looking at and where did it come from?\n",
    "- What are these type of data used for? What is usually the format of this data (time series, spatial data, 1D, 2D?)\n",
    "- What are some common tools used for analyzing and interpreting these type of data?"
   ]
  },
  {
   "cell_type": "markdown",
   "id": "7f197458-5d74-4195-9fae-abe06807724e",
   "metadata": {},
   "source": [
    "### 2. Data exploration\n",
    "- Take a first look at the data. What format are the data files? How can you read it?\n",
    "- What variables are in your data? Are the variable names meaningful? \n",
    "- Make a README file for your data with all information that you need to make sense of it.  \n",
    "- Perform any preprocessing or data clean up if necessary\n",
    "- Make some initial plots do visualize your data. Check some basic statistics. Are there potential outliers? How is the data distributed?"
   ]
  },
  {
   "cell_type": "markdown",
   "id": "8ffb7931-cbb7-4427-a94e-986d5ed25192",
   "metadata": {},
   "source": [
    "### 3. Data Analysis\n",
    "For this data story you will be reproducing [this plot](https://github.com/GPGN-268/GPGN268-CORE/blob/main/assignments/ds01-well-logging/figs/372-U1517A_log_summary.png) for all holes of expedition 372. You know how to plot, but you might not know everything you need to reproduce the plot below. That is OK. Figuring out how to do things in your own is one of the learning outcome of this course. If you fell stuck, here are a few options:\n",
    "\n",
    "- Research! Read the matplotlib documentation, google \"matplotlib + what you're trying to do\", etc.\n",
    "- Ask a peer\n",
    "- Create a post in the GitHub discussions with your question\n",
    "- Ask me or Seunghoo\n",
    "\n",
    "![](../figs/372-U1517A_log_summary.png)"
   ]
  },
  {
   "cell_type": "markdown",
   "id": "4b2c0573-f159-47ff-a0c5-597645c1ce86",
   "metadata": {},
   "source": [
    "### 4 Interpret the data. \n",
    "- Write a couple of paragraphs discussing what do you see in the data and justifying your observations and conclusions."
   ]
  },
  {
   "cell_type": "code",
   "execution_count": null,
   "id": "c6e00a68-88ff-43c3-af0d-f09b5e6f14a2",
   "metadata": {},
   "outputs": [],
   "source": []
  }
 ],
 "metadata": {
  "kernelspec": {
   "display_name": "Python 3 (ipykernel)",
   "language": "python",
   "name": "python3"
  },
  "language_info": {
   "codemirror_mode": {
    "name": "ipython",
    "version": 3
   },
   "file_extension": ".py",
   "mimetype": "text/x-python",
   "name": "python",
   "nbconvert_exporter": "python",
   "pygments_lexer": "ipython3",
   "version": "3.10.8"
  }
 },
 "nbformat": 4,
 "nbformat_minor": 5
}
